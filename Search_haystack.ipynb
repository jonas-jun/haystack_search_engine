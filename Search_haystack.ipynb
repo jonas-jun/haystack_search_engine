{
  "nbformat": 4,
  "nbformat_minor": 0,
  "metadata": {
    "colab": {
      "name": "Search_haystack.ipynb",
      "provenance": [],
      "collapsed_sections": [],
      "authorship_tag": "ABX9TyM6NWz1RYpkYIHTF+891CVa",
      "include_colab_link": true
    },
    "kernelspec": {
      "name": "python3",
      "display_name": "Python 3"
    },
    "language_info": {
      "name": "python"
    },
    "accelerator": "GPU",
    "widgets": {
      "application/vnd.jupyter.widget-state+json": {
        "410be08986a1475584b48898f56d40d4": {
          "model_module": "@jupyter-widgets/controls",
          "model_name": "HBoxModel",
          "state": {
            "_view_name": "HBoxView",
            "_dom_classes": [],
            "_model_name": "HBoxModel",
            "_view_module": "@jupyter-widgets/controls",
            "_model_module_version": "1.5.0",
            "_view_count": null,
            "_view_module_version": "1.5.0",
            "box_style": "",
            "layout": "IPY_MODEL_ecdf89d26d464c8baec78f5612fb0af0",
            "_model_module": "@jupyter-widgets/controls",
            "children": [
              "IPY_MODEL_0fe57e1d53bf460ba9775d2b51c3e584",
              "IPY_MODEL_d45818dd7ea44e5a85d2c4ef5cd20daa"
            ]
          }
        },
        "ecdf89d26d464c8baec78f5612fb0af0": {
          "model_module": "@jupyter-widgets/base",
          "model_name": "LayoutModel",
          "state": {
            "_view_name": "LayoutView",
            "grid_template_rows": null,
            "right": null,
            "justify_content": null,
            "_view_module": "@jupyter-widgets/base",
            "overflow": null,
            "_model_module_version": "1.2.0",
            "_view_count": null,
            "flex_flow": null,
            "width": null,
            "min_width": null,
            "border": null,
            "align_items": null,
            "bottom": null,
            "_model_module": "@jupyter-widgets/base",
            "top": null,
            "grid_column": null,
            "overflow_y": null,
            "overflow_x": null,
            "grid_auto_flow": null,
            "grid_area": null,
            "grid_template_columns": null,
            "flex": null,
            "_model_name": "LayoutModel",
            "justify_items": null,
            "grid_row": null,
            "max_height": null,
            "align_content": null,
            "visibility": null,
            "align_self": null,
            "height": null,
            "min_height": null,
            "padding": null,
            "grid_auto_rows": null,
            "grid_gap": null,
            "max_width": null,
            "order": null,
            "_view_module_version": "1.2.0",
            "grid_template_areas": null,
            "object_position": null,
            "object_fit": null,
            "grid_auto_columns": null,
            "margin": null,
            "display": null,
            "left": null
          }
        },
        "0fe57e1d53bf460ba9775d2b51c3e584": {
          "model_module": "@jupyter-widgets/controls",
          "model_name": "FloatProgressModel",
          "state": {
            "_view_name": "ProgressView",
            "style": "IPY_MODEL_cee00137efe1411ebd00e5bae423f5b2",
            "_dom_classes": [],
            "description": "Downloading: 100%",
            "_model_name": "FloatProgressModel",
            "bar_style": "success",
            "max": 1265,
            "_view_module": "@jupyter-widgets/controls",
            "_model_module_version": "1.5.0",
            "value": 1265,
            "_view_count": null,
            "_view_module_version": "1.5.0",
            "orientation": "horizontal",
            "min": 0,
            "description_tooltip": null,
            "_model_module": "@jupyter-widgets/controls",
            "layout": "IPY_MODEL_29401b8bbfa34df581efbd86b3080f31"
          }
        },
        "d45818dd7ea44e5a85d2c4ef5cd20daa": {
          "model_module": "@jupyter-widgets/controls",
          "model_name": "HTMLModel",
          "state": {
            "_view_name": "HTMLView",
            "style": "IPY_MODEL_c01e2b8937554830bf89f9f45130a19e",
            "_dom_classes": [],
            "description": "",
            "_model_name": "HTMLModel",
            "placeholder": "​",
            "_view_module": "@jupyter-widgets/controls",
            "_model_module_version": "1.5.0",
            "value": " 1.26k/1.26k [00:00&lt;00:00, 11.2kB/s]",
            "_view_count": null,
            "_view_module_version": "1.5.0",
            "description_tooltip": null,
            "_model_module": "@jupyter-widgets/controls",
            "layout": "IPY_MODEL_3feae6e45c1a4ea785ad59bab649cc59"
          }
        },
        "cee00137efe1411ebd00e5bae423f5b2": {
          "model_module": "@jupyter-widgets/controls",
          "model_name": "ProgressStyleModel",
          "state": {
            "_view_name": "StyleView",
            "_model_name": "ProgressStyleModel",
            "description_width": "initial",
            "_view_module": "@jupyter-widgets/base",
            "_model_module_version": "1.5.0",
            "_view_count": null,
            "_view_module_version": "1.2.0",
            "bar_color": null,
            "_model_module": "@jupyter-widgets/controls"
          }
        },
        "29401b8bbfa34df581efbd86b3080f31": {
          "model_module": "@jupyter-widgets/base",
          "model_name": "LayoutModel",
          "state": {
            "_view_name": "LayoutView",
            "grid_template_rows": null,
            "right": null,
            "justify_content": null,
            "_view_module": "@jupyter-widgets/base",
            "overflow": null,
            "_model_module_version": "1.2.0",
            "_view_count": null,
            "flex_flow": null,
            "width": null,
            "min_width": null,
            "border": null,
            "align_items": null,
            "bottom": null,
            "_model_module": "@jupyter-widgets/base",
            "top": null,
            "grid_column": null,
            "overflow_y": null,
            "overflow_x": null,
            "grid_auto_flow": null,
            "grid_area": null,
            "grid_template_columns": null,
            "flex": null,
            "_model_name": "LayoutModel",
            "justify_items": null,
            "grid_row": null,
            "max_height": null,
            "align_content": null,
            "visibility": null,
            "align_self": null,
            "height": null,
            "min_height": null,
            "padding": null,
            "grid_auto_rows": null,
            "grid_gap": null,
            "max_width": null,
            "order": null,
            "_view_module_version": "1.2.0",
            "grid_template_areas": null,
            "object_position": null,
            "object_fit": null,
            "grid_auto_columns": null,
            "margin": null,
            "display": null,
            "left": null
          }
        },
        "c01e2b8937554830bf89f9f45130a19e": {
          "model_module": "@jupyter-widgets/controls",
          "model_name": "DescriptionStyleModel",
          "state": {
            "_view_name": "StyleView",
            "_model_name": "DescriptionStyleModel",
            "description_width": "",
            "_view_module": "@jupyter-widgets/base",
            "_model_module_version": "1.5.0",
            "_view_count": null,
            "_view_module_version": "1.2.0",
            "_model_module": "@jupyter-widgets/controls"
          }
        },
        "3feae6e45c1a4ea785ad59bab649cc59": {
          "model_module": "@jupyter-widgets/base",
          "model_name": "LayoutModel",
          "state": {
            "_view_name": "LayoutView",
            "grid_template_rows": null,
            "right": null,
            "justify_content": null,
            "_view_module": "@jupyter-widgets/base",
            "overflow": null,
            "_model_module_version": "1.2.0",
            "_view_count": null,
            "flex_flow": null,
            "width": null,
            "min_width": null,
            "border": null,
            "align_items": null,
            "bottom": null,
            "_model_module": "@jupyter-widgets/base",
            "top": null,
            "grid_column": null,
            "overflow_y": null,
            "overflow_x": null,
            "grid_auto_flow": null,
            "grid_area": null,
            "grid_template_columns": null,
            "flex": null,
            "_model_name": "LayoutModel",
            "justify_items": null,
            "grid_row": null,
            "max_height": null,
            "align_content": null,
            "visibility": null,
            "align_self": null,
            "height": null,
            "min_height": null,
            "padding": null,
            "grid_auto_rows": null,
            "grid_gap": null,
            "max_width": null,
            "order": null,
            "_view_module_version": "1.2.0",
            "grid_template_areas": null,
            "object_position": null,
            "object_fit": null,
            "grid_auto_columns": null,
            "margin": null,
            "display": null,
            "left": null
          }
        },
        "a6f653476bcb40f39b7acf595d4a48dd": {
          "model_module": "@jupyter-widgets/controls",
          "model_name": "HBoxModel",
          "state": {
            "_view_name": "HBoxView",
            "_dom_classes": [],
            "_model_name": "HBoxModel",
            "_view_module": "@jupyter-widgets/controls",
            "_model_module_version": "1.5.0",
            "_view_count": null,
            "_view_module_version": "1.5.0",
            "box_style": "",
            "layout": "IPY_MODEL_200fddd31383487abc795a4041e9b867",
            "_model_module": "@jupyter-widgets/controls",
            "children": [
              "IPY_MODEL_6e6af66e25cb48a49a6046844f1fcea5",
              "IPY_MODEL_7e80113ace98417587c50fb0be37a20e"
            ]
          }
        },
        "200fddd31383487abc795a4041e9b867": {
          "model_module": "@jupyter-widgets/base",
          "model_name": "LayoutModel",
          "state": {
            "_view_name": "LayoutView",
            "grid_template_rows": null,
            "right": null,
            "justify_content": null,
            "_view_module": "@jupyter-widgets/base",
            "overflow": null,
            "_model_module_version": "1.2.0",
            "_view_count": null,
            "flex_flow": null,
            "width": null,
            "min_width": null,
            "border": null,
            "align_items": null,
            "bottom": null,
            "_model_module": "@jupyter-widgets/base",
            "top": null,
            "grid_column": null,
            "overflow_y": null,
            "overflow_x": null,
            "grid_auto_flow": null,
            "grid_area": null,
            "grid_template_columns": null,
            "flex": null,
            "_model_name": "LayoutModel",
            "justify_items": null,
            "grid_row": null,
            "max_height": null,
            "align_content": null,
            "visibility": null,
            "align_self": null,
            "height": null,
            "min_height": null,
            "padding": null,
            "grid_auto_rows": null,
            "grid_gap": null,
            "max_width": null,
            "order": null,
            "_view_module_version": "1.2.0",
            "grid_template_areas": null,
            "object_position": null,
            "object_fit": null,
            "grid_auto_columns": null,
            "margin": null,
            "display": null,
            "left": null
          }
        },
        "6e6af66e25cb48a49a6046844f1fcea5": {
          "model_module": "@jupyter-widgets/controls",
          "model_name": "FloatProgressModel",
          "state": {
            "_view_name": "ProgressView",
            "style": "IPY_MODEL_f0bd52bc74b14098950fd913972417f0",
            "_dom_classes": [],
            "description": "Downloading: 100%",
            "_model_name": "FloatProgressModel",
            "bar_style": "success",
            "max": 498637768,
            "_view_module": "@jupyter-widgets/controls",
            "_model_module_version": "1.5.0",
            "value": 498637768,
            "_view_count": null,
            "_view_module_version": "1.5.0",
            "orientation": "horizontal",
            "min": 0,
            "description_tooltip": null,
            "_model_module": "@jupyter-widgets/controls",
            "layout": "IPY_MODEL_db4939cd9322406184576e75cd0c4e66"
          }
        },
        "7e80113ace98417587c50fb0be37a20e": {
          "model_module": "@jupyter-widgets/controls",
          "model_name": "HTMLModel",
          "state": {
            "_view_name": "HTMLView",
            "style": "IPY_MODEL_8ffc5a7285aa4cf79c9f9936b4119ff7",
            "_dom_classes": [],
            "description": "",
            "_model_name": "HTMLModel",
            "placeholder": "​",
            "_view_module": "@jupyter-widgets/controls",
            "_model_module_version": "1.5.0",
            "value": " 499M/499M [00:10&lt;00:00, 46.6MB/s]",
            "_view_count": null,
            "_view_module_version": "1.5.0",
            "description_tooltip": null,
            "_model_module": "@jupyter-widgets/controls",
            "layout": "IPY_MODEL_0a9e9e5d88bd4d3fab8133cc4fda49eb"
          }
        },
        "f0bd52bc74b14098950fd913972417f0": {
          "model_module": "@jupyter-widgets/controls",
          "model_name": "ProgressStyleModel",
          "state": {
            "_view_name": "StyleView",
            "_model_name": "ProgressStyleModel",
            "description_width": "initial",
            "_view_module": "@jupyter-widgets/base",
            "_model_module_version": "1.5.0",
            "_view_count": null,
            "_view_module_version": "1.2.0",
            "bar_color": null,
            "_model_module": "@jupyter-widgets/controls"
          }
        },
        "db4939cd9322406184576e75cd0c4e66": {
          "model_module": "@jupyter-widgets/base",
          "model_name": "LayoutModel",
          "state": {
            "_view_name": "LayoutView",
            "grid_template_rows": null,
            "right": null,
            "justify_content": null,
            "_view_module": "@jupyter-widgets/base",
            "overflow": null,
            "_model_module_version": "1.2.0",
            "_view_count": null,
            "flex_flow": null,
            "width": null,
            "min_width": null,
            "border": null,
            "align_items": null,
            "bottom": null,
            "_model_module": "@jupyter-widgets/base",
            "top": null,
            "grid_column": null,
            "overflow_y": null,
            "overflow_x": null,
            "grid_auto_flow": null,
            "grid_area": null,
            "grid_template_columns": null,
            "flex": null,
            "_model_name": "LayoutModel",
            "justify_items": null,
            "grid_row": null,
            "max_height": null,
            "align_content": null,
            "visibility": null,
            "align_self": null,
            "height": null,
            "min_height": null,
            "padding": null,
            "grid_auto_rows": null,
            "grid_gap": null,
            "max_width": null,
            "order": null,
            "_view_module_version": "1.2.0",
            "grid_template_areas": null,
            "object_position": null,
            "object_fit": null,
            "grid_auto_columns": null,
            "margin": null,
            "display": null,
            "left": null
          }
        },
        "8ffc5a7285aa4cf79c9f9936b4119ff7": {
          "model_module": "@jupyter-widgets/controls",
          "model_name": "DescriptionStyleModel",
          "state": {
            "_view_name": "StyleView",
            "_model_name": "DescriptionStyleModel",
            "description_width": "",
            "_view_module": "@jupyter-widgets/base",
            "_model_module_version": "1.5.0",
            "_view_count": null,
            "_view_module_version": "1.2.0",
            "_model_module": "@jupyter-widgets/controls"
          }
        },
        "0a9e9e5d88bd4d3fab8133cc4fda49eb": {
          "model_module": "@jupyter-widgets/base",
          "model_name": "LayoutModel",
          "state": {
            "_view_name": "LayoutView",
            "grid_template_rows": null,
            "right": null,
            "justify_content": null,
            "_view_module": "@jupyter-widgets/base",
            "overflow": null,
            "_model_module_version": "1.2.0",
            "_view_count": null,
            "flex_flow": null,
            "width": null,
            "min_width": null,
            "border": null,
            "align_items": null,
            "bottom": null,
            "_model_module": "@jupyter-widgets/base",
            "top": null,
            "grid_column": null,
            "overflow_y": null,
            "overflow_x": null,
            "grid_auto_flow": null,
            "grid_area": null,
            "grid_template_columns": null,
            "flex": null,
            "_model_name": "LayoutModel",
            "justify_items": null,
            "grid_row": null,
            "max_height": null,
            "align_content": null,
            "visibility": null,
            "align_self": null,
            "height": null,
            "min_height": null,
            "padding": null,
            "grid_auto_rows": null,
            "grid_gap": null,
            "max_width": null,
            "order": null,
            "_view_module_version": "1.2.0",
            "grid_template_areas": null,
            "object_position": null,
            "object_fit": null,
            "grid_auto_columns": null,
            "margin": null,
            "display": null,
            "left": null
          }
        },
        "dc29eb01f12b40158b1423f47d67a141": {
          "model_module": "@jupyter-widgets/controls",
          "model_name": "HBoxModel",
          "state": {
            "_view_name": "HBoxView",
            "_dom_classes": [],
            "_model_name": "HBoxModel",
            "_view_module": "@jupyter-widgets/controls",
            "_model_module_version": "1.5.0",
            "_view_count": null,
            "_view_module_version": "1.5.0",
            "box_style": "",
            "layout": "IPY_MODEL_5c12216a92024817a56dd11e08b99c42",
            "_model_module": "@jupyter-widgets/controls",
            "children": [
              "IPY_MODEL_d74ba37a0ae24531b18c94ef886f8113",
              "IPY_MODEL_6f095de8a415442386f8324c33305140"
            ]
          }
        },
        "5c12216a92024817a56dd11e08b99c42": {
          "model_module": "@jupyter-widgets/base",
          "model_name": "LayoutModel",
          "state": {
            "_view_name": "LayoutView",
            "grid_template_rows": null,
            "right": null,
            "justify_content": null,
            "_view_module": "@jupyter-widgets/base",
            "overflow": null,
            "_model_module_version": "1.2.0",
            "_view_count": null,
            "flex_flow": null,
            "width": null,
            "min_width": null,
            "border": null,
            "align_items": null,
            "bottom": null,
            "_model_module": "@jupyter-widgets/base",
            "top": null,
            "grid_column": null,
            "overflow_y": null,
            "overflow_x": null,
            "grid_auto_flow": null,
            "grid_area": null,
            "grid_template_columns": null,
            "flex": null,
            "_model_name": "LayoutModel",
            "justify_items": null,
            "grid_row": null,
            "max_height": null,
            "align_content": null,
            "visibility": null,
            "align_self": null,
            "height": null,
            "min_height": null,
            "padding": null,
            "grid_auto_rows": null,
            "grid_gap": null,
            "max_width": null,
            "order": null,
            "_view_module_version": "1.2.0",
            "grid_template_areas": null,
            "object_position": null,
            "object_fit": null,
            "grid_auto_columns": null,
            "margin": null,
            "display": null,
            "left": null
          }
        },
        "d74ba37a0ae24531b18c94ef886f8113": {
          "model_module": "@jupyter-widgets/controls",
          "model_name": "FloatProgressModel",
          "state": {
            "_view_name": "ProgressView",
            "style": "IPY_MODEL_4d18e80cafe342f290a421aee8b13a57",
            "_dom_classes": [],
            "description": "Downloading: 100%",
            "_model_name": "FloatProgressModel",
            "bar_style": "success",
            "max": 898822,
            "_view_module": "@jupyter-widgets/controls",
            "_model_module_version": "1.5.0",
            "value": 898822,
            "_view_count": null,
            "_view_module_version": "1.5.0",
            "orientation": "horizontal",
            "min": 0,
            "description_tooltip": null,
            "_model_module": "@jupyter-widgets/controls",
            "layout": "IPY_MODEL_1d13ad122d76442d94b73eb1f711046f"
          }
        },
        "6f095de8a415442386f8324c33305140": {
          "model_module": "@jupyter-widgets/controls",
          "model_name": "HTMLModel",
          "state": {
            "_view_name": "HTMLView",
            "style": "IPY_MODEL_a1549f6de39b4d50895d8ec46780f090",
            "_dom_classes": [],
            "description": "",
            "_model_name": "HTMLModel",
            "placeholder": "​",
            "_view_module": "@jupyter-widgets/controls",
            "_model_module_version": "1.5.0",
            "value": " 899k/899k [00:00&lt;00:00, 1.90MB/s]",
            "_view_count": null,
            "_view_module_version": "1.5.0",
            "description_tooltip": null,
            "_model_module": "@jupyter-widgets/controls",
            "layout": "IPY_MODEL_a68059998dde4c33a0cee82293a58181"
          }
        },
        "4d18e80cafe342f290a421aee8b13a57": {
          "model_module": "@jupyter-widgets/controls",
          "model_name": "ProgressStyleModel",
          "state": {
            "_view_name": "StyleView",
            "_model_name": "ProgressStyleModel",
            "description_width": "initial",
            "_view_module": "@jupyter-widgets/base",
            "_model_module_version": "1.5.0",
            "_view_count": null,
            "_view_module_version": "1.2.0",
            "bar_color": null,
            "_model_module": "@jupyter-widgets/controls"
          }
        },
        "1d13ad122d76442d94b73eb1f711046f": {
          "model_module": "@jupyter-widgets/base",
          "model_name": "LayoutModel",
          "state": {
            "_view_name": "LayoutView",
            "grid_template_rows": null,
            "right": null,
            "justify_content": null,
            "_view_module": "@jupyter-widgets/base",
            "overflow": null,
            "_model_module_version": "1.2.0",
            "_view_count": null,
            "flex_flow": null,
            "width": null,
            "min_width": null,
            "border": null,
            "align_items": null,
            "bottom": null,
            "_model_module": "@jupyter-widgets/base",
            "top": null,
            "grid_column": null,
            "overflow_y": null,
            "overflow_x": null,
            "grid_auto_flow": null,
            "grid_area": null,
            "grid_template_columns": null,
            "flex": null,
            "_model_name": "LayoutModel",
            "justify_items": null,
            "grid_row": null,
            "max_height": null,
            "align_content": null,
            "visibility": null,
            "align_self": null,
            "height": null,
            "min_height": null,
            "padding": null,
            "grid_auto_rows": null,
            "grid_gap": null,
            "max_width": null,
            "order": null,
            "_view_module_version": "1.2.0",
            "grid_template_areas": null,
            "object_position": null,
            "object_fit": null,
            "grid_auto_columns": null,
            "margin": null,
            "display": null,
            "left": null
          }
        },
        "a1549f6de39b4d50895d8ec46780f090": {
          "model_module": "@jupyter-widgets/controls",
          "model_name": "DescriptionStyleModel",
          "state": {
            "_view_name": "StyleView",
            "_model_name": "DescriptionStyleModel",
            "description_width": "",
            "_view_module": "@jupyter-widgets/base",
            "_model_module_version": "1.5.0",
            "_view_count": null,
            "_view_module_version": "1.2.0",
            "_model_module": "@jupyter-widgets/controls"
          }
        },
        "a68059998dde4c33a0cee82293a58181": {
          "model_module": "@jupyter-widgets/base",
          "model_name": "LayoutModel",
          "state": {
            "_view_name": "LayoutView",
            "grid_template_rows": null,
            "right": null,
            "justify_content": null,
            "_view_module": "@jupyter-widgets/base",
            "overflow": null,
            "_model_module_version": "1.2.0",
            "_view_count": null,
            "flex_flow": null,
            "width": null,
            "min_width": null,
            "border": null,
            "align_items": null,
            "bottom": null,
            "_model_module": "@jupyter-widgets/base",
            "top": null,
            "grid_column": null,
            "overflow_y": null,
            "overflow_x": null,
            "grid_auto_flow": null,
            "grid_area": null,
            "grid_template_columns": null,
            "flex": null,
            "_model_name": "LayoutModel",
            "justify_items": null,
            "grid_row": null,
            "max_height": null,
            "align_content": null,
            "visibility": null,
            "align_self": null,
            "height": null,
            "min_height": null,
            "padding": null,
            "grid_auto_rows": null,
            "grid_gap": null,
            "max_width": null,
            "order": null,
            "_view_module_version": "1.2.0",
            "grid_template_areas": null,
            "object_position": null,
            "object_fit": null,
            "grid_auto_columns": null,
            "margin": null,
            "display": null,
            "left": null
          }
        },
        "66f1dff3d7424033ab52be74b86aea9c": {
          "model_module": "@jupyter-widgets/controls",
          "model_name": "HBoxModel",
          "state": {
            "_view_name": "HBoxView",
            "_dom_classes": [],
            "_model_name": "HBoxModel",
            "_view_module": "@jupyter-widgets/controls",
            "_model_module_version": "1.5.0",
            "_view_count": null,
            "_view_module_version": "1.5.0",
            "box_style": "",
            "layout": "IPY_MODEL_b1d689a7e0e24b8ba1ffdf8258b8f834",
            "_model_module": "@jupyter-widgets/controls",
            "children": [
              "IPY_MODEL_450f7969216e4a0b9ab515c0ea38212e",
              "IPY_MODEL_f8f691d637af40c09e72b58ecc33296d"
            ]
          }
        },
        "b1d689a7e0e24b8ba1ffdf8258b8f834": {
          "model_module": "@jupyter-widgets/base",
          "model_name": "LayoutModel",
          "state": {
            "_view_name": "LayoutView",
            "grid_template_rows": null,
            "right": null,
            "justify_content": null,
            "_view_module": "@jupyter-widgets/base",
            "overflow": null,
            "_model_module_version": "1.2.0",
            "_view_count": null,
            "flex_flow": null,
            "width": null,
            "min_width": null,
            "border": null,
            "align_items": null,
            "bottom": null,
            "_model_module": "@jupyter-widgets/base",
            "top": null,
            "grid_column": null,
            "overflow_y": null,
            "overflow_x": null,
            "grid_auto_flow": null,
            "grid_area": null,
            "grid_template_columns": null,
            "flex": null,
            "_model_name": "LayoutModel",
            "justify_items": null,
            "grid_row": null,
            "max_height": null,
            "align_content": null,
            "visibility": null,
            "align_self": null,
            "height": null,
            "min_height": null,
            "padding": null,
            "grid_auto_rows": null,
            "grid_gap": null,
            "max_width": null,
            "order": null,
            "_view_module_version": "1.2.0",
            "grid_template_areas": null,
            "object_position": null,
            "object_fit": null,
            "grid_auto_columns": null,
            "margin": null,
            "display": null,
            "left": null
          }
        },
        "450f7969216e4a0b9ab515c0ea38212e": {
          "model_module": "@jupyter-widgets/controls",
          "model_name": "FloatProgressModel",
          "state": {
            "_view_name": "ProgressView",
            "style": "IPY_MODEL_3c3a34b5da5f47aeb75311d505f6cb02",
            "_dom_classes": [],
            "description": "Downloading: 100%",
            "_model_name": "FloatProgressModel",
            "bar_style": "success",
            "max": 456318,
            "_view_module": "@jupyter-widgets/controls",
            "_model_module_version": "1.5.0",
            "value": 456318,
            "_view_count": null,
            "_view_module_version": "1.5.0",
            "orientation": "horizontal",
            "min": 0,
            "description_tooltip": null,
            "_model_module": "@jupyter-widgets/controls",
            "layout": "IPY_MODEL_d8f72bc236eb49f9a1ae104392f1f14d"
          }
        },
        "f8f691d637af40c09e72b58ecc33296d": {
          "model_module": "@jupyter-widgets/controls",
          "model_name": "HTMLModel",
          "state": {
            "_view_name": "HTMLView",
            "style": "IPY_MODEL_9f436a38982249f8b4ebce8dfc3076f7",
            "_dom_classes": [],
            "description": "",
            "_model_name": "HTMLModel",
            "placeholder": "​",
            "_view_module": "@jupyter-widgets/controls",
            "_model_module_version": "1.5.0",
            "value": " 456k/456k [00:00&lt;00:00, 1.88MB/s]",
            "_view_count": null,
            "_view_module_version": "1.5.0",
            "description_tooltip": null,
            "_model_module": "@jupyter-widgets/controls",
            "layout": "IPY_MODEL_c6657a18cdce44f8bebe9223650757c7"
          }
        },
        "3c3a34b5da5f47aeb75311d505f6cb02": {
          "model_module": "@jupyter-widgets/controls",
          "model_name": "ProgressStyleModel",
          "state": {
            "_view_name": "StyleView",
            "_model_name": "ProgressStyleModel",
            "description_width": "initial",
            "_view_module": "@jupyter-widgets/base",
            "_model_module_version": "1.5.0",
            "_view_count": null,
            "_view_module_version": "1.2.0",
            "bar_color": null,
            "_model_module": "@jupyter-widgets/controls"
          }
        },
        "d8f72bc236eb49f9a1ae104392f1f14d": {
          "model_module": "@jupyter-widgets/base",
          "model_name": "LayoutModel",
          "state": {
            "_view_name": "LayoutView",
            "grid_template_rows": null,
            "right": null,
            "justify_content": null,
            "_view_module": "@jupyter-widgets/base",
            "overflow": null,
            "_model_module_version": "1.2.0",
            "_view_count": null,
            "flex_flow": null,
            "width": null,
            "min_width": null,
            "border": null,
            "align_items": null,
            "bottom": null,
            "_model_module": "@jupyter-widgets/base",
            "top": null,
            "grid_column": null,
            "overflow_y": null,
            "overflow_x": null,
            "grid_auto_flow": null,
            "grid_area": null,
            "grid_template_columns": null,
            "flex": null,
            "_model_name": "LayoutModel",
            "justify_items": null,
            "grid_row": null,
            "max_height": null,
            "align_content": null,
            "visibility": null,
            "align_self": null,
            "height": null,
            "min_height": null,
            "padding": null,
            "grid_auto_rows": null,
            "grid_gap": null,
            "max_width": null,
            "order": null,
            "_view_module_version": "1.2.0",
            "grid_template_areas": null,
            "object_position": null,
            "object_fit": null,
            "grid_auto_columns": null,
            "margin": null,
            "display": null,
            "left": null
          }
        },
        "9f436a38982249f8b4ebce8dfc3076f7": {
          "model_module": "@jupyter-widgets/controls",
          "model_name": "DescriptionStyleModel",
          "state": {
            "_view_name": "StyleView",
            "_model_name": "DescriptionStyleModel",
            "description_width": "",
            "_view_module": "@jupyter-widgets/base",
            "_model_module_version": "1.5.0",
            "_view_count": null,
            "_view_module_version": "1.2.0",
            "_model_module": "@jupyter-widgets/controls"
          }
        },
        "c6657a18cdce44f8bebe9223650757c7": {
          "model_module": "@jupyter-widgets/base",
          "model_name": "LayoutModel",
          "state": {
            "_view_name": "LayoutView",
            "grid_template_rows": null,
            "right": null,
            "justify_content": null,
            "_view_module": "@jupyter-widgets/base",
            "overflow": null,
            "_model_module_version": "1.2.0",
            "_view_count": null,
            "flex_flow": null,
            "width": null,
            "min_width": null,
            "border": null,
            "align_items": null,
            "bottom": null,
            "_model_module": "@jupyter-widgets/base",
            "top": null,
            "grid_column": null,
            "overflow_y": null,
            "overflow_x": null,
            "grid_auto_flow": null,
            "grid_area": null,
            "grid_template_columns": null,
            "flex": null,
            "_model_name": "LayoutModel",
            "justify_items": null,
            "grid_row": null,
            "max_height": null,
            "align_content": null,
            "visibility": null,
            "align_self": null,
            "height": null,
            "min_height": null,
            "padding": null,
            "grid_auto_rows": null,
            "grid_gap": null,
            "max_width": null,
            "order": null,
            "_view_module_version": "1.2.0",
            "grid_template_areas": null,
            "object_position": null,
            "object_fit": null,
            "grid_auto_columns": null,
            "margin": null,
            "display": null,
            "left": null
          }
        },
        "1436be5208b2427ead00d069ea895690": {
          "model_module": "@jupyter-widgets/controls",
          "model_name": "HBoxModel",
          "state": {
            "_view_name": "HBoxView",
            "_dom_classes": [],
            "_model_name": "HBoxModel",
            "_view_module": "@jupyter-widgets/controls",
            "_model_module_version": "1.5.0",
            "_view_count": null,
            "_view_module_version": "1.5.0",
            "box_style": "",
            "layout": "IPY_MODEL_55a1c80be59541b2ba82cf4c8448bc43",
            "_model_module": "@jupyter-widgets/controls",
            "children": [
              "IPY_MODEL_e5cd5ece481345e287093f51c37fb6bb",
              "IPY_MODEL_1fa99d486ace49789a76ebdeeb0668c7"
            ]
          }
        },
        "55a1c80be59541b2ba82cf4c8448bc43": {
          "model_module": "@jupyter-widgets/base",
          "model_name": "LayoutModel",
          "state": {
            "_view_name": "LayoutView",
            "grid_template_rows": null,
            "right": null,
            "justify_content": null,
            "_view_module": "@jupyter-widgets/base",
            "overflow": null,
            "_model_module_version": "1.2.0",
            "_view_count": null,
            "flex_flow": null,
            "width": null,
            "min_width": null,
            "border": null,
            "align_items": null,
            "bottom": null,
            "_model_module": "@jupyter-widgets/base",
            "top": null,
            "grid_column": null,
            "overflow_y": null,
            "overflow_x": null,
            "grid_auto_flow": null,
            "grid_area": null,
            "grid_template_columns": null,
            "flex": null,
            "_model_name": "LayoutModel",
            "justify_items": null,
            "grid_row": null,
            "max_height": null,
            "align_content": null,
            "visibility": null,
            "align_self": null,
            "height": null,
            "min_height": null,
            "padding": null,
            "grid_auto_rows": null,
            "grid_gap": null,
            "max_width": null,
            "order": null,
            "_view_module_version": "1.2.0",
            "grid_template_areas": null,
            "object_position": null,
            "object_fit": null,
            "grid_auto_columns": null,
            "margin": null,
            "display": null,
            "left": null
          }
        },
        "e5cd5ece481345e287093f51c37fb6bb": {
          "model_module": "@jupyter-widgets/controls",
          "model_name": "FloatProgressModel",
          "state": {
            "_view_name": "ProgressView",
            "style": "IPY_MODEL_3ceea38ba22948f59b4a1d7eaf51796a",
            "_dom_classes": [],
            "description": "Downloading: 100%",
            "_model_name": "FloatProgressModel",
            "bar_style": "success",
            "max": 150,
            "_view_module": "@jupyter-widgets/controls",
            "_model_module_version": "1.5.0",
            "value": 150,
            "_view_count": null,
            "_view_module_version": "1.5.0",
            "orientation": "horizontal",
            "min": 0,
            "description_tooltip": null,
            "_model_module": "@jupyter-widgets/controls",
            "layout": "IPY_MODEL_346b165b614f45e787d028059e789a7b"
          }
        },
        "1fa99d486ace49789a76ebdeeb0668c7": {
          "model_module": "@jupyter-widgets/controls",
          "model_name": "HTMLModel",
          "state": {
            "_view_name": "HTMLView",
            "style": "IPY_MODEL_a1c6d41343254791b84a6cae9c0b797b",
            "_dom_classes": [],
            "description": "",
            "_model_name": "HTMLModel",
            "placeholder": "​",
            "_view_module": "@jupyter-widgets/controls",
            "_model_module_version": "1.5.0",
            "value": " 150/150 [00:00&lt;00:00, 1.50kB/s]",
            "_view_count": null,
            "_view_module_version": "1.5.0",
            "description_tooltip": null,
            "_model_module": "@jupyter-widgets/controls",
            "layout": "IPY_MODEL_df44d2d7ff1d4da890fbaf918ffc86f8"
          }
        },
        "3ceea38ba22948f59b4a1d7eaf51796a": {
          "model_module": "@jupyter-widgets/controls",
          "model_name": "ProgressStyleModel",
          "state": {
            "_view_name": "StyleView",
            "_model_name": "ProgressStyleModel",
            "description_width": "initial",
            "_view_module": "@jupyter-widgets/base",
            "_model_module_version": "1.5.0",
            "_view_count": null,
            "_view_module_version": "1.2.0",
            "bar_color": null,
            "_model_module": "@jupyter-widgets/controls"
          }
        },
        "346b165b614f45e787d028059e789a7b": {
          "model_module": "@jupyter-widgets/base",
          "model_name": "LayoutModel",
          "state": {
            "_view_name": "LayoutView",
            "grid_template_rows": null,
            "right": null,
            "justify_content": null,
            "_view_module": "@jupyter-widgets/base",
            "overflow": null,
            "_model_module_version": "1.2.0",
            "_view_count": null,
            "flex_flow": null,
            "width": null,
            "min_width": null,
            "border": null,
            "align_items": null,
            "bottom": null,
            "_model_module": "@jupyter-widgets/base",
            "top": null,
            "grid_column": null,
            "overflow_y": null,
            "overflow_x": null,
            "grid_auto_flow": null,
            "grid_area": null,
            "grid_template_columns": null,
            "flex": null,
            "_model_name": "LayoutModel",
            "justify_items": null,
            "grid_row": null,
            "max_height": null,
            "align_content": null,
            "visibility": null,
            "align_self": null,
            "height": null,
            "min_height": null,
            "padding": null,
            "grid_auto_rows": null,
            "grid_gap": null,
            "max_width": null,
            "order": null,
            "_view_module_version": "1.2.0",
            "grid_template_areas": null,
            "object_position": null,
            "object_fit": null,
            "grid_auto_columns": null,
            "margin": null,
            "display": null,
            "left": null
          }
        },
        "a1c6d41343254791b84a6cae9c0b797b": {
          "model_module": "@jupyter-widgets/controls",
          "model_name": "DescriptionStyleModel",
          "state": {
            "_view_name": "StyleView",
            "_model_name": "DescriptionStyleModel",
            "description_width": "",
            "_view_module": "@jupyter-widgets/base",
            "_model_module_version": "1.5.0",
            "_view_count": null,
            "_view_module_version": "1.2.0",
            "_model_module": "@jupyter-widgets/controls"
          }
        },
        "df44d2d7ff1d4da890fbaf918ffc86f8": {
          "model_module": "@jupyter-widgets/base",
          "model_name": "LayoutModel",
          "state": {
            "_view_name": "LayoutView",
            "grid_template_rows": null,
            "right": null,
            "justify_content": null,
            "_view_module": "@jupyter-widgets/base",
            "overflow": null,
            "_model_module_version": "1.2.0",
            "_view_count": null,
            "flex_flow": null,
            "width": null,
            "min_width": null,
            "border": null,
            "align_items": null,
            "bottom": null,
            "_model_module": "@jupyter-widgets/base",
            "top": null,
            "grid_column": null,
            "overflow_y": null,
            "overflow_x": null,
            "grid_auto_flow": null,
            "grid_area": null,
            "grid_template_columns": null,
            "flex": null,
            "_model_name": "LayoutModel",
            "justify_items": null,
            "grid_row": null,
            "max_height": null,
            "align_content": null,
            "visibility": null,
            "align_self": null,
            "height": null,
            "min_height": null,
            "padding": null,
            "grid_auto_rows": null,
            "grid_gap": null,
            "max_width": null,
            "order": null,
            "_view_module_version": "1.2.0",
            "grid_template_areas": null,
            "object_position": null,
            "object_fit": null,
            "grid_auto_columns": null,
            "margin": null,
            "display": null,
            "left": null
          }
        },
        "0bdba4d4540b4213bcac5e18b362bb11": {
          "model_module": "@jupyter-widgets/controls",
          "model_name": "HBoxModel",
          "state": {
            "_view_name": "HBoxView",
            "_dom_classes": [],
            "_model_name": "HBoxModel",
            "_view_module": "@jupyter-widgets/controls",
            "_model_module_version": "1.5.0",
            "_view_count": null,
            "_view_module_version": "1.5.0",
            "box_style": "",
            "layout": "IPY_MODEL_1803115ed08148beabc03caa7ad92fb3",
            "_model_module": "@jupyter-widgets/controls",
            "children": [
              "IPY_MODEL_1f38b228a76646ee9c696937035163db",
              "IPY_MODEL_587aa490a2744f32a1d77e141b1210f9"
            ]
          }
        },
        "1803115ed08148beabc03caa7ad92fb3": {
          "model_module": "@jupyter-widgets/base",
          "model_name": "LayoutModel",
          "state": {
            "_view_name": "LayoutView",
            "grid_template_rows": null,
            "right": null,
            "justify_content": null,
            "_view_module": "@jupyter-widgets/base",
            "overflow": null,
            "_model_module_version": "1.2.0",
            "_view_count": null,
            "flex_flow": null,
            "width": null,
            "min_width": null,
            "border": null,
            "align_items": null,
            "bottom": null,
            "_model_module": "@jupyter-widgets/base",
            "top": null,
            "grid_column": null,
            "overflow_y": null,
            "overflow_x": null,
            "grid_auto_flow": null,
            "grid_area": null,
            "grid_template_columns": null,
            "flex": null,
            "_model_name": "LayoutModel",
            "justify_items": null,
            "grid_row": null,
            "max_height": null,
            "align_content": null,
            "visibility": null,
            "align_self": null,
            "height": null,
            "min_height": null,
            "padding": null,
            "grid_auto_rows": null,
            "grid_gap": null,
            "max_width": null,
            "order": null,
            "_view_module_version": "1.2.0",
            "grid_template_areas": null,
            "object_position": null,
            "object_fit": null,
            "grid_auto_columns": null,
            "margin": null,
            "display": null,
            "left": null
          }
        },
        "1f38b228a76646ee9c696937035163db": {
          "model_module": "@jupyter-widgets/controls",
          "model_name": "FloatProgressModel",
          "state": {
            "_view_name": "ProgressView",
            "style": "IPY_MODEL_2d7f21bf55794e35a66ff7600335af07",
            "_dom_classes": [],
            "description": "Downloading: 100%",
            "_model_name": "FloatProgressModel",
            "bar_style": "success",
            "max": 190,
            "_view_module": "@jupyter-widgets/controls",
            "_model_module_version": "1.5.0",
            "value": 190,
            "_view_count": null,
            "_view_module_version": "1.5.0",
            "orientation": "horizontal",
            "min": 0,
            "description_tooltip": null,
            "_model_module": "@jupyter-widgets/controls",
            "layout": "IPY_MODEL_b5be963b85884ec2bffa67e0e0b92ee3"
          }
        },
        "587aa490a2744f32a1d77e141b1210f9": {
          "model_module": "@jupyter-widgets/controls",
          "model_name": "HTMLModel",
          "state": {
            "_view_name": "HTMLView",
            "style": "IPY_MODEL_d7c659141c834b6faabe617537b56691",
            "_dom_classes": [],
            "description": "",
            "_model_name": "HTMLModel",
            "placeholder": "​",
            "_view_module": "@jupyter-widgets/controls",
            "_model_module_version": "1.5.0",
            "value": " 190/190 [00:00&lt;00:00, 1.63kB/s]",
            "_view_count": null,
            "_view_module_version": "1.5.0",
            "description_tooltip": null,
            "_model_module": "@jupyter-widgets/controls",
            "layout": "IPY_MODEL_ddde65355b4944139fa3bf00944f08e8"
          }
        },
        "2d7f21bf55794e35a66ff7600335af07": {
          "model_module": "@jupyter-widgets/controls",
          "model_name": "ProgressStyleModel",
          "state": {
            "_view_name": "StyleView",
            "_model_name": "ProgressStyleModel",
            "description_width": "initial",
            "_view_module": "@jupyter-widgets/base",
            "_model_module_version": "1.5.0",
            "_view_count": null,
            "_view_module_version": "1.2.0",
            "bar_color": null,
            "_model_module": "@jupyter-widgets/controls"
          }
        },
        "b5be963b85884ec2bffa67e0e0b92ee3": {
          "model_module": "@jupyter-widgets/base",
          "model_name": "LayoutModel",
          "state": {
            "_view_name": "LayoutView",
            "grid_template_rows": null,
            "right": null,
            "justify_content": null,
            "_view_module": "@jupyter-widgets/base",
            "overflow": null,
            "_model_module_version": "1.2.0",
            "_view_count": null,
            "flex_flow": null,
            "width": null,
            "min_width": null,
            "border": null,
            "align_items": null,
            "bottom": null,
            "_model_module": "@jupyter-widgets/base",
            "top": null,
            "grid_column": null,
            "overflow_y": null,
            "overflow_x": null,
            "grid_auto_flow": null,
            "grid_area": null,
            "grid_template_columns": null,
            "flex": null,
            "_model_name": "LayoutModel",
            "justify_items": null,
            "grid_row": null,
            "max_height": null,
            "align_content": null,
            "visibility": null,
            "align_self": null,
            "height": null,
            "min_height": null,
            "padding": null,
            "grid_auto_rows": null,
            "grid_gap": null,
            "max_width": null,
            "order": null,
            "_view_module_version": "1.2.0",
            "grid_template_areas": null,
            "object_position": null,
            "object_fit": null,
            "grid_auto_columns": null,
            "margin": null,
            "display": null,
            "left": null
          }
        },
        "d7c659141c834b6faabe617537b56691": {
          "model_module": "@jupyter-widgets/controls",
          "model_name": "DescriptionStyleModel",
          "state": {
            "_view_name": "StyleView",
            "_model_name": "DescriptionStyleModel",
            "description_width": "",
            "_view_module": "@jupyter-widgets/base",
            "_model_module_version": "1.5.0",
            "_view_count": null,
            "_view_module_version": "1.2.0",
            "_model_module": "@jupyter-widgets/controls"
          }
        },
        "ddde65355b4944139fa3bf00944f08e8": {
          "model_module": "@jupyter-widgets/base",
          "model_name": "LayoutModel",
          "state": {
            "_view_name": "LayoutView",
            "grid_template_rows": null,
            "right": null,
            "justify_content": null,
            "_view_module": "@jupyter-widgets/base",
            "overflow": null,
            "_model_module_version": "1.2.0",
            "_view_count": null,
            "flex_flow": null,
            "width": null,
            "min_width": null,
            "border": null,
            "align_items": null,
            "bottom": null,
            "_model_module": "@jupyter-widgets/base",
            "top": null,
            "grid_column": null,
            "overflow_y": null,
            "overflow_x": null,
            "grid_auto_flow": null,
            "grid_area": null,
            "grid_template_columns": null,
            "flex": null,
            "_model_name": "LayoutModel",
            "justify_items": null,
            "grid_row": null,
            "max_height": null,
            "align_content": null,
            "visibility": null,
            "align_self": null,
            "height": null,
            "min_height": null,
            "padding": null,
            "grid_auto_rows": null,
            "grid_gap": null,
            "max_width": null,
            "order": null,
            "_view_module_version": "1.2.0",
            "grid_template_areas": null,
            "object_position": null,
            "object_fit": null,
            "grid_auto_columns": null,
            "margin": null,
            "display": null,
            "left": null
          }
        }
      }
    }
  },
  "cells": [
    {
      "cell_type": "markdown",
      "metadata": {
        "id": "view-in-github",
        "colab_type": "text"
      },
      "source": [
        "<a href=\"https://colab.research.google.com/github/jonas-jun/haystack_search_engine/blob/main/Search_haystack.ipynb\" target=\"_parent\"><img src=\"https://colab.research.google.com/assets/colab-badge.svg\" alt=\"Open In Colab\"/></a>"
      ]
    },
    {
      "cell_type": "markdown",
      "metadata": {
        "id": "dnfcshcG-Crs"
      },
      "source": [
        "# Building a Faster & Accurate CORD Search Engine\n",
        "\n",
        "**Dataset**  \n",
        "COVID-19 Open Research Dataset Challenge (CORD-19)  \n",
        "An AI challenge with AI2, CZI, MSR, Georgetown, NIH & The White House\n",
        "[link](https://www.kaggle.com/allen-institute-for-ai/CORD-19-research-challenge)\n",
        "\n",
        "\n",
        "**Reference**  \n",
        "Kaggle notebook [link](https://www.kaggle.com/officialshivanandroy/building-faster-accurate-cord-search-engine)  \n",
        "Medium [link](https://medium.com/analytics-vidhya/building-a-faster-and-accurate-search-engine-on-custom-dataset-with-transformers-d1277bedff3d)  \n",
        "haystack [link](https://github.com/deepset-ai/haystack)  \n",
        "Basic QA pipeline tutorial by Farm-Haystack [link](https://colab.research.google.com/github/deepset-ai/haystack/blob/master/tutorials/Tutorial1_Basic_QA_Pipeline.ipynb#scrollTo=ENjEn8L4Y8Fo)  \n"
      ]
    },
    {
      "cell_type": "markdown",
      "metadata": {
        "id": "pa0T5-NACpvp"
      },
      "source": [
        "## Prepare Haystack\n",
        "\n",
        "**What to build with Haystack**  \n",
        "- Ask questions in natural language and find granular answers in your documents.\n",
        "- Perform semantic search and retrieve documents according to meaning, not keywords\n",
        "- Use off-the-shelf models or fine-tune them to your domain.\n",
        "- Use user feedback to evaluate, benchmark, and continuously improve your live models.\n",
        "- Leverage existing knowledge bases and better handle the long tail of queries that chatbots receive.\n",
        "- Automate processes by automatically applying a list of questions to new documents and using the extracted answers."
      ]
    },
    {
      "cell_type": "markdown",
      "metadata": {
        "id": "SjDW8_DlC7__"
      },
      "source": [
        "**For installation**  \n",
        "- from github !pip install git+https://github.com/deepset-ai/haystack.git"
      ]
    },
    {
      "cell_type": "code",
      "metadata": {
        "id": "D7JPMVLwGxQ6",
        "colab": {
          "base_uri": "https://localhost:8080/"
        },
        "outputId": "04c3c654-9230-46ad-e317-41dac761bcb3"
      },
      "source": [
        "!pip install git+https://github.com/deepset-ai/haystack.git"
      ],
      "execution_count": 1,
      "outputs": [
        {
          "output_type": "stream",
          "text": [
            "Collecting git+https://github.com/deepset-ai/haystack.git\n",
            "  Cloning https://github.com/deepset-ai/haystack.git to /tmp/pip-req-build-wtf_uo1x\n",
            "  Running command git clone -q https://github.com/deepset-ai/haystack.git /tmp/pip-req-build-wtf_uo1x\n",
            "Collecting farm==0.6.2\n",
            "\u001b[?25l  Downloading https://files.pythonhosted.org/packages/5b/3d/91c184813b8205c697c13117154f3216f01709291155cc9ee88628cb63d2/farm-0.6.2-py3-none-any.whl (207kB)\n",
            "\u001b[K     |████████████████████████████████| 215kB 13.7MB/s \n",
            "\u001b[?25hCollecting fastapi\n",
            "\u001b[?25l  Downloading https://files.pythonhosted.org/packages/9f/33/1b643f650688ad368983bbaf3b0658438038ea84d775dd37393d826c3833/fastapi-0.63.0-py3-none-any.whl (50kB)\n",
            "\u001b[K     |████████████████████████████████| 51kB 7.5MB/s \n",
            "\u001b[?25hCollecting uvicorn\n",
            "\u001b[?25l  Downloading https://files.pythonhosted.org/packages/c8/de/953f0289508b1b92debdf0a6822d9b88ffb0c6ad471d709cf639a2c8a176/uvicorn-0.13.4-py3-none-any.whl (46kB)\n",
            "\u001b[K     |████████████████████████████████| 51kB 7.9MB/s \n",
            "\u001b[?25hCollecting gunicorn\n",
            "\u001b[?25l  Downloading https://files.pythonhosted.org/packages/28/5b/0d1f0296485a6af03366604142ea8f19f0833894db3512a40ed07b2a56dd/gunicorn-20.1.0.tar.gz (370kB)\n",
            "\u001b[K     |████████████████████████████████| 378kB 17.3MB/s \n",
            "\u001b[?25hRequirement already satisfied: pandas in /usr/local/lib/python3.7/dist-packages (from farm-haystack==0.7.0) (1.1.5)\n",
            "Requirement already satisfied: sklearn in /usr/local/lib/python3.7/dist-packages (from farm-haystack==0.7.0) (0.0)\n",
            "Collecting elasticsearch<=7.10,>=7.7\n",
            "\u001b[?25l  Downloading https://files.pythonhosted.org/packages/14/ba/f950bdd9164fb2bbbe5093700162234fbe61f446fe2300a8993761c132ca/elasticsearch-7.10.0-py2.py3-none-any.whl (321kB)\n",
            "\u001b[K     |████████████████████████████████| 327kB 18.2MB/s \n",
            "\u001b[?25hCollecting elastic-apm\n",
            "\u001b[?25l  Downloading https://files.pythonhosted.org/packages/b3/45/2393563691e629c4688bedf28734cac2ed0a44916f675ab36f9ec3349063/elastic_apm-6.1.0-cp37-cp37m-manylinux2010_x86_64.whl (325kB)\n",
            "\u001b[K     |████████████████████████████████| 327kB 45.9MB/s \n",
            "\u001b[?25hCollecting tox\n",
            "\u001b[?25l  Downloading https://files.pythonhosted.org/packages/ec/7e/4609fd0386d41f0b94fe952708970fb87cc1fb66e088758b1f0ab336802e/tox-3.23.0-py2.py3-none-any.whl (85kB)\n",
            "\u001b[K     |████████████████████████████████| 92kB 12.4MB/s \n",
            "\u001b[?25hRequirement already satisfied: coverage in /usr/local/lib/python3.7/dist-packages (from farm-haystack==0.7.0) (3.7.1)\n",
            "Collecting langdetect\n",
            "\u001b[?25l  Downloading https://files.pythonhosted.org/packages/56/a3/8407c1e62d5980188b4acc45ef3d94b933d14a2ebc9ef3505f22cf772570/langdetect-1.0.8.tar.gz (981kB)\n",
            "\u001b[K     |████████████████████████████████| 983kB 52.8MB/s \n",
            "\u001b[?25hCollecting python-multipart\n",
            "  Downloading https://files.pythonhosted.org/packages/46/40/a933ac570bf7aad12a298fc53458115cc74053474a72fbb8201d7dc06d3d/python-multipart-0.0.5.tar.gz\n",
            "Collecting python-docx\n",
            "\u001b[?25l  Downloading https://files.pythonhosted.org/packages/e4/83/c66a1934ed5ed8ab1dbb9931f1779079f8bca0f6bbc5793c06c4b5e7d671/python-docx-0.8.10.tar.gz (5.5MB)\n",
            "\u001b[K     |████████████████████████████████| 5.5MB 46.4MB/s \n",
            "\u001b[?25hRequirement already satisfied: sqlalchemy>=1.4.2 in /usr/local/lib/python3.7/dist-packages (from farm-haystack==0.7.0) (1.4.3)\n",
            "Collecting sqlalchemy_utils\n",
            "\u001b[?25l  Downloading https://files.pythonhosted.org/packages/14/68/e5301c4c960c79a32333b8805e52cb69d3d237aa869a773b4157ccb3eb26/SQLAlchemy-Utils-0.36.8.tar.gz (138kB)\n",
            "\u001b[K     |████████████████████████████████| 143kB 45.4MB/s \n",
            "\u001b[?25hCollecting faiss-cpu>=1.6.3\n",
            "\u001b[?25l  Downloading https://files.pythonhosted.org/packages/48/0c/efd43c4feac172867409f38f07949c36602355ec7196749d10f905d09228/faiss_cpu-1.7.0-cp37-cp37m-manylinux2014_x86_64.whl (8.1MB)\n",
            "\u001b[K     |████████████████████████████████| 8.2MB 46.2MB/s \n",
            "\u001b[?25hCollecting tika\n",
            "  Downloading https://files.pythonhosted.org/packages/96/07/244fbb9c74c0de8a3745cc9f3f496077a29f6418c7cbd90d68fd799574cb/tika-1.24.tar.gz\n",
            "Collecting httptools\n",
            "\u001b[?25l  Downloading https://files.pythonhosted.org/packages/44/52/295101ea5a60f9bee805a3ca422863600ba5cac4e2778ac7bd56efab1231/httptools-0.1.1-cp37-cp37m-manylinux1_x86_64.whl (217kB)\n",
            "\u001b[K     |████████████████████████████████| 225kB 51.4MB/s \n",
            "\u001b[?25hRequirement already satisfied: nltk in /usr/local/lib/python3.7/dist-packages (from farm-haystack==0.7.0) (3.2.5)\n",
            "Requirement already satisfied: more_itertools in /usr/local/lib/python3.7/dist-packages (from farm-haystack==0.7.0) (8.7.0)\n",
            "Requirement already satisfied: networkx in /usr/local/lib/python3.7/dist-packages (from farm-haystack==0.7.0) (2.5)\n",
            "Collecting pymilvus\n",
            "\u001b[?25l  Downloading https://files.pythonhosted.org/packages/83/21/9228abb2bcef23aca28c7778785f545a51f0c3948906ad4858f6b417afeb/pymilvus-1.0.1-py3-none-any.whl (55kB)\n",
            "\u001b[K     |████████████████████████████████| 61kB 8.5MB/s \n",
            "\u001b[?25hCollecting psycopg2-binary\n",
            "\u001b[?25l  Downloading https://files.pythonhosted.org/packages/6d/45/c519a5cfac05e14b1ccb242138915855293199840598e087b935ba1d86bc/psycopg2_binary-2.8.6-cp37-cp37m-manylinux1_x86_64.whl (3.0MB)\n",
            "\u001b[K     |████████████████████████████████| 3.0MB 46.5MB/s \n",
            "\u001b[?25hCollecting uvloop==0.14\n",
            "\u001b[?25l  Downloading https://files.pythonhosted.org/packages/9b/7a/54a80c03b555af21680a2f3692947b43a0d576d90c4c18cace0fee1ccc0e/uvloop-0.14.0-cp37-cp37m-manylinux2010_x86_64.whl (3.8MB)\n",
            "\u001b[K     |████████████████████████████████| 3.8MB 46.7MB/s \n",
            "\u001b[?25hRequirement already satisfied: scipy>=1.3.2 in /usr/local/lib/python3.7/dist-packages (from farm==0.6.2->farm-haystack==0.7.0) (1.4.1)\n",
            "Requirement already satisfied: dill in /usr/local/lib/python3.7/dist-packages (from farm==0.6.2->farm-haystack==0.7.0) (0.3.3)\n",
            "Collecting transformers==4.1.1\n",
            "\u001b[?25l  Downloading https://files.pythonhosted.org/packages/50/0c/7d5950fcd80b029be0a8891727ba21e0cd27692c407c51261c3c921f6da3/transformers-4.1.1-py3-none-any.whl (1.5MB)\n",
            "\u001b[K     |████████████████████████████████| 1.5MB 44.2MB/s \n",
            "\u001b[?25hCollecting seqeval\n",
            "\u001b[?25l  Downloading https://files.pythonhosted.org/packages/9d/2d/233c79d5b4e5ab1dbf111242299153f3caddddbb691219f363ad55ce783d/seqeval-1.2.2.tar.gz (43kB)\n",
            "\u001b[K     |████████████████████████████████| 51kB 8.3MB/s \n",
            "\u001b[?25hRequirement already satisfied: setuptools in /usr/local/lib/python3.7/dist-packages (from farm==0.6.2->farm-haystack==0.7.0) (54.2.0)\n",
            "Requirement already satisfied: flask in /usr/local/lib/python3.7/dist-packages (from farm==0.6.2->farm-haystack==0.7.0) (1.1.2)\n",
            "Requirement already satisfied: tqdm in /usr/local/lib/python3.7/dist-packages (from farm==0.6.2->farm-haystack==0.7.0) (4.41.1)\n",
            "Collecting dotmap\n",
            "  Downloading https://files.pythonhosted.org/packages/17/6f/c94adbb0e6d418ededbf1082a3067f178fb012573b960d446e5655e6fbe1/dotmap-1.3.23-py3-none-any.whl\n",
            "Requirement already satisfied: wheel in /usr/local/lib/python3.7/dist-packages (from farm==0.6.2->farm-haystack==0.7.0) (0.36.2)\n",
            "Collecting Werkzeug==0.16.1\n",
            "\u001b[?25l  Downloading https://files.pythonhosted.org/packages/c2/e4/a859d2fe516f466642fa5c6054fd9646271f9da26b0cac0d2f37fc858c8f/Werkzeug-0.16.1-py2.py3-none-any.whl (327kB)\n",
            "\u001b[K     |████████████████████████████████| 327kB 42.4MB/s \n",
            "\u001b[?25hCollecting flask-restplus\n",
            "\u001b[?25l  Downloading https://files.pythonhosted.org/packages/c2/a6/b17c848771f96ad039ad9e3ea275e842a16c39c4f3eb9f60ee330b20b6c2/flask_restplus-0.13.0-py2.py3-none-any.whl (2.5MB)\n",
            "\u001b[K     |████████████████████████████████| 2.5MB 44.6MB/s \n",
            "\u001b[?25hCollecting mlflow<=1.13.1\n",
            "\u001b[?25l  Downloading https://files.pythonhosted.org/packages/4c/4d/a6a4460e214842377dbc43d3e83bf976d564f7976822a9351adde60af44b/mlflow-1.13.1-py3-none-any.whl (14.1MB)\n",
            "\u001b[K     |████████████████████████████████| 14.2MB 229kB/s \n",
            "\u001b[?25hCollecting sentencepiece\n",
            "\u001b[?25l  Downloading https://files.pythonhosted.org/packages/f5/99/e0808cb947ba10f575839c43e8fafc9cc44e4a7a2c8f79c60db48220a577/sentencepiece-0.1.95-cp37-cp37m-manylinux2014_x86_64.whl (1.2MB)\n",
            "\u001b[K     |████████████████████████████████| 1.2MB 46.8MB/s \n",
            "\u001b[?25hCollecting torch<1.8,>1.5\n",
            "\u001b[?25l  Downloading https://files.pythonhosted.org/packages/90/5d/095ddddc91c8a769a68c791c019c5793f9c4456a688ddd235d6670924ecb/torch-1.7.1-cp37-cp37m-manylinux1_x86_64.whl (776.8MB)\n",
            "\u001b[K     |████████████████████████████████| 776.8MB 24kB/s \n",
            "\u001b[?25hCollecting flask-cors\n",
            "  Downloading https://files.pythonhosted.org/packages/db/84/901e700de86604b1c4ef4b57110d4e947c218b9997adf5d38fa7da493bce/Flask_Cors-3.0.10-py2.py3-none-any.whl\n",
            "Collecting boto3\n",
            "\u001b[?25l  Downloading https://files.pythonhosted.org/packages/37/d6/b16f09ce6fc7888e554cf289be0872456e9cab68d9944e4b8e25d3b6af93/boto3-1.17.42-py2.py3-none-any.whl (131kB)\n",
            "\u001b[K     |████████████████████████████████| 133kB 62.1MB/s \n",
            "\u001b[?25hRequirement already satisfied: psutil in /usr/local/lib/python3.7/dist-packages (from farm==0.6.2->farm-haystack==0.7.0) (5.4.8)\n",
            "Requirement already satisfied: requests in /usr/local/lib/python3.7/dist-packages (from farm==0.6.2->farm-haystack==0.7.0) (2.23.0)\n",
            "Collecting starlette==0.13.6\n",
            "\u001b[?25l  Downloading https://files.pythonhosted.org/packages/c5/a4/c9e228d7d47044ce4c83ba002f28ff479e542455f0499198a3f77c94f564/starlette-0.13.6-py3-none-any.whl (59kB)\n",
            "\u001b[K     |████████████████████████████████| 61kB 9.4MB/s \n",
            "\u001b[?25hCollecting pydantic<2.0.0,>=1.0.0\n",
            "\u001b[?25l  Downloading https://files.pythonhosted.org/packages/2b/a3/0ffdb6c63f45f10d19b8e8b32670b22ed089cafb29732f6bf8ce518821fb/pydantic-1.8.1-cp37-cp37m-manylinux2014_x86_64.whl (10.1MB)\n",
            "\u001b[K     |████████████████████████████████| 10.1MB 47.4MB/s \n",
            "\u001b[?25hRequirement already satisfied: typing-extensions; python_version < \"3.8\" in /usr/local/lib/python3.7/dist-packages (from uvicorn->farm-haystack==0.7.0) (3.7.4.3)\n",
            "Requirement already satisfied: click==7.* in /usr/local/lib/python3.7/dist-packages (from uvicorn->farm-haystack==0.7.0) (7.1.2)\n",
            "Collecting h11>=0.8\n",
            "\u001b[?25l  Downloading https://files.pythonhosted.org/packages/60/0f/7a0eeea938eaf61074f29fed9717f2010e8d0e0905d36b38d3275a1e4622/h11-0.12.0-py3-none-any.whl (54kB)\n",
            "\u001b[K     |████████████████████████████████| 61kB 9.2MB/s \n",
            "\u001b[?25hRequirement already satisfied: pytz>=2017.2 in /usr/local/lib/python3.7/dist-packages (from pandas->farm-haystack==0.7.0) (2018.9)\n",
            "Requirement already satisfied: python-dateutil>=2.7.3 in /usr/local/lib/python3.7/dist-packages (from pandas->farm-haystack==0.7.0) (2.8.1)\n",
            "Requirement already satisfied: numpy>=1.15.4 in /usr/local/lib/python3.7/dist-packages (from pandas->farm-haystack==0.7.0) (1.19.5)\n",
            "Requirement already satisfied: scikit-learn in /usr/local/lib/python3.7/dist-packages (from sklearn->farm-haystack==0.7.0) (0.22.2.post1)\n",
            "Requirement already satisfied: urllib3<2,>=1.21.1 in /usr/local/lib/python3.7/dist-packages (from elasticsearch<=7.10,>=7.7->farm-haystack==0.7.0) (1.24.3)\n",
            "Requirement already satisfied: certifi in /usr/local/lib/python3.7/dist-packages (from elasticsearch<=7.10,>=7.7->farm-haystack==0.7.0) (2020.12.5)\n",
            "Requirement already satisfied: importlib-metadata>=0.12; python_version < \"3.8\" in /usr/local/lib/python3.7/dist-packages (from tox->farm-haystack==0.7.0) (3.8.1)\n",
            "Collecting pluggy>=0.12.0\n",
            "  Downloading https://files.pythonhosted.org/packages/a0/28/85c7aa31b80d150b772fbe4a229487bc6644da9ccb7e427dd8cc60cb8a62/pluggy-0.13.1-py2.py3-none-any.whl\n",
            "Requirement already satisfied: toml>=0.9.4 in /usr/local/lib/python3.7/dist-packages (from tox->farm-haystack==0.7.0) (0.10.2)\n",
            "Collecting virtualenv!=20.0.0,!=20.0.1,!=20.0.2,!=20.0.3,!=20.0.4,!=20.0.5,!=20.0.6,!=20.0.7,>=16.0.0\n",
            "\u001b[?25l  Downloading https://files.pythonhosted.org/packages/91/fb/ca6c071f4231e06a9f0c3bd81c15c233bbacd4a7d9dbb7438d95fece8a1e/virtualenv-20.4.3-py2.py3-none-any.whl (7.2MB)\n",
            "\u001b[K     |████████████████████████████████| 7.2MB 50.4MB/s \n",
            "\u001b[?25hRequirement already satisfied: py>=1.4.17 in /usr/local/lib/python3.7/dist-packages (from tox->farm-haystack==0.7.0) (1.10.0)\n",
            "Requirement already satisfied: packaging>=14 in /usr/local/lib/python3.7/dist-packages (from tox->farm-haystack==0.7.0) (20.9)\n",
            "Requirement already satisfied: six>=1.14.0 in /usr/local/lib/python3.7/dist-packages (from tox->farm-haystack==0.7.0) (1.15.0)\n",
            "Requirement already satisfied: filelock>=3.0.0 in /usr/local/lib/python3.7/dist-packages (from tox->farm-haystack==0.7.0) (3.0.12)\n",
            "Requirement already satisfied: lxml>=2.3.2 in /usr/local/lib/python3.7/dist-packages (from python-docx->farm-haystack==0.7.0) (4.2.6)\n",
            "Requirement already satisfied: greenlet!=0.4.17; python_version >= \"3\" in /usr/local/lib/python3.7/dist-packages (from sqlalchemy>=1.4.2->farm-haystack==0.7.0) (1.0.0)\n",
            "Requirement already satisfied: decorator>=4.3.0 in /usr/local/lib/python3.7/dist-packages (from networkx->farm-haystack==0.7.0) (4.4.2)\n",
            "Collecting grpcio-tools>=1.22.0\n",
            "\u001b[?25l  Downloading https://files.pythonhosted.org/packages/d4/e2/da36d345c8779599ddd9ae1a2920f40949c5e87003e6aafed1c136cd5579/grpcio_tools-1.36.1-cp37-cp37m-manylinux2014_x86_64.whl (2.5MB)\n",
            "\u001b[K     |████████████████████████████████| 2.5MB 41.2MB/s \n",
            "\u001b[?25hCollecting ujson>=1.35\n",
            "\u001b[?25l  Downloading https://files.pythonhosted.org/packages/17/4e/50e8e4cf5f00b537095711c2c86ac4d7191aed2b4fffd5a19f06898f6929/ujson-4.0.2-cp37-cp37m-manylinux1_x86_64.whl (179kB)\n",
            "\u001b[K     |████████████████████████████████| 184kB 59.4MB/s \n",
            "\u001b[?25hRequirement already satisfied: grpcio>=1.22.0 in /usr/local/lib/python3.7/dist-packages (from pymilvus->farm-haystack==0.7.0) (1.32.0)\n",
            "Collecting tokenizers==0.9.4\n",
            "\u001b[?25l  Downloading https://files.pythonhosted.org/packages/fb/36/59e4a62254c5fcb43894c6b0e9403ec6f4238cc2422a003ed2e6279a1784/tokenizers-0.9.4-cp37-cp37m-manylinux2010_x86_64.whl (2.9MB)\n",
            "\u001b[K     |████████████████████████████████| 2.9MB 49.3MB/s \n",
            "\u001b[?25hRequirement already satisfied: regex!=2019.12.17 in /usr/local/lib/python3.7/dist-packages (from transformers==4.1.1->farm==0.6.2->farm-haystack==0.7.0) (2019.12.20)\n",
            "Collecting sacremoses\n",
            "\u001b[?25l  Downloading https://files.pythonhosted.org/packages/7d/34/09d19aff26edcc8eb2a01bed8e98f13a1537005d31e95233fd48216eed10/sacremoses-0.0.43.tar.gz (883kB)\n",
            "\u001b[K     |████████████████████████████████| 890kB 54.5MB/s \n",
            "\u001b[?25hRequirement already satisfied: Jinja2>=2.10.1 in /usr/local/lib/python3.7/dist-packages (from flask->farm==0.6.2->farm-haystack==0.7.0) (2.11.3)\n",
            "Requirement already satisfied: itsdangerous>=0.24 in /usr/local/lib/python3.7/dist-packages (from flask->farm==0.6.2->farm-haystack==0.7.0) (1.1.0)\n",
            "Collecting aniso8601>=0.82\n",
            "\u001b[?25l  Downloading https://files.pythonhosted.org/packages/e3/04/e97c12dc034791d7b504860acfcdd2963fa21ae61eaca1c9d31245f812c3/aniso8601-9.0.1-py2.py3-none-any.whl (52kB)\n",
            "\u001b[K     |████████████████████████████████| 61kB 8.3MB/s \n",
            "\u001b[?25hRequirement already satisfied: jsonschema in /usr/local/lib/python3.7/dist-packages (from flask-restplus->farm==0.6.2->farm-haystack==0.7.0) (2.6.0)\n",
            "Collecting docker>=4.0.0\n",
            "\u001b[?25l  Downloading https://files.pythonhosted.org/packages/c4/22/410313ad554477e87ec406d38d85f810e61ddb0d2fc44e64994857476de9/docker-4.4.4-py2.py3-none-any.whl (147kB)\n",
            "\u001b[K     |████████████████████████████████| 153kB 59.2MB/s \n",
            "\u001b[?25hCollecting databricks-cli>=0.8.7\n",
            "\u001b[?25l  Downloading https://files.pythonhosted.org/packages/bc/af/631375abc29e59cedfa4467a5f7755503ba19898890751e1f2636ef02f92/databricks-cli-0.14.3.tar.gz (54kB)\n",
            "\u001b[K     |████████████████████████████████| 61kB 8.8MB/s \n",
            "\u001b[?25hCollecting alembic<=1.4.1\n",
            "\u001b[?25l  Downloading https://files.pythonhosted.org/packages/e0/e9/359dbb77c35c419df0aedeb1d53e71e7e3f438ff64a8fdb048c907404de3/alembic-1.4.1.tar.gz (1.1MB)\n",
            "\u001b[K     |████████████████████████████████| 1.1MB 48.6MB/s \n",
            "\u001b[?25hRequirement already satisfied: entrypoints in /usr/local/lib/python3.7/dist-packages (from mlflow<=1.13.1->farm==0.6.2->farm-haystack==0.7.0) (0.3)\n",
            "Collecting azure-storage-blob>=12.0.0\n",
            "\u001b[?25l  Downloading https://files.pythonhosted.org/packages/09/14/4ca417a9c92b0fb93516575dd7be9b058bf13d531dcc21239b5f8f216a69/azure_storage_blob-12.8.0-py2.py3-none-any.whl (341kB)\n",
            "\u001b[K     |████████████████████████████████| 348kB 49.2MB/s \n",
            "\u001b[?25hCollecting prometheus-flask-exporter\n",
            "  Downloading https://files.pythonhosted.org/packages/4c/d5/8a046d683c2cc084b6a502812827ede69b1064f95d93f94b83f809b21723/prometheus_flask_exporter-0.18.1.tar.gz\n",
            "Requirement already satisfied: protobuf>=3.6.0 in /usr/local/lib/python3.7/dist-packages (from mlflow<=1.13.1->farm==0.6.2->farm-haystack==0.7.0) (3.12.4)\n",
            "Requirement already satisfied: sqlparse>=0.3.1 in /usr/local/lib/python3.7/dist-packages (from mlflow<=1.13.1->farm==0.6.2->farm-haystack==0.7.0) (0.4.1)\n",
            "Collecting gitpython>=2.1.0\n",
            "\u001b[?25l  Downloading https://files.pythonhosted.org/packages/a6/99/98019716955ba243657daedd1de8f3a88ca1f5b75057c38e959db22fb87b/GitPython-3.1.14-py3-none-any.whl (159kB)\n",
            "\u001b[K     |████████████████████████████████| 163kB 51.9MB/s \n",
            "\u001b[?25hCollecting querystring-parser\n",
            "  Downloading https://files.pythonhosted.org/packages/88/6b/572b2590fd55114118bf08bde63c0a421dcc82d593700f3e2ad89908a8a9/querystring_parser-1.2.4-py2.py3-none-any.whl\n",
            "Requirement already satisfied: pyyaml in /usr/local/lib/python3.7/dist-packages (from mlflow<=1.13.1->farm==0.6.2->farm-haystack==0.7.0) (3.13)\n",
            "Requirement already satisfied: cloudpickle in /usr/local/lib/python3.7/dist-packages (from mlflow<=1.13.1->farm==0.6.2->farm-haystack==0.7.0) (1.3.0)\n",
            "Collecting s3transfer<0.4.0,>=0.3.0\n",
            "\u001b[?25l  Downloading https://files.pythonhosted.org/packages/98/14/0b4be62b65c52d6d1c442f24e02d2a9889a73d3c352002e14c70f84a679f/s3transfer-0.3.6-py2.py3-none-any.whl (73kB)\n",
            "\u001b[K     |████████████████████████████████| 81kB 11.7MB/s \n",
            "\u001b[?25hCollecting botocore<1.21.0,>=1.20.42\n",
            "\u001b[?25l  Downloading https://files.pythonhosted.org/packages/00/bc/53cbcc88c72f014f199bc2b8a12af1d5c234eee6a372b2765a7e4086a752/botocore-1.20.42-py2.py3-none-any.whl (7.4MB)\n",
            "\u001b[K     |████████████████████████████████| 7.4MB 47.7MB/s \n",
            "\u001b[?25hCollecting jmespath<1.0.0,>=0.7.1\n",
            "  Downloading https://files.pythonhosted.org/packages/07/cb/5f001272b6faeb23c1c9e0acc04d48eaaf5c862c17709d20e3469c6e0139/jmespath-0.10.0-py2.py3-none-any.whl\n",
            "Requirement already satisfied: chardet<4,>=3.0.2 in /usr/local/lib/python3.7/dist-packages (from requests->farm==0.6.2->farm-haystack==0.7.0) (3.0.4)\n",
            "Requirement already satisfied: idna<3,>=2.5 in /usr/local/lib/python3.7/dist-packages (from requests->farm==0.6.2->farm-haystack==0.7.0) (2.10)\n",
            "Requirement already satisfied: joblib>=0.11 in /usr/local/lib/python3.7/dist-packages (from scikit-learn->sklearn->farm-haystack==0.7.0) (1.0.1)\n",
            "Requirement already satisfied: zipp>=0.5 in /usr/local/lib/python3.7/dist-packages (from importlib-metadata>=0.12; python_version < \"3.8\"->tox->farm-haystack==0.7.0) (3.4.1)\n",
            "Collecting distlib<1,>=0.3.1\n",
            "\u001b[?25l  Downloading https://files.pythonhosted.org/packages/f5/0a/490fa011d699bb5a5f3a0cf57de82237f52a6db9d40f33c53b2736c9a1f9/distlib-0.3.1-py2.py3-none-any.whl (335kB)\n",
            "\u001b[K     |████████████████████████████████| 337kB 58.4MB/s \n",
            "\u001b[?25hRequirement already satisfied: appdirs<2,>=1.4.3 in /usr/local/lib/python3.7/dist-packages (from virtualenv!=20.0.0,!=20.0.1,!=20.0.2,!=20.0.3,!=20.0.4,!=20.0.5,!=20.0.6,!=20.0.7,>=16.0.0->tox->farm-haystack==0.7.0) (1.4.4)\n",
            "Requirement already satisfied: pyparsing>=2.0.2 in /usr/local/lib/python3.7/dist-packages (from packaging>=14->tox->farm-haystack==0.7.0) (2.4.7)\n",
            "Requirement already satisfied: MarkupSafe>=0.23 in /usr/local/lib/python3.7/dist-packages (from Jinja2>=2.10.1->flask->farm==0.6.2->farm-haystack==0.7.0) (1.1.1)\n",
            "Collecting websocket-client>=0.32.0\n",
            "\u001b[?25l  Downloading https://files.pythonhosted.org/packages/08/33/80e0d4f60e84a1ddd9a03f340be1065a2a363c47ce65c4bd3bae65ce9631/websocket_client-0.58.0-py2.py3-none-any.whl (61kB)\n",
            "\u001b[K     |████████████████████████████████| 61kB 9.1MB/s \n",
            "\u001b[?25hRequirement already satisfied: tabulate>=0.7.7 in /usr/local/lib/python3.7/dist-packages (from databricks-cli>=0.8.7->mlflow<=1.13.1->farm==0.6.2->farm-haystack==0.7.0) (0.8.9)\n",
            "Collecting Mako\n",
            "\u001b[?25l  Downloading https://files.pythonhosted.org/packages/f3/54/dbc07fbb20865d3b78fdb7cf7fa713e2cba4f87f71100074ef2dc9f9d1f7/Mako-1.1.4-py2.py3-none-any.whl (75kB)\n",
            "\u001b[K     |████████████████████████████████| 81kB 10.2MB/s \n",
            "\u001b[?25hCollecting python-editor>=0.3\n",
            "  Downloading https://files.pythonhosted.org/packages/c6/d3/201fc3abe391bbae6606e6f1d598c15d367033332bd54352b12f35513717/python_editor-1.0.4-py3-none-any.whl\n",
            "Collecting msrest>=0.6.18\n",
            "\u001b[?25l  Downloading https://files.pythonhosted.org/packages/e8/cc/6c96bfb3d3cf4c3bdedfa6b46503223f4c2a4fa388377697e0f8082a4fed/msrest-0.6.21-py2.py3-none-any.whl (85kB)\n",
            "\u001b[K     |████████████████████████████████| 92kB 11.5MB/s \n",
            "\u001b[?25hCollecting azure-core<2.0.0,>=1.10.0\n",
            "\u001b[?25l  Downloading https://files.pythonhosted.org/packages/3d/6d/95ca41cace692206529bddae67ee0a079e97f250951f28a213eea16d5050/azure_core-1.12.0-py2.py3-none-any.whl (130kB)\n",
            "\u001b[K     |████████████████████████████████| 133kB 59.4MB/s \n",
            "\u001b[?25hCollecting cryptography>=2.1.4\n",
            "\u001b[?25l  Downloading https://files.pythonhosted.org/packages/b2/26/7af637e6a7e87258b963f1731c5982fb31cd507f0d90d91836e446955d02/cryptography-3.4.7-cp36-abi3-manylinux2014_x86_64.whl (3.2MB)\n",
            "\u001b[K     |████████████████████████████████| 3.2MB 47.9MB/s \n",
            "\u001b[?25hRequirement already satisfied: prometheus_client in /usr/local/lib/python3.7/dist-packages (from prometheus-flask-exporter->mlflow<=1.13.1->farm==0.6.2->farm-haystack==0.7.0) (0.9.0)\n",
            "Collecting gitdb<5,>=4.0.1\n",
            "\u001b[?25l  Downloading https://files.pythonhosted.org/packages/ea/e8/f414d1a4f0bbc668ed441f74f44c116d9816833a48bf81d22b697090dba8/gitdb-4.0.7-py3-none-any.whl (63kB)\n",
            "\u001b[K     |████████████████████████████████| 71kB 10.4MB/s \n",
            "\u001b[?25hCollecting isodate>=0.6.0\n",
            "\u001b[?25l  Downloading https://files.pythonhosted.org/packages/9b/9f/b36f7774ff5ea8e428fdcfc4bb332c39ee5b9362ddd3d40d9516a55221b2/isodate-0.6.0-py2.py3-none-any.whl (45kB)\n",
            "\u001b[K     |████████████████████████████████| 51kB 8.5MB/s \n",
            "\u001b[?25hRequirement already satisfied: requests-oauthlib>=0.5.0 in /usr/local/lib/python3.7/dist-packages (from msrest>=0.6.18->azure-storage-blob>=12.0.0->mlflow<=1.13.1->farm==0.6.2->farm-haystack==0.7.0) (1.3.0)\n",
            "Requirement already satisfied: cffi>=1.12 in /usr/local/lib/python3.7/dist-packages (from cryptography>=2.1.4->azure-storage-blob>=12.0.0->mlflow<=1.13.1->farm==0.6.2->farm-haystack==0.7.0) (1.14.5)\n",
            "Collecting smmap<5,>=3.0.1\n",
            "  Downloading https://files.pythonhosted.org/packages/68/ee/d540eb5e5996eb81c26ceffac6ee49041d473bc5125f2aa995cf51ec1cf1/smmap-4.0.0-py2.py3-none-any.whl\n",
            "Requirement already satisfied: oauthlib>=3.0.0 in /usr/local/lib/python3.7/dist-packages (from requests-oauthlib>=0.5.0->msrest>=0.6.18->azure-storage-blob>=12.0.0->mlflow<=1.13.1->farm==0.6.2->farm-haystack==0.7.0) (3.1.0)\n",
            "Requirement already satisfied: pycparser in /usr/local/lib/python3.7/dist-packages (from cffi>=1.12->cryptography>=2.1.4->azure-storage-blob>=12.0.0->mlflow<=1.13.1->farm==0.6.2->farm-haystack==0.7.0) (2.20)\n",
            "Building wheels for collected packages: farm-haystack, gunicorn, langdetect, python-multipart, python-docx, sqlalchemy-utils, tika, seqeval, sacremoses, databricks-cli, alembic, prometheus-flask-exporter\n",
            "  Building wheel for farm-haystack (setup.py) ... \u001b[?25l\u001b[?25hdone\n",
            "  Created wheel for farm-haystack: filename=farm_haystack-0.7.0-cp37-none-any.whl size=144243 sha256=f689e25b9e5833d32ab668e271139937caa76a1e4dd311a17101838031581a82\n",
            "  Stored in directory: /tmp/pip-ephem-wheel-cache-bfjt2zi6/wheels/ab/41/a4/4fbf362de283352078ecb6705c08b6525347aaea2eead2a60c\n",
            "  Building wheel for gunicorn (setup.py) ... \u001b[?25l\u001b[?25hdone\n",
            "  Created wheel for gunicorn: filename=gunicorn-20.1.0-cp37-none-any.whl size=78918 sha256=c565c4a848c0770c27f17d54222fa8846142c49ae372476c82d07dc71ee829be\n",
            "  Stored in directory: /root/.cache/pip/wheels/4c/ea/e2/698dde91d46e32a449e60f785a91954f67f72fea8890bb1072\n",
            "  Building wheel for langdetect (setup.py) ... \u001b[?25l\u001b[?25hdone\n",
            "  Created wheel for langdetect: filename=langdetect-1.0.8-cp37-none-any.whl size=993193 sha256=5e222805fde460e792671cfa3d3bfa1f8e9ba9d7670ab64178a61a220e025599\n",
            "  Stored in directory: /root/.cache/pip/wheels/8d/b3/aa/6d99de9f3841d7d3d40a60ea06e6d669e8e5012e6c8b947a57\n",
            "  Building wheel for python-multipart (setup.py) ... \u001b[?25l\u001b[?25hdone\n",
            "  Created wheel for python-multipart: filename=python_multipart-0.0.5-cp37-none-any.whl size=31671 sha256=5965237624ccc51555435a4e299647f7b5887f7ad5034ca92bc7c07e30bb7da8\n",
            "  Stored in directory: /root/.cache/pip/wheels/f0/e6/66/14a866a3cbd6a0cabfbef91f7edf40aa03595ef6c88d6d1be4\n",
            "  Building wheel for python-docx (setup.py) ... \u001b[?25l\u001b[?25hdone\n",
            "  Created wheel for python-docx: filename=python_docx-0.8.10-cp37-none-any.whl size=184491 sha256=9cb5071379f11fe1eb964817526d8b6b5c9ae02665af90ddf82c109029b5a6c7\n",
            "  Stored in directory: /root/.cache/pip/wheels/18/0b/a0/1dd62ff812c857c9e487f27d80d53d2b40531bec1acecfa47b\n",
            "  Building wheel for sqlalchemy-utils (setup.py) ... \u001b[?25l\u001b[?25hdone\n",
            "  Created wheel for sqlalchemy-utils: filename=SQLAlchemy_Utils-0.36.8-py2.py3-none-any.whl size=93220 sha256=31c40189139673c5e62da455f0458c16427fad5ee6f9feb9316e0e533ac7ba5d\n",
            "  Stored in directory: /root/.cache/pip/wheels/68/31/b6/a96bf6868f42753696d647846c9a0f8e51bd99295790d07660\n",
            "  Building wheel for tika (setup.py) ... \u001b[?25l\u001b[?25hdone\n",
            "  Created wheel for tika: filename=tika-1.24-cp37-none-any.whl size=32885 sha256=f532176fd84f6846ecb7f96ebb3142878ab79022c3e0d0207f5951716a13c1a4\n",
            "  Stored in directory: /root/.cache/pip/wheels/73/9c/f5/0b1b738442fc2a2862bef95b908b374f8e80215550fb2a8975\n",
            "  Building wheel for seqeval (setup.py) ... \u001b[?25l\u001b[?25hdone\n",
            "  Created wheel for seqeval: filename=seqeval-1.2.2-cp37-none-any.whl size=16172 sha256=f63a5080e91ff04a85db24821c59ded29105be4c5664f5f98a0c822db7daed50\n",
            "  Stored in directory: /root/.cache/pip/wheels/52/df/1b/45d75646c37428f7e626214704a0e35bd3cfc32eda37e59e5f\n",
            "  Building wheel for sacremoses (setup.py) ... \u001b[?25l\u001b[?25hdone\n",
            "  Created wheel for sacremoses: filename=sacremoses-0.0.43-cp37-none-any.whl size=893262 sha256=21779e100f38e12239c893e505d7ecb57477f4ee0e997ba4a64ddfdce7d4764a\n",
            "  Stored in directory: /root/.cache/pip/wheels/29/3c/fd/7ce5c3f0666dab31a50123635e6fb5e19ceb42ce38d4e58f45\n",
            "  Building wheel for databricks-cli (setup.py) ... \u001b[?25l\u001b[?25hdone\n",
            "  Created wheel for databricks-cli: filename=databricks_cli-0.14.3-cp37-none-any.whl size=100557 sha256=624d80e1d684d311438c0f62b50f7ff362ee3f54600cc30d5ef80928d102e5ad\n",
            "  Stored in directory: /root/.cache/pip/wheels/5b/24/f3/34d8e3964dac4ba849d844273c49a679111b00d5799ebb934a\n",
            "  Building wheel for alembic (setup.py) ... \u001b[?25l\u001b[?25hdone\n",
            "  Created wheel for alembic: filename=alembic-1.4.1-py2.py3-none-any.whl size=158155 sha256=ef9f0175b36cddab122d6c1b0b228b07584d77265b5b7a5e6d6b2d7e0bd4fb3b\n",
            "  Stored in directory: /root/.cache/pip/wheels/84/07/f7/12f7370ca47a66030c2edeedcc23dec26ea0ac22dcb4c4a0f3\n",
            "  Building wheel for prometheus-flask-exporter (setup.py) ... \u001b[?25l\u001b[?25hdone\n",
            "  Created wheel for prometheus-flask-exporter: filename=prometheus_flask_exporter-0.18.1-cp37-none-any.whl size=17159 sha256=247e892e7d9aac8fcc91a83c2d8558e8f00776f5e0c4a6e0353dd95731e35eda\n",
            "  Stored in directory: /root/.cache/pip/wheels/b4/1f/b8/66bd9bc3a9d6c6987ff6c4dfeb6f1fe97b5a0e5ed5849c0437\n",
            "Successfully built farm-haystack gunicorn langdetect python-multipart python-docx sqlalchemy-utils tika seqeval sacremoses databricks-cli alembic prometheus-flask-exporter\n",
            "\u001b[31mERROR: torchvision 0.9.1+cu101 has requirement torch==1.8.1, but you'll have torch 1.7.1 which is incompatible.\u001b[0m\n",
            "\u001b[31mERROR: torchtext 0.9.1 has requirement torch==1.8.1, but you'll have torch 1.7.1 which is incompatible.\u001b[0m\n",
            "\u001b[31mERROR: pytest 3.6.4 has requirement pluggy<0.8,>=0.5, but you'll have pluggy 0.13.1 which is incompatible.\u001b[0m\n",
            "\u001b[31mERROR: datascience 0.10.6 has requirement folium==0.2.1, but you'll have folium 0.8.3 which is incompatible.\u001b[0m\n",
            "\u001b[31mERROR: botocore 1.20.42 has requirement urllib3<1.27,>=1.25.4, but you'll have urllib3 1.24.3 which is incompatible.\u001b[0m\n",
            "\u001b[31mERROR: grpcio-tools 1.36.1 has requirement grpcio>=1.36.1, but you'll have grpcio 1.32.0 which is incompatible.\u001b[0m\n",
            "Installing collected packages: tokenizers, sacremoses, transformers, seqeval, dotmap, Werkzeug, aniso8601, flask-restplus, websocket-client, docker, databricks-cli, Mako, python-editor, alembic, isodate, msrest, azure-core, cryptography, azure-storage-blob, prometheus-flask-exporter, smmap, gitdb, gitpython, gunicorn, querystring-parser, mlflow, sentencepiece, torch, flask-cors, jmespath, botocore, s3transfer, boto3, farm, starlette, pydantic, fastapi, h11, uvicorn, elasticsearch, elastic-apm, pluggy, distlib, virtualenv, tox, langdetect, python-multipart, python-docx, sqlalchemy-utils, faiss-cpu, tika, httptools, grpcio-tools, ujson, pymilvus, psycopg2-binary, uvloop, farm-haystack\n",
            "  Found existing installation: Werkzeug 1.0.1\n",
            "    Uninstalling Werkzeug-1.0.1:\n",
            "      Successfully uninstalled Werkzeug-1.0.1\n",
            "  Found existing installation: torch 1.8.1+cu101\n",
            "    Uninstalling torch-1.8.1+cu101:\n",
            "      Successfully uninstalled torch-1.8.1+cu101\n",
            "  Found existing installation: pluggy 0.7.1\n",
            "    Uninstalling pluggy-0.7.1:\n",
            "      Successfully uninstalled pluggy-0.7.1\n",
            "Successfully installed Mako-1.1.4 Werkzeug-0.16.1 alembic-1.4.1 aniso8601-9.0.1 azure-core-1.12.0 azure-storage-blob-12.8.0 boto3-1.17.42 botocore-1.20.42 cryptography-3.4.7 databricks-cli-0.14.3 distlib-0.3.1 docker-4.4.4 dotmap-1.3.23 elastic-apm-6.1.0 elasticsearch-7.10.0 faiss-cpu-1.7.0 farm-0.6.2 farm-haystack-0.7.0 fastapi-0.63.0 flask-cors-3.0.10 flask-restplus-0.13.0 gitdb-4.0.7 gitpython-3.1.14 grpcio-tools-1.36.1 gunicorn-20.1.0 h11-0.12.0 httptools-0.1.1 isodate-0.6.0 jmespath-0.10.0 langdetect-1.0.8 mlflow-1.13.1 msrest-0.6.21 pluggy-0.13.1 prometheus-flask-exporter-0.18.1 psycopg2-binary-2.8.6 pydantic-1.8.1 pymilvus-1.0.1 python-docx-0.8.10 python-editor-1.0.4 python-multipart-0.0.5 querystring-parser-1.2.4 s3transfer-0.3.6 sacremoses-0.0.43 sentencepiece-0.1.95 seqeval-1.2.2 smmap-4.0.0 sqlalchemy-utils-0.36.8 starlette-0.13.6 tika-1.24 tokenizers-0.9.4 torch-1.7.1 tox-3.23.0 transformers-4.1.1 ujson-4.0.2 uvicorn-0.13.4 uvloop-0.14.0 virtualenv-20.4.3 websocket-client-0.58.0\n"
          ],
          "name": "stdout"
        }
      ]
    },
    {
      "cell_type": "code",
      "metadata": {
        "id": "93RN4Oe8HNVh",
        "colab": {
          "base_uri": "https://localhost:8080/"
        },
        "outputId": "15bce6e4-7886-4bdd-a4ba-bf1d65b58f74"
      },
      "source": [
        "from haystack import Finder\n",
        "from haystack.preprocessor.cleaning import clean_wiki_text #haystack.indexing -> haystack.preprocessor\n",
        "from haystack.preprocessor.utils import convert_files_to_dicts, fetch_archive_from_http\n",
        "from haystack.reader.farm import FARMReader\n",
        "from haystack.reader.transformers import TransformersReader\n",
        "from haystack.utils import print_answers"
      ],
      "execution_count": 2,
      "outputs": [
        {
          "output_type": "stream",
          "text": [
            "04/01/2021 08:30:20 - INFO - faiss.loader -   Loading faiss with AVX2 support.\n",
            "04/01/2021 08:30:20 - INFO - faiss.loader -   Loading faiss.\n",
            "04/01/2021 08:30:21 - INFO - farm.modeling.prediction_head -   Better speed can be achieved with apex installed from https://www.github.com/nvidia/apex .\n"
          ],
          "name": "stderr"
        }
      ]
    },
    {
      "cell_type": "markdown",
      "metadata": {
        "id": "4R5lwJht-ZVv"
      },
      "source": [
        "## Dataset\n",
        "\n",
        "from json to dataframe"
      ]
    },
    {
      "cell_type": "code",
      "metadata": {
        "colab": {
          "base_uri": "https://localhost:8080/"
        },
        "id": "nyZsdW17BZXz",
        "outputId": "29ece016-ebf5-42a4-a558-b839b9fe64de"
      },
      "source": [
        "# for colab\n",
        "from google.colab import drive\n",
        "drive.mount('/content/drive', force_remount=True)\n",
        "GDRIVE_HOME = '/content/drive/MyDrive'\n",
        "FOLDER = 'GSDS/2021_1/Search_engine_Haystack/data_cord'"
      ],
      "execution_count": 3,
      "outputs": [
        {
          "output_type": "stream",
          "text": [
            "Mounted at /content/drive\n"
          ],
          "name": "stdout"
        }
      ]
    },
    {
      "cell_type": "code",
      "metadata": {
        "id": "9PsP6s32B1LB"
      },
      "source": [
        "# # read 50,000 docs to dataframe [id, title, abstract, full text]\n",
        "# import numpy as np\n",
        "# import pandas as pd\n",
        "# import os\n",
        "# import json\n",
        "# import re\n",
        "# from tqdm import tqdm\n",
        "\n",
        "# dirs = ['pmc_json', 'pdf_json']\n",
        "# docs = list()\n",
        "# counts = list()\n",
        "\n",
        "# for d in dirs:\n",
        "#     print(d)\n",
        "#     counts = 0\n",
        "#     target_dir = os.path.join(GDRIVE_HOME, FOLDER, d)\n",
        "#     for f in tqdm(os.listdir(target_dir)):\n",
        "#         file_path = os.path.join(target_dir, f)\n",
        "#         j = json.load(open(file_path, 'rb'))\n",
        "#         paper_id = j['paper_id']\n",
        "#         paper_id = paper_id[-7:] # take last 7 characters for id\n",
        "#         title = j['metadata']['title']\n",
        "\n",
        "#         try: # no abstracts in some docs\n",
        "#             abstract = j['abstract'][0]['text']\n",
        "#         except:\n",
        "#             abstract = ''\n",
        "\n",
        "#         full_text = str()\n",
        "#         bib_entries = list()\n",
        "#         for text in j['body_text']:\n",
        "#             full_text += text['text']\n",
        "\n",
        "#         docs.append([paper_id, title, abstract, full_text])\n",
        "#         counts += 1\n",
        "#         if count >= 25000:\n",
        "#             break # only for 25000 files\n",
        "\n",
        "# df = pd.DataFrame(docs, columns=['paper_id', 'title', 'abstract', 'full_text'])"
      ],
      "execution_count": 4,
      "outputs": []
    },
    {
      "cell_type": "code",
      "metadata": {
        "id": "B_DnE0izNEZz",
        "colab": {
          "base_uri": "https://localhost:8080/",
          "height": 306
        },
        "outputId": "7e333a63-d274-45be-aedc-66a75b1a566b"
      },
      "source": [
        "import os\n",
        "import pandas as pd\n",
        "df = pd.read_csv(os.path.join(GDRIVE_HOME, FOLDER, 'processed.csv'))\n",
        "print(df.shape)\n",
        "df.sample(5)"
      ],
      "execution_count": 5,
      "outputs": [
        {
          "output_type": "stream",
          "text": [
            "(50000, 4)\n"
          ],
          "name": "stdout"
        },
        {
          "output_type": "execute_result",
          "data": {
            "text/html": [
              "<div>\n",
              "<style scoped>\n",
              "    .dataframe tbody tr th:only-of-type {\n",
              "        vertical-align: middle;\n",
              "    }\n",
              "\n",
              "    .dataframe tbody tr th {\n",
              "        vertical-align: top;\n",
              "    }\n",
              "\n",
              "    .dataframe thead th {\n",
              "        text-align: right;\n",
              "    }\n",
              "</style>\n",
              "<table border=\"1\" class=\"dataframe\">\n",
              "  <thead>\n",
              "    <tr style=\"text-align: right;\">\n",
              "      <th></th>\n",
              "      <th>paper_id</th>\n",
              "      <th>title</th>\n",
              "      <th>abstract</th>\n",
              "      <th>full_text</th>\n",
              "    </tr>\n",
              "  </thead>\n",
              "  <tbody>\n",
              "    <tr>\n",
              "      <th>8902</th>\n",
              "      <td>7260474</td>\n",
              "      <td>Critical adjustments in a department of orthopaedics through the COVID-19 pa...</td>\n",
              "      <td>NaN</td>\n",
              "      <td>The pandemic caused by the previously unknown SARS-CoV-2 (2019-nCoV, COVID-1...</td>\n",
              "    </tr>\n",
              "    <tr>\n",
              "      <th>13228</th>\n",
              "      <td>7892327</td>\n",
              "      <td>Multi-omics highlights ABO plasma protein as a causal risk factor for COVID-19</td>\n",
              "      <td>NaN</td>\n",
              "      <td>The severe acute respiratory syndrome coronavirus 2 (SARS-CoV-2) is responsi...</td>\n",
              "    </tr>\n",
              "    <tr>\n",
              "      <th>48610</th>\n",
              "      <td>b8e9ddc</td>\n",
              "      <td>NaN</td>\n",
              "      <td>NaN</td>\n",
              "      <td>Bovine respiratory disease (BRD) is the most significant production problem ...</td>\n",
              "    </tr>\n",
              "    <tr>\n",
              "      <th>45255</th>\n",
              "      <td>be96982</td>\n",
              "      <td>Development and Implementation of Influenza A Virus Subtyping and Detection ...</td>\n",
              "      <td>NaN</td>\n",
              "      <td>Influenza virus is an RNA virus of the Orthomyxoviridae family comprised of ...</td>\n",
              "    </tr>\n",
              "    <tr>\n",
              "      <th>31050</th>\n",
              "      <td>9cfc359</td>\n",
              "      <td>The use of synthetic polymers for delivery of therapeutic antisense oligodeo...</td>\n",
              "      <td>Developed over the past two decades, the antisense strategy has become a tec...</td>\n",
              "      <td>Treatment with traditional drugs is based on molecular substitution, which i...</td>\n",
              "    </tr>\n",
              "  </tbody>\n",
              "</table>\n",
              "</div>"
            ],
            "text/plain": [
              "      paper_id  ...                                                                        full_text\n",
              "8902   7260474  ...  The pandemic caused by the previously unknown SARS-CoV-2 (2019-nCoV, COVID-1...\n",
              "13228  7892327  ...  The severe acute respiratory syndrome coronavirus 2 (SARS-CoV-2) is responsi...\n",
              "48610  b8e9ddc  ...  Bovine respiratory disease (BRD) is the most significant production problem ...\n",
              "45255  be96982  ...  Influenza virus is an RNA virus of the Orthomyxoviridae family comprised of ...\n",
              "31050  9cfc359  ...  Treatment with traditional drugs is based on molecular substitution, which i...\n",
              "\n",
              "[5 rows x 4 columns]"
            ]
          },
          "metadata": {
            "tags": []
          },
          "execution_count": 5
        }
      ]
    },
    {
      "cell_type": "code",
      "metadata": {
        "colab": {
          "base_uri": "https://localhost:8080/"
        },
        "id": "mu7TEyjdmjua",
        "outputId": "6e6f8537-ba7e-47fe-8a84-9e863a70ea20"
      },
      "source": [
        "df.info()"
      ],
      "execution_count": 27,
      "outputs": [
        {
          "output_type": "stream",
          "text": [
            "<class 'pandas.core.frame.DataFrame'>\n",
            "Int64Index: 47432 entries, 0 to 49999\n",
            "Data columns (total 4 columns):\n",
            " #   Column     Non-Null Count  Dtype \n",
            "---  ------     --------------  ----- \n",
            " 0   paper_id   47432 non-null  object\n",
            " 1   title      47432 non-null  object\n",
            " 2   abstract   16608 non-null  object\n",
            " 3   full_text  47432 non-null  object\n",
            "dtypes: object(4)\n",
            "memory usage: 1.8+ MB\n"
          ],
          "name": "stdout"
        }
      ]
    },
    {
      "cell_type": "code",
      "metadata": {
        "colab": {
          "base_uri": "https://localhost:8080/"
        },
        "id": "s2rFe_gKizWR",
        "outputId": "80a0661f-ebd5-48fd-9b7d-27bad01ced7f"
      },
      "source": [
        "# remove null samples in those columns\n",
        "df = df.dropna(subset=['title', 'full_text'])\n",
        "df.info()"
      ],
      "execution_count": 26,
      "outputs": [
        {
          "output_type": "stream",
          "text": [
            "<class 'pandas.core.frame.DataFrame'>\n",
            "Int64Index: 47432 entries, 0 to 49999\n",
            "Data columns (total 4 columns):\n",
            " #   Column     Non-Null Count  Dtype \n",
            "---  ------     --------------  ----- \n",
            " 0   paper_id   47432 non-null  object\n",
            " 1   title      47432 non-null  object\n",
            " 2   abstract   16608 non-null  object\n",
            " 3   full_text  47432 non-null  object\n",
            "dtypes: object(4)\n",
            "memory usage: 1.8+ MB\n"
          ],
          "name": "stdout"
        }
      ]
    },
    {
      "cell_type": "markdown",
      "metadata": {
        "id": "O55kawXKbr5S"
      },
      "source": [
        "## Set up DocumentStore\n",
        "\n",
        "*Haystack* finds answer to queries within the documents stored in a *DocumentStore*.  \n",
        "\n",
        "The current implementations of DocumentStore include *ElasticsearchDocumentStore*, *SQLDocumentStore*, *FAISSDocumentStore*, and *InMemoryDocumentStore*.  \n",
        "\n",
        "But they recommend *ElasticsearchDocumentStore* because as it comes preloaded with features like full-text queries, BM25 retrieval, and vector storage for text embeddings."
      ]
    },
    {
      "cell_type": "code",
      "metadata": {
        "id": "tqvpQ2XjyLDj"
      },
      "source": [
        "# Recommended: Start Elasticsearch using Docker (basic, but manually download in colab)\n",
        "#! docker run -d -p 9200:9200 -e \"discovery.type=single-node\" elasticsearch:7.9.2"
      ],
      "execution_count": 6,
      "outputs": []
    },
    {
      "cell_type": "code",
      "metadata": {
        "id": "4FLaAQmNgvTd"
      },
      "source": [
        "! wget https://artifacts.elastic.co/downloads/elasticsearch/elasticsearch-7.9.2-linux-x86_64.tar.gz -q\n",
        "! tar -xzf elasticsearch-7.9.2-linux-x86_64.tar.gz\n",
        "! chown -R daemon:daemon elasticsearch-7.9.2\n",
        "# version change to 7.9.2 from 7.6\n",
        "import os\n",
        "from subprocess import Popen, PIPE, STDOUT\n",
        "es_server = Popen(['elasticsearch-7.9.2/bin/elasticsearch'],\n",
        "                   stdout=PIPE, stderr=STDOUT,\n",
        "                   preexec_fn=lambda: os.setuid(1)  # as daemon\n",
        "                  )\n",
        "# wait until ES has started\n",
        "! sleep 30"
      ],
      "execution_count": 11,
      "outputs": []
    },
    {
      "cell_type": "code",
      "metadata": {
        "colab": {
          "base_uri": "https://localhost:8080/"
        },
        "id": "Rp6yA8C_hapA",
        "outputId": "494ab0a3-2146-4033-c8ec-338f140f2e77"
      },
      "source": [
        "# Connect to Elasticsearch\n",
        "from haystack.document_store.elasticsearch import ElasticsearchDocumentStore # file name changed from database to document_store\n",
        "document_store = ElasticsearchDocumentStore(host=\"localhost\", username=\"\", password=\"\", index=\"document\")"
      ],
      "execution_count": 12,
      "outputs": [
        {
          "output_type": "stream",
          "text": [
            "04/01/2021 08:35:08 - INFO - elasticsearch -   HEAD http://localhost:9200/ [status:200 request:0.078s]\n",
            "04/01/2021 08:35:08 - INFO - elasticsearch -   PUT http://localhost:9200/document [status:200 request:0.370s]\n",
            "04/01/2021 08:35:09 - INFO - elasticsearch -   PUT http://localhost:9200/label [status:200 request:0.217s]\n"
          ],
          "name": "stderr"
        }
      ]
    },
    {
      "cell_type": "code",
      "metadata": {
        "id": "V9CZf6_VeSV7"
      },
      "source": [
        "modified = df[['title', 'full_text']].rename(columns={'title': 'name', 'full_text': 'text'})\n",
        "m_dict = modified.to_dict(orient='records') # dictionary 만드는 방식"
      ],
      "execution_count": 16,
      "outputs": []
    },
    {
      "cell_type": "code",
      "metadata": {
        "colab": {
          "base_uri": "https://localhost:8080/",
          "height": 562
        },
        "id": "-ez02JYAA5S9",
        "outputId": "cfed3582-645c-41af-f034-120cddbdac8e"
      },
      "source": [
        "dicts = list()\n",
        "\n",
        "for i in range(len(df['title'])):\n",
        "    temp = dict()\n",
        "    temp['text'] = df['full_text'][i]\n",
        "    temp['meta'] = {'name': df['title'][i]}\n",
        "    dicts.append(temp)"
      ],
      "execution_count": 14,
      "outputs": [
        {
          "output_type": "error",
          "ename": "KeyError",
          "evalue": "ignored",
          "traceback": [
            "\u001b[0;31m---------------------------------------------------------------------------\u001b[0m",
            "\u001b[0;31mKeyError\u001b[0m                                  Traceback (most recent call last)",
            "\u001b[0;32m/usr/local/lib/python3.7/dist-packages/pandas/core/indexes/base.py\u001b[0m in \u001b[0;36mget_loc\u001b[0;34m(self, key, method, tolerance)\u001b[0m\n\u001b[1;32m   2897\u001b[0m             \u001b[0;32mtry\u001b[0m\u001b[0;34m:\u001b[0m\u001b[0;34m\u001b[0m\u001b[0;34m\u001b[0m\u001b[0m\n\u001b[0;32m-> 2898\u001b[0;31m                 \u001b[0;32mreturn\u001b[0m \u001b[0mself\u001b[0m\u001b[0;34m.\u001b[0m\u001b[0m_engine\u001b[0m\u001b[0;34m.\u001b[0m\u001b[0mget_loc\u001b[0m\u001b[0;34m(\u001b[0m\u001b[0mcasted_key\u001b[0m\u001b[0;34m)\u001b[0m\u001b[0;34m\u001b[0m\u001b[0;34m\u001b[0m\u001b[0m\n\u001b[0m\u001b[1;32m   2899\u001b[0m             \u001b[0;32mexcept\u001b[0m \u001b[0mKeyError\u001b[0m \u001b[0;32mas\u001b[0m \u001b[0merr\u001b[0m\u001b[0;34m:\u001b[0m\u001b[0;34m\u001b[0m\u001b[0;34m\u001b[0m\u001b[0m\n",
            "\u001b[0;32mpandas/_libs/index.pyx\u001b[0m in \u001b[0;36mpandas._libs.index.IndexEngine.get_loc\u001b[0;34m()\u001b[0m\n",
            "\u001b[0;32mpandas/_libs/index.pyx\u001b[0m in \u001b[0;36mpandas._libs.index.IndexEngine.get_loc\u001b[0;34m()\u001b[0m\n",
            "\u001b[0;32mpandas/_libs/hashtable_class_helper.pxi\u001b[0m in \u001b[0;36mpandas._libs.hashtable.Int64HashTable.get_item\u001b[0;34m()\u001b[0m\n",
            "\u001b[0;32mpandas/_libs/hashtable_class_helper.pxi\u001b[0m in \u001b[0;36mpandas._libs.hashtable.Int64HashTable.get_item\u001b[0;34m()\u001b[0m\n",
            "\u001b[0;31mKeyError\u001b[0m: 25008",
            "\nThe above exception was the direct cause of the following exception:\n",
            "\u001b[0;31mKeyError\u001b[0m                                  Traceback (most recent call last)",
            "\u001b[0;32m<ipython-input-14-015b9514246e>\u001b[0m in \u001b[0;36m<module>\u001b[0;34m()\u001b[0m\n\u001b[1;32m      3\u001b[0m \u001b[0;32mfor\u001b[0m \u001b[0mi\u001b[0m \u001b[0;32min\u001b[0m \u001b[0mrange\u001b[0m\u001b[0;34m(\u001b[0m\u001b[0mlen\u001b[0m\u001b[0;34m(\u001b[0m\u001b[0mdf\u001b[0m\u001b[0;34m[\u001b[0m\u001b[0;34m'title'\u001b[0m\u001b[0;34m]\u001b[0m\u001b[0;34m)\u001b[0m\u001b[0;34m)\u001b[0m\u001b[0;34m:\u001b[0m\u001b[0;34m\u001b[0m\u001b[0;34m\u001b[0m\u001b[0m\n\u001b[1;32m      4\u001b[0m     \u001b[0mtemp\u001b[0m \u001b[0;34m=\u001b[0m \u001b[0mdict\u001b[0m\u001b[0;34m(\u001b[0m\u001b[0;34m)\u001b[0m\u001b[0;34m\u001b[0m\u001b[0;34m\u001b[0m\u001b[0m\n\u001b[0;32m----> 5\u001b[0;31m     \u001b[0mtemp\u001b[0m\u001b[0;34m[\u001b[0m\u001b[0;34m'text'\u001b[0m\u001b[0;34m]\u001b[0m \u001b[0;34m=\u001b[0m \u001b[0mdf\u001b[0m\u001b[0;34m[\u001b[0m\u001b[0;34m'full_text'\u001b[0m\u001b[0;34m]\u001b[0m\u001b[0;34m[\u001b[0m\u001b[0mi\u001b[0m\u001b[0;34m]\u001b[0m\u001b[0;34m\u001b[0m\u001b[0;34m\u001b[0m\u001b[0m\n\u001b[0m\u001b[1;32m      6\u001b[0m     \u001b[0mtemp\u001b[0m\u001b[0;34m[\u001b[0m\u001b[0;34m'meta'\u001b[0m\u001b[0;34m]\u001b[0m \u001b[0;34m=\u001b[0m \u001b[0;34m{\u001b[0m\u001b[0;34m'name'\u001b[0m\u001b[0;34m:\u001b[0m \u001b[0mdf\u001b[0m\u001b[0;34m[\u001b[0m\u001b[0;34m'title'\u001b[0m\u001b[0;34m]\u001b[0m\u001b[0;34m[\u001b[0m\u001b[0mi\u001b[0m\u001b[0;34m]\u001b[0m\u001b[0;34m}\u001b[0m\u001b[0;34m\u001b[0m\u001b[0;34m\u001b[0m\u001b[0m\n\u001b[1;32m      7\u001b[0m     \u001b[0mdicts\u001b[0m\u001b[0;34m.\u001b[0m\u001b[0mappend\u001b[0m\u001b[0;34m(\u001b[0m\u001b[0mtemp\u001b[0m\u001b[0;34m)\u001b[0m\u001b[0;34m\u001b[0m\u001b[0;34m\u001b[0m\u001b[0m\n",
            "\u001b[0;32m/usr/local/lib/python3.7/dist-packages/pandas/core/series.py\u001b[0m in \u001b[0;36m__getitem__\u001b[0;34m(self, key)\u001b[0m\n\u001b[1;32m    880\u001b[0m \u001b[0;34m\u001b[0m\u001b[0m\n\u001b[1;32m    881\u001b[0m         \u001b[0;32melif\u001b[0m \u001b[0mkey_is_scalar\u001b[0m\u001b[0;34m:\u001b[0m\u001b[0;34m\u001b[0m\u001b[0;34m\u001b[0m\u001b[0m\n\u001b[0;32m--> 882\u001b[0;31m             \u001b[0;32mreturn\u001b[0m \u001b[0mself\u001b[0m\u001b[0;34m.\u001b[0m\u001b[0m_get_value\u001b[0m\u001b[0;34m(\u001b[0m\u001b[0mkey\u001b[0m\u001b[0;34m)\u001b[0m\u001b[0;34m\u001b[0m\u001b[0;34m\u001b[0m\u001b[0m\n\u001b[0m\u001b[1;32m    883\u001b[0m \u001b[0;34m\u001b[0m\u001b[0m\n\u001b[1;32m    884\u001b[0m         \u001b[0;32mif\u001b[0m \u001b[0mis_hashable\u001b[0m\u001b[0;34m(\u001b[0m\u001b[0mkey\u001b[0m\u001b[0;34m)\u001b[0m\u001b[0;34m:\u001b[0m\u001b[0;34m\u001b[0m\u001b[0;34m\u001b[0m\u001b[0m\n",
            "\u001b[0;32m/usr/local/lib/python3.7/dist-packages/pandas/core/series.py\u001b[0m in \u001b[0;36m_get_value\u001b[0;34m(self, label, takeable)\u001b[0m\n\u001b[1;32m    988\u001b[0m \u001b[0;34m\u001b[0m\u001b[0m\n\u001b[1;32m    989\u001b[0m         \u001b[0;31m# Similar to Index.get_value, but we do not fall back to positional\u001b[0m\u001b[0;34m\u001b[0m\u001b[0;34m\u001b[0m\u001b[0;34m\u001b[0m\u001b[0m\n\u001b[0;32m--> 990\u001b[0;31m         \u001b[0mloc\u001b[0m \u001b[0;34m=\u001b[0m \u001b[0mself\u001b[0m\u001b[0;34m.\u001b[0m\u001b[0mindex\u001b[0m\u001b[0;34m.\u001b[0m\u001b[0mget_loc\u001b[0m\u001b[0;34m(\u001b[0m\u001b[0mlabel\u001b[0m\u001b[0;34m)\u001b[0m\u001b[0;34m\u001b[0m\u001b[0;34m\u001b[0m\u001b[0m\n\u001b[0m\u001b[1;32m    991\u001b[0m         \u001b[0;32mreturn\u001b[0m \u001b[0mself\u001b[0m\u001b[0;34m.\u001b[0m\u001b[0mindex\u001b[0m\u001b[0;34m.\u001b[0m\u001b[0m_get_values_for_loc\u001b[0m\u001b[0;34m(\u001b[0m\u001b[0mself\u001b[0m\u001b[0;34m,\u001b[0m \u001b[0mloc\u001b[0m\u001b[0;34m,\u001b[0m \u001b[0mlabel\u001b[0m\u001b[0;34m)\u001b[0m\u001b[0;34m\u001b[0m\u001b[0;34m\u001b[0m\u001b[0m\n\u001b[1;32m    992\u001b[0m \u001b[0;34m\u001b[0m\u001b[0m\n",
            "\u001b[0;32m/usr/local/lib/python3.7/dist-packages/pandas/core/indexes/base.py\u001b[0m in \u001b[0;36mget_loc\u001b[0;34m(self, key, method, tolerance)\u001b[0m\n\u001b[1;32m   2898\u001b[0m                 \u001b[0;32mreturn\u001b[0m \u001b[0mself\u001b[0m\u001b[0;34m.\u001b[0m\u001b[0m_engine\u001b[0m\u001b[0;34m.\u001b[0m\u001b[0mget_loc\u001b[0m\u001b[0;34m(\u001b[0m\u001b[0mcasted_key\u001b[0m\u001b[0;34m)\u001b[0m\u001b[0;34m\u001b[0m\u001b[0;34m\u001b[0m\u001b[0m\n\u001b[1;32m   2899\u001b[0m             \u001b[0;32mexcept\u001b[0m \u001b[0mKeyError\u001b[0m \u001b[0;32mas\u001b[0m \u001b[0merr\u001b[0m\u001b[0;34m:\u001b[0m\u001b[0;34m\u001b[0m\u001b[0;34m\u001b[0m\u001b[0m\n\u001b[0;32m-> 2900\u001b[0;31m                 \u001b[0;32mraise\u001b[0m \u001b[0mKeyError\u001b[0m\u001b[0;34m(\u001b[0m\u001b[0mkey\u001b[0m\u001b[0;34m)\u001b[0m \u001b[0;32mfrom\u001b[0m \u001b[0merr\u001b[0m\u001b[0;34m\u001b[0m\u001b[0;34m\u001b[0m\u001b[0m\n\u001b[0m\u001b[1;32m   2901\u001b[0m \u001b[0;34m\u001b[0m\u001b[0m\n\u001b[1;32m   2902\u001b[0m         \u001b[0;32mif\u001b[0m \u001b[0mtolerance\u001b[0m \u001b[0;32mis\u001b[0m \u001b[0;32mnot\u001b[0m \u001b[0;32mNone\u001b[0m\u001b[0;34m:\u001b[0m\u001b[0;34m\u001b[0m\u001b[0;34m\u001b[0m\u001b[0m\n",
            "\u001b[0;31mKeyError\u001b[0m: 25008"
          ]
        }
      ]
    },
    {
      "cell_type": "code",
      "metadata": {
        "id": "xo6NxVOFB3K7"
      },
      "source": [
        "dicts[:3]"
      ],
      "execution_count": null,
      "outputs": []
    },
    {
      "cell_type": "code",
      "metadata": {
        "colab": {
          "base_uri": "https://localhost:8080/"
        },
        "id": "v2QbDi6ohQi7",
        "outputId": "1c380ee6-a165-417f-c9ab-7ec8f8a62635"
      },
      "source": [
        "print(len(m_dict))\n",
        "m_dict[:3]"
      ],
      "execution_count": 17,
      "outputs": [
        {
          "output_type": "stream",
          "text": [
            "47432\n"
          ],
          "name": "stdout"
        },
        {
          "output_type": "execute_result",
          "data": {
            "text/plain": [
              "[{'name': 'The in-vitro effect of famotidine on sars-cov-2 proteases and virus replication',\n",
              "  'text': 'A large part of the current therapeutic discovery effort against the severe acute respiratory syndrome coronavirus 2 (SARS-CoV)-2 is focused on drug repurposing1. Of such agents, only remdesivir has thus far shown clinical evidence of antiviral effect2, while several others have not met their primary endpoints in various clinical studies3,4. Recently, famotidine has gained attention as a therapeutic option against SARS-CoV-2, initially based on anecdotal evidence of its positive effects in COVID-19 patients in China. Famotidine (PEPCID®), a histamine-2 receptor (H2R) antagonist, is an FDA approved drug for the treatment of gastroesophageal reflux disease (GERD) and gastric ulcers5.Earlier reports of the beneficial effect of famotidine in China were recently supported by a retrospective clinical study involving 1620 patients in the U.S., which noted that hospitalized COVID-19 patients receiving a total median dose of 136 mg famotidine, in oral or IV formulation once daily, for 6 days had a reduced risk of death or intubation6. Another study involving 10 non-hospitalized patients linked the use of high-dose oral famotidine (240 mg per day for a median of 11 days) with patient-reported improvements in symptoms such as shortness of breath and cough7. These two reports conclude that the use of high-dose famotidine may be associated with improvements in both mild and severe symptoms of COVID-19. While a large, multi-center clinical trial to confirm these observations is in progress, the mechanism by which famotidine purportedly improves the clinical outcomes in COVID-19 patients is unknown. In silico modeling and molecular docking studies have separately suggested either of the two SARS-CoV-2 proteases as potential targets of famotidine activity8,9. In one computational study, Wu et. al. docked a library of approved drugs on to the available X-ray crystal structure of the 3-chymotrypsin-like protease (3CLpro) of SARS-CoV-2, identifying famotidine as one of the drugs likely to act on the protease8. Other computational reports have predicted famotidine as an inhibitor of the Papain-like protease (PLpro), a second SARS-CoV-2 protease9. Together, these studies have raised the prospect of a direct antiviral effect of famotidine on SARS-CoV-2 replication. While both proteins are attractive targets for SARS-CoV-2 drug development10–19, there are at present no clinical-stage or approved drugs targeting either protein. The possibility of famotidine, an approved drug, acting on SARS-CoV-2 proteases is of significant clinical interest. In this in-vitro study, we performed an array of biochemical, biophysical, and antiviral experiments to test if famotidine is an effector of SARS-CoV-2 proteases and whether it inhibits virus replication in cultured cells.Processing of the SARS-CoV-2 polyprotein is critical to the generation of a functional virus replication complex11,18,20. To carry out this essential proteolytic function, the SARS-CoV-2 genome encodes two cysteine proteases, called PLpro and 3CLpro18. Due to their critical roles in viral polyprotein processing and virus proliferation, both proteases are considered attractive targets for drug discovery10,11,13–17,21. Since in silico docking studies have predicted these proteases as putative molecular targets of famotidine6,8,9, we methodically investigated the effect of famotidine on the catalytic functions of each protease.First, we developed an in-vitro activity assay of PLpro. PLpro is a protease domain found within the large multi-domain nsp3 protein encoded by SARS-CoV-2. While many coronaviruses encode two papain-like proteases, SARS-CoV, MERS-CoV and SARS-CoV-2 possess only one PLpro, which processes the amino-terminal end of the viral polyprotein liberating nsp1, nsp2 and nsp319,21. Additionally, PLpro deubiquitinates host cell proteins by cleaving the consensus motif of LXGG18,19 and is known to efficiently hydrolyze both diubiquitin and synthetic peptide substrates19. We leveraged the deubiquitinating property of PLpro to set up a functional activity assay using ubiquitin-AMC, a fluorogenic substrate cleavable by PLpro. Upon incubation with PLpro, the ubiquitin is recognized and cleaved at the C-terminus to liberate the AMC (amido-4-methylcoumarin) fluorophore which results in increased fluorescence that is read using excitation and emission wavelengths of 355/460 nm. We assessed the ability of famotidine to inhibit the proteolytic activity of PLpro at a broad range of drug concentrations vis-à-vis compound 6, a previously reported inhibitor of PLpro activity21. Experimental conditions including protein and substrate concentrations, buffer composition, and assay kinetics were optimized using compound 6. While compound 6 inhibited PLpro activity with the expected low single-digit μM IC50 values, famotidine showed no reduction in PLpro activity in the titrated range of 0.01–200 μM (Fig. 1a).We next tested whether famotidine can inhibit the enzymatic activity of 3CLpro, the second protease encoded by the SARS-CoV-2 genome. This protein, also referred to as the main protease (Mpro) or nsp5, cleaves the viral polyprotein at 11 unique sites11. This proteolytic activity generates multiple individual functional proteins required for the assembly of the SARS-CoV-2 replication/transcription complex, which drives viral genome replication20. Owing to its central role in the coronavirus life cycle, 3CLpro has received significant attention as a drug target resulting in the discovery of several potent inhibitors 10,14,15,17. Native 3CLpro exists as a homodimer and requires dimerization for its proteolytic activity11. The catalytic mechanism of 3CLpro activity is typical of cysteine proteases, where the Cys-His catalytic dyad drives site-specific cleavage of substrates. We evaluated the enzymatic activity of 3CLpro using a FRET-peptide substrate that quenched fluorescence in its intact form, however, cleavage of the peptide substrate by 3CLpro produced fluorescence that could be measured at the excitation/emission wavelengths of 490/535 nm. The inclusion of ML188, a previously reported 3CLpro inhibitor served as a control, also aiding assay setup and optimization. Results of the FRET assay for various ML188 and famotidine concentrations are shown in Fig. 1b. Both compounds were tested between a range of 0.01–200 μM. While ML188 produced a dose-dependent inhibition of 3CLpro activity with an expected IC50 of 2.4 μM, famotidine did not inhibit 3CLpro activity.When tested alone, neither famotidine nor the other tested compounds produced autofluorescence at the 355/460 nm and 490/535 nm wavelengths, respectively. These two experiments indicate that famotidine does not interfere with the catalytic activity of either of the two SARS-CoV-2 proteases.The function of many enzymes, such as proteases and kinases, can extend beyond their catalytic roles and includes a wide spectrum of non-catalytic activities such as allosteric regulation, scaffolding, protein–protein interactions, and protein-DNA interactions22. To rule out whether famotidine could bind away from the active site of the two viral proteases, and exert an effect through interference with non-proteolytic functions, we asked if famotidine is able to bind directly with either of the two SARS-CoV-2 proteases. For this, we employed two distinct biophysical techniques i.e. surface plasmon resonance (SPR) and differential scanning fluorimetry (DSF), that are routinely used to probe drug-protein engagement.For our SPR studies, the biotinylated viral proteases were captured to a high density on sensor chips via neutravidin, permitting real-time detection of small-molecule binding to the target viral proteases. Engagement of the small-molecule compounds was recorded as an increase in dose-dependent response units (RU) during the assay. Experimental conditions including buffer composition and temperature were optimized using the control compounds prior to conducting the famotidine studies. The equilibrium dissociation constant (Kd) values were determined using both a kinetic analysis and fit to a binding isotherm of the dose response data (Fig. 2). The observed Kd values for the known 3CLpro and PLpro inhibitors (Supplementary Information Table S1) were consistent with the published IC50 data14,21 indicating the robustness of our assay methodology. Under these optimized conditions, famotidine was not found to interact with either of the two viral proteases at concentration ranges of up to 100 uM.To validate the results obtained from our SPR analysis, we employed an orthogonal DSF assay. DSF is a fluorescence-monitored thermal denaturing technique in which the melting temperature (Tm) of a protein is tracked via fluorescence as the sample temperature is incrementally raised in the presence of a hydrophobic dye. Drug binding to its target protein is known to stabilize (or destabilize) protein structure resulting in a variation of Tm profiles in the absence or presence of a drug. DSF provides definitive confirmation of target engagement as the increase in thermal unfolding temperature (ΔTm) is only achieved when the compounds bind to the folded state of the protein. The ΔTm is proportional to the Kd of the interaction and concentration of the compound. We tested the ability of famotidine and the control inhibitors to alter the thermal stability profiles of PLpro and 3CLpro. An optimal signal profile was obtained with 7 μM PLpro or 3CLpro. Both proteins were tested separately in the presence of DMSO (-ve control), their respective control inhibitors, and famotidine at concentrations of 1, 2.5 and 5 mM. In agreement with the SPR data, the control inhibitors produced a quantitative increase in observed Tm (Fig. 3). While compound 6, the known PLpro inhibitor, stabilized PLpro by a Tm shift of 6.6 °C (Fig. 3a), and ML188, the 3CLpro inhibitor, produced a Tm shift of 5.3 °C (Fig. 3b), famotidine did not alter the Tm of either of the two viral proteases. Taken together, the biophysical data decisively rules out the possibility of famotidine exerting its effect on PLpro or 3CLpro through interference with catalytic or non-catalytic protein functions as it is unable to bind with either of the two proteases.Having established that famotidine does not inhibit SARS-CoV-2 proteases, we investigated the ability of famotidine to block virus replication in cell culture. For this, we infected Vero E6 cells, a commonly used cell model of SARS-CoV-2 infection derived from the African green monkey kidney. Infection efficiency was quantified through multiple, orthogonal readouts, including quantitative real-time PCR (qRT-PCR), plaque formation, and immunofluorescence. Remdesivir inhibited viral replication with an estimated half-maximum inhibitory concentration (IC50) value of 3.3 μM, as determined by immunofluorescence (Fig. 4a). In contrast, famotidine did not produce any measurable inhibition at concentrations of up to 200 μM at 72 h post infection. Similar results were obtained when viral replication was examined by infectious virion production using plaque formation assays or by quantifying viral RNA copy numbers in the cell culture medium using qRT-PCR (Supplementary Figures S1 and S2).To confirm these results in a more physiologically relevant cell model of SARS-CoV-2 infection, we assessed the antiviral activity of famotidine in human lung A549 cells. These cells were engineered to express essential SARS-CoV-2 entry factors, ACE2 and TMPRSS223. The cells were infected with SARS-CoV-2 and cultured in the absence or presence of the control or test compounds. Virus replication (infection) efficiency was measured and reported as a function of compound concentration (Fig. 4). While remdesivir strongly inhibited virus replication in a dose-dependent manner with an IC50 value of 0.43 µM, famotidine had no measurable effect (Fig. 4b). Our results are consistent with previously reported studies in which remdesivir exerted a greater antiviral effect in human lung A549 cells than in Vero E6 cells24. The fact that famotidine does not inhibit SARS-CoV-2 replication in the A549 cells which possess the serine protease TMPRSS2 also likely points to it having no effect on host proteases involved in viral entry.In-parallel cytotoxicity assays, carried out in both Vero E6 and A549 cells, showed that famotidine was not toxic up to the highest tested concentrations of 200 μM (Fig. 4). Remdesivir, on the other hand, exhibited dose-dependent cytotoxicity at higher concentrations, well above its IC50. Together, these results show that famotidine does not inhibit SARS-CoV-2 replication in cultured cells and that its purported clinical benefit may be due to an alternative mechanism of action.Two in silico studies have separately predicted the 3CLpro or PLpro of SARS-CoV-2 as potential molecular targets of famotidine8,9, implying that famotidine associated improvement in COVID-19 patients may be due to a direct antiviral mechanism of action6. Despite recent advances in computational techniques, there are several challenges associated with the use of molecular docking to predict protein–ligand interactions accurately. Some of these challenges arise from the flexibility of the target protein, lack of prior knowledge of drug-binding sites, and protonation states of target amino acids25. While results obtained from molecular docking can serve as a basis for new hypotheses, experimental validation is needed. Our ligand-binding experiments using SPR and DSF did not support previous in silico predictions of direct binding between famotidine and SARS-CoV-2 proteases. We further used an array of experimental approaches to show that famotidine had no effect on SARS-CoV-2 protease function or generally on viral replication. It must be noted that since the clinical studies correlated putative clinical benefit with the use of higher doses of famotidine, we tested famotidine at significantly higher in-vitro concentrations than the peak plasma concentrations (0.5–2 µM) achieved in the blood of patients in both clinical studies6,7. Our data strongly suggest that the probable clinical benefit of famotidine likely arises independently of an antiviral mechanism of action.COVID-19 complications are associated with a severe pro-inflammatory response in the lungs of infected patients26. The “cytokine storm” as a result of inflammation is a key pathognomonic feature of COVID-19 and the main contributor to respiratory failure and mortality27. Severe COVID-19 cases are characterized by pulmonary infiltration and extensive pulmonary edema, causing exudation of inflammatory cells in the alveolar space, resulting in extensive pulmonary consolidation leading to pneumonia and adult respiratory distress syndrome (ARDS)28–31. The results of the two famotidine-related COVID-19 clinical reports, when taken together6,7, suggest that famotidine likely helps with mitigating moderate to severe respiratory symptoms ranging from shortness of breath to intubation. Our data does not rule out the possibility that famotidine related improvements in COVID-19 patients are through an anti-inflammatory action. For example, the development of the cytokine storm in COVID-19 patients is characterized by elevation of pro-inflammatory type I cytokines, which are secreted from a variety of cells such as polymorphonuclear cells, natural killer cells, and endothelial cells, etc27. It is therefore conceivable that famotidine-related benefit in managing respiratory symptoms may be due to an anti-inflammatory mechanism of action.It is noteworthy that H2R, the established molecular target of famotidine, is involved in the activation of several mediators of the adaptive immune response, such as Th1 lymphocytes, which are implicated in pro-inflammatory cytokine production32. Histamine, the H2R ligand, also regulates bronchoconstriction, airway inflammation, and vasodilation32. Mast cells are a major source of histamine and their activation has been reported following viral infections of the respiratory tract33–35. Therefore, Mast cells may represent an underappreciated source of pro-inflammatory cytokine release in COVID-19 patients33. A better understanding of the role of the H2R pathway in COVID-19 will help elucidate the molecular details of how famotidine reduces the disease severity.Our in-vitro study redirects the mechanism behind the potential beneficial effect of famotidine, away from an antiviral effect to likely an anti-inflammatory action in COVID-19 patients. Given that there is an ongoing randomized clinical trial (NCT04370262), our results may assist the investigators in reshaping their interventional study to include inflammation-related outcomes. Also, it should be noted that while famotidine is one of the relatively safer drugs, its use is not without risk36–38, especially in elderly patients (a high-risk population for COVID-19), in which famotidine use has been associated with CNS complications39. Provided the ongoing clinical trial yields promising results, further investigation of famotidine and its safety profile in different age brackets will be needed before the drug can be used, most likely as part of a combination therapy, for COVID-19 disease management.Famotidine was acquired from Sigma Aldrich (Missouri, USA; cat. No. F6889). Compound 6, a previously reported inhibitor of SARS-CoV-2 PLpro function21 was acquired from MedChem Express, Inc. (New Jersey, USA; cat no. HY-17542). ML188, a compound with known 3CLpro inhibitory activity15 was also acquired from MedChem Express, Inc. (cat. no HY-136259). Similarly, remdesivir. (cat. No HY-104077) an inhibitor of SARS-CoV-2 replication2 was purchased from the same vendor. All compounds were dissolved in 100% DMSO at 100 mM.The complete sequences encoding 3CLpro and residues 746–1060 of PLpro (Wuhan-Hu-1 isolate, GenBank accession NC_045512) were cloned into a charge modified SUMO fusion expression vector, generated in-house. The fusion protein was expressed for 24 h in Rosetta-2 (DE3) pLysS at 18 °C in ZYP-5052 autoinducing media. Harvested cells were resuspended in 50 mM Hepes pH 7.5, containing 150 mM NaCl and lysed by sonication. The clarified supernatant was loaded onto a HiTrap HP SP column (Cytiva, Massachusetts, USA; cat no. 17115201) and the target fusion protein was captured in a cation-exchange chromatography step and eluted using a NaCl gradient. SUMO hydrolase was added to the pooled fractions to liberate the target protein and the sample dialyzed against 20 mM Tris, 10% v/v glycerol, 5 mM DTT pH 7.0 overnight at 4 °C. The protein was reloaded on the HiTrap HP SP column to remove the SUMO protein and hydrolase in a subtractive step. The flow-through, containing 3CLpro or PLpro was further purified by anion exchange chromatography using a HiTrap HP Q column (Cytiva; cat. no. 17115401) employing a NaCl gradient to elute the protein. Pooled fractions were further purified by size exclusion chromatography in 20 mM Tris pH 7.4, 150 mM NaCl and 5 mM DTT. The final protein was concentrated to 4 mg/mL for PLpro and 5 mg/mL for 3CLpro and flash frozen in aliquots.PLpro activity was measured in a 384 well plate format (Corning #3574) in a kinetic assay using the fluorogenic substrate Ubiquitin-AMC (Boston Biochem, Inc. Massachusetts, USA; cat. No. U-550) with excitation and emission wavelengths of Ex355nm/Em:460 nm. The protocol followed previously reported conditions with minor modifications13,16. Fluorescence was monitored at 25 °C, every 5 min for 50 min in a Victor X5 (Perkin Elmer) multimode plate reader. Optimal enzyme and substrate concentrations were found to be 550 nM PLpro titrating the substrate in the range of 0.2 – 3 μM. The assay buffer (20 μL) contained 25 mM HEPES pH 7.5, 100 mM NaCl, 0.1 mg/ml BSA, and 550 nM PLpro. The test inhibitor, famotidine and the PLpro control inhibitor (compound 6) were both titrated in the concentration range of 0.01 μM – 200 μM. Compounds were incubated with the enzyme in the plate for 30 min at 25 °C before the reaction was started by the addition of 1 μM Ub-AMC. All samples were run in triplicates and their initial slopes were converted from relative fluorescence units (RFU)/ min to μmol AMC/min using an AMC standard curve and plotted against compound concentrations tested.3CLpro activity was assayed in a 384 well plate using the 3CLpro FRET substrate (AnaSpec, Inc. California, USA; cat. no. AS-65599) with excitation and emission wavelengths of Ex: 490 nm/Em: 535 nm. A previously reported protocol was used with some modifications12,17. The kinetics of fluorescence change were monitored every minute for 25 min. Optimal concentrations for 3CLpro and substrate were 150 nM and 600 nM respectively. A previously reported 3CLpro inhibitor14, ML188, was used as a positive control for inhibition, both control and test compounds were titrated in the concentration range of 0.01 μM – 200 μM. Initial slopes of RFU/min were converted to μM hydrolyzed substrate/ min using a standard curve of HiLyte Fluor488 amine, TFA salt.After subtraction of background fluorescence readings, values of Km and EC50 were obtained by fitting the experimental data with the Michaelis–Menten (y = (Vmax*x)/(Km + x)) and the four parameters logistic (4PL) equations (y = min + (max–min)/(1 + (x/EC50)^Hillslope)) respectively, using GraphPad Prism 8.Thermal unfolding of proteins was monitored in a 20 uL volume in Micro-Amp EnduraPlate Optical 384-well Clear Reaction Plates (ThermoFisher: cat no. 4483285 ). Reactions contained 50 mM HEPES pH 7.5, 62.5 mM NaCl, 7 μM 3CLpro or PLpro, 5% DMSO, and 4 × SYPRO-orange protein gel stain (ThermoFisher Scientific, Massachusetts, USA; cat no. S6651). Famotidine and the positive controls ML188 and compound 6 for 3CLpro and PLpro, respectively, were incubated with the protein for 15 min before the addition of SYPRO orange. Plates were covered with Micro-Amp Optical Adhesive Film (ThermoFisher Scientific, Massachusetts, USA; cat no. 4360954) and run on Applied Biosystems 7900HT (California, USA) real time PCR instrument. Samples were incubated at 25 °C for 2 min followed by an increase in temperature of 1 °C/min up to 95 °C. Fluorescence was monitored continuously. Each sample was run in triplicate and compounds were tested at 1 mM, 2.5 mM, and 5 mM. The melting temperature (Tm) was obtained from the first derivative of the raw thermal denaturing data were determined and smoothed to calculate melting temperature (Tm) values40.SPR studies were performed on a Biacore 3000 instrument (Cytiva, Massachusetts, USA) at 10 °C. The PLpro and 3CLpro proteins were biotinylated by minimal biotinylation approach with the EZ-LINK Sulfo-NHS-LC-LC-biotin reagent (ThermoFisher Scientific, Massachusetts, USA; cat no. A35358) and immobilized on a neutravidin coated CM5 sensor chip to a level of 4000 response units (RU). The protein used during immobilization was at 1 μM for PLpro and 1 μM for 3CLpro. During the course of the assay different concentrations of compounds were injected. The Compounds were serially diluted (twofold) in a running buffer of 25 mM HEPES pH 7.0, 200 mM NaCl, 2 mM TCEP, 0.005% P20 and 1% DMSO. Famotidine, and the control inhibitors, compound 6 and the ML188 were tested up to a maximal dose of 100 μM, 50 μM and 5 μM, respectively. The final response was obtained by subtracting the blank channel (without protein) and a buffer injection across the sample channel. Raw data were analyzed in the Scrubber2 program (BioLogic Software) by fitting the data to a simple 1:1 equilibrium and kinetic model.Virus infectivity assays were carried out using the 2019-nCoV/USA-WA1/2020 isolate of SARS-CoV-2 (NCBI accession number: MN985325), obtained from the Centers for Disease Control and Prevention and BEI Resources (Virginia, USA). The virus stock was propagated in Vero E6 cells and virus titers determined using plaque formation assays, as described previously41.Human lung A549 cells expressing SARS-CoV-2 entry factors and African Green Monkey kidney Vero E6 cells were maintained in DMEM supplemented with 10% fetal bovine serum (FBS). The cells were seeded into poly-L-lysine-coated 96-well plates at a density of 15,000 cells per well. The cells were then treated for 4 h with five-fold serial dilutions of famotidine, ranging between 0.32 µM and 200 µM. DMSO served as a negative control, while fivefold serial dilutions of remdesivir, ranging between 0.1 µM and 62.5 µM, served as a positive control. The cells were then infected with SARS-CoV-2 at a multiplicity of infection (MOI) of 0.1. To infect cells, the compound-containing medium was removed, and the cells were incubated with the virus for 1 h at 37ºC. The virus inoculum was then removed, and the cell monolayer was rinsed twice with 1X PBS. The compounds were added back followed by incubation for 72 h, after which the cell culture medium was harvested for quantitative real-time PCR (qRT-PCR) and plaque assays, while the cells were fixed with 4% paraformaldehyde for immunofluorescence microscopy.RNA was isolated from the cell culture supernatant of SARS-CoV-2-infected cells using the Quick-RNA Viral Kit (Zymo, California, USA cat no. R1035) according to the manufacturer’s instructions. Viral RNA was quantified using single-step RT-quantitative real-time PCR using the qScript One-Step RT-qPCR Kit (Quantabio, Massachusetts, USA; cat no. 95058) with primers and Taqman probes targeting the SARS-CoV-2 E gene as previously described42. Data were acquired using a Quantstudio3 Real-Time PCR System (Applied Biosystems) using the following conditions: 55 °C for 10 min, denaturation at 94 °C for 3 min, 45 cycles of denaturation at 94 °C for 15 s, and annealing at 58 °C for 30 s. The primers and probe used were as follow: E_Sarbeco_Forward: ACAGGTACGTTAATAGTTAATAGCGT; E_Sarbeco_Probe: FAM-ACACTAGCCATCCTTACTGCGCTTCG-BBQ; E_Sarbeco_Reverse: ATATTGCAGCAGTACGCACACA. For absolute quantification of viral RNA, a 389 bp fragment from the SARS-CoV-2 E gene was cloned onto pIDTBlue plasmid under an SP6 promoter using NEB PCR cloning kit (New England Biosciences, Massachusetts, USA; cat no. E1202S). The cloned fragment was then in-vitro transcribed using the mMessage mMachine SP6 transcription kit (ThermoFisher, Massachusetts, USA; cat no. AM1340) to generate the qRT-PCR standard.Virus-infected cells were fixed with 4% paraformaldehyde for 30 min. The fixative was removed, and the cell monolayer washed twice with 1X PBS. The cells were then permeabilized and stained with an anti-SARS-CoV Nucleocapsid (N) antibody (Rockland Inc., Pennsylvania, USA; cat. no. 200–401-A50; 1:2,000 dilution). Incubation with the primary antibody was performed overnight at 4ºC. The cells were then washed 5 times with 1X PBS and stained with Alexa 568-conjugated anti-rabbit antibody (1:1000 dilution) in the dark at room temperature for 1 h and counterstained with DAPI. Images were captured using EVOS M5000 Imaging System (ThermoFisher Scientific, Massachusetts, USA). Quantitation and analysis of the fixed cell images was carried out using the MuviCyte Live-Cell Imaging System (PerkinElmer, Massachusetts, USA). At least 7–10 microscopic fields were imaged per well using a 10X objective lens, the number of cells positive for the SARS-CoV-2 N protein and the nuclear DAPI stain, were counted. For each image, the percentage of DAPI-positive cells expressing the viral N protein were calculated, and the mean ± SD of multiple images for each condition was plotted.The CellTiter-Glo Luminescent Cell Viability Assay (Promega, Wisconsin, USA; cat no. G7570) was used to determine the cytotoxic effects of the compounds. Briefly, the cells were incubated with five-fold serial dilutions of famotidine or remdesivir for 72 h, after which the CellTiter-Glo Reagent was added to each well in a volume equal to the volume of the culture medium. The contents were mixed by shaking the plate on an orbital shaker for 2 min, followed by a 10 min incubation at room temperature. Luminescence was recorded using a Varioskan LUX multimode plate reader (ThermoFisher Scientific, Massachusetts, USA).'},\n",
              " {'name': 'Potential of combating transmission of COVID-19 using novel self-cleaning superhydrophobic surfaces: part II—thermal, chemical, and mechanical durability',\n",
              "  'text': 'COVID-19 can be transmitted through airborne respiratory droplets, ejected as a result of coughing or sneezing through human contact with contaminated surfaces (Yang and Wang 2020; Gralinski and Menachery 2020). Recent studies by the National Institute of Allergy and Infectious Diseases (USA) have shown that the virus can infect fomites made of metals, polymers and recycled paper for days (Van Doremalen et al. 2020).Superhydrophobic surfaces have recently gained popularity in the biomedical sector due to their ability to possess blood repellency characteristics and reduce bacterial/viral adhesion to surfaces and their antifouling properties (Falde et al. 2016; Shin et al. 2016; Jaggessar et al. 2017). Earlier studies have shown that personal protective equipment (PPE) that have high contact angles (CA) and low sliding angles (SA) can significantly reduce a virus’s carryover potential and provide antimicrobial properties (Katoh et al. 2019; Tomšič et al. 2008; Yeerken et al. 2019).In Part I, we demonstrated the potential in creating superhydrophobic coatings and monoliths that are capable to combating the transmission and spread of COVID-19. However, one of the main challenges that restricts the widespread utilization of superhydrophobic coatings in real applications is their durability (Ellinas et al. 2017; Jeevahan et al. 2018). Specifically, thermal and chemical stability as well as mechanical strength. Elevated temperatures can lead to the thermal degradation of hydrocarbon coatings (Cha et al. 2013) or thermal desorption of the hydrophobic material (Saleema and Farzaneh 2008), which result in the loss of surface superhydrophobicity. Additionally, some polymeric superhydrophobic surfaces cannot withstand elevated temperatures and are not recommended to operate above their glass transition temperature (Ellinas et al. 2017).Similarly, chemical attack due to exposure to acidic or alkaline solutions can result in severe deterioration of the superhydrophobicity of the treated surfaces (BaratiDarband et al. 2020). For instance, highly alkaline or acidic solutions can result in dissolving the hydrophobic functional groups (Zhao et al. 2017; Ishizaki et al. 2010) and cause chemical desorption of the hydrophobic material (Cui et al. 2015).Mechanical wear is considered one of the main performance degradation mechanisms of superhydrophobic surfaces (Milionis et al. 2016). Indeed, numerous studies and tests have been conducted to evaluate the influence of abrasion tests on the mechanical durability of these surfaces (Ellinas et al. 2017; Mortazavi and Khonsari 2017). Superhydrophobic surfaces generally suffer from weak mechanical durability due to the fragility of their nano/micro-hierarchical surface structure (Mortazavi and Khonsari 2017; Zhang et al. 2013). Additionally, polymeric materials involved in fabricating superhydrophobic surfaces usually suffer from poor mechanical stability and robustness (Ellinas et al. 2017). In our previous work (Elzaabalawy et al. 2019), we demonstrated that high external compressive loads can also lead to permanent plastic deformation of the surface hierarchical structure and the embedment of the hydrophobic nanoparticles, which ultimately cause a complete loss of superhydrophobicity.COVID-19 spreads mainly through droplet transmission or via contacting fomites. We believe that surfaces coated with or created from a superhydrophobic nanocomposite has the potential of combating virus transmission and spread through a 3-step strategy discussed in Part I. The superhydrophobic nanocomposites acquire their protection characteristics through chemical modification as well as a hierarchical nano/microstructure of the modified surface. However, typical surfaces are subjected to elevated temperatures, chemical attacks and mechanical damage during service. As a result, the surface repellency characteristics may be altered and the effectiveness and the potential of the surface to encapsulate and suppress the virus might be lost. For nanocomposite superhydrophobic surfaces, utilizing different polymeric materials can be used to vary the flexibility and durability of the developed surfaces. For instance, silicone polymers can be used when flexibility is sought, and epoxy can be employed to meet the requirements of harsh mechanical environments. The durability of the nanocomposite can also be enhanced and tailored by selecting constituent materials that possess high thermal and chemical stability. Moreover, superhydrophobic monoliths with regenerative capabilities can be employed in severe service conditions to accommodate mechanical damage. Since these monoliths acquire water repellency features throughout the entire bulk of the material, surfaces can be regenerated by removing the damaged layer and exposing a new superhydrophobic layer. In this case, superhydrophobicity can be maintained as long as the monolith’s thickness can accommodate a layer removal.The aim of Part II is to assess the ability of the superhydrophobic coating and monoliths discussed in Part I to resist thermal degradation, chemical attacks, and mechanical damage. Three aspects of the work were accordingly examined. The first was concerned with thermal stability tests in which the superhydrophobic surfaces were subjected to elevated temperatures approaching 350 °C for silicone-based nanocomposites and 150 °C for epoxy-based nanocomposites. The second was concerned with subjecting the surfaces to alkaline and acidic environments with PH values ranging between 1 and 13. Finally, the mechanical durability of the surface of epoxy-based nanocomposite coating was assessed using abrasion tests, while the regenerative capability of the silicone-based nanocomposite monoliths was evaluated using compressive loading. Given below is a summary of the approach adopted and the outcomes of our research.In this research program, superhydrophobic coatings and monoliths were developed using epoxy and silicone nanocomposites. We demonstrated the ability of these coatings to modify the surface characteristics of different substrate materials, as shown in Fig. 1. We have also succeeded in fabricating a bulk that is entirely superhydrophobic. In order to assess the thermal, chemical, and mechanical stability of these surfaces, multiple tests were conducted.Since superhydrophobic surfaces are characterized by CA above 150° and SA below 10°, the superhydrophobicity in these tests was assessed by measuring the contact and sliding angles. Contact angles were measured using an OCA 15EC contact angle analyzer (DataPhysics Instruments, Fig. 2), while sliding angles were measured using an in-house apparatus with controlled surface tilting until droplets roll off is achieved.As organic polymers, epoxy thermosets will degrade under thermo-oxidative conditions, and this degradation typically initiates at the surface. It is therefore necessary to conduct thermal stability tests for the superhydrophobic surface to ensure that water repellency is maintained after being subjected to surges of elevated temperatures. Unlike organic polymers, silicone is characterized by its higher thermal resistance due to the high stability of its siloxane backbone.In order to examine the thermal durability, coated samples and monoliths were placed in an oven for 3 h. Tests were conducted for different temperatures and the maximum temperature was selected based on the polymer’s auto-ignition temperature. Upon completing the test, samples were left to cool down, and then the contact and sliding angles were re-evaluated to assess their superhydrophobicity characteristics.For epoxy-based nanocomposites, thermal durability tests were conducted for temperatures between 75 and 150 °C in 25 °C increments. As depicted in Fig. 3, no variation was observed to the values of CA (~ 165°) or SA (~ 3°) for all of the tested temperatures. These results verify that the coated samples maintained their superhydrophobicity and the siloxane-modification process (Part I) succeeded in enhancing the water repellency of epoxy without compromising its durability.Silicone-based nanocomposites were tested for temperatures between 150 °C and 350 °C in 50 °C increments. As shown in Fig. 4, the coated samples and monoliths maintained high CA (~ 167° for monoliths and ~ 163° for coatings) and low SA (6° for monoliths and 5° for coatings) throughout the entire temperature range. These results further demonstrate the capability of the strong siloxane backbone within the polymer chemical structure to withstand elevated temperatures and maintain the superhydrophobicity of the nanocomposite.Chemical attacks or short-term immersion in corrosive solutions can result in severe degradation of the surface characteristics. To assess the chemical stability of the developed superhydrophobic nanocomposites, samples were immersed in acidic and alkaline solutions for 3 h at room temperature in a fume hood, as depicted in Fig. 5. Solutions were prepared using sulphuric acid or sodium hydroxide, which were diluted using distilled water to achieve pH values between 1 and 13. Following the immersion, water repellency of the samples was again evaluated by measuring the contact and sliding angles.Following the immersion tests, samples were observed to check their reflective appearance in the solution, which indicates a stable Cassie-Baxter wetting state, and to be completely dry upon removal. Furthermore, following the immersion, the CA and SA were measured for the epoxy-based and silicone-based nanocomposites, as depicted in Figs. 6 and 7, respectively. The measurements revealed that the nanocomposites are capable of maintaining their excellent superhydrophobicity for the entire range of pH values tested. Accordingly, these nanocomposites can operate and effectively maintain their performance in harsh service conditions that are subjected to acidic or alkaline chemical attacks.Abrasion is considered the most widely test used to evaluate the mechanical properties of superhydrophobic coatings (Milionis et al. 2016). Since silicone-based coatings are sought to provide flexibility rather than mechanical strength, abrasion tests were only conducted to evaluate the strength and durability of epoxy-based nanocomposite coatings. As schematically shown in Fig. 8, the samples were placed face down on silicon carbide coarse sandpaper (320 grit) under a calibrated weight pressure of ~ 1 kPa. Abrasion cycles (10 cm of linear displacement) were performed in alternating directions. Following each interval of cycles, debris were removed, and the contact and sliding angles were measured.The contact and sliding angles measurements following abrasion cycle intervals are demonstrated in Fig. 9. After 120 abrasion cycles, the coating was only able to maintain its high contact angle (> 150°), while the sliding angle increased above 10°. In order to examine the degradation caused to the nano/microstructure of the surface, SEM images were obtained,Figure 10 the results indicate that excessive abrasion cycles induce damage to the surface’s hierarchical structure (Fig. 9b) compared to the original superhydrophobic untouched coating (Fig. 9a). However, the nanocomposite coating was able to superbly sustain its superhydrophobicity after 90 abrasion cycles, which is attributed to the excellent adhesion strength and mechanical properties of epoxy polymers.Although the epoxy-based nanocomposite coating demonstrated excellent mechanical durability characteristics, service conditions can sometimes be harsher than a coating can handle. In those situations, a silicone-based nanocomposite monolith that is entirely superhydrophobic is an excellent replacement. Under harsh mechanical environment, the superhydrophobic surface’s hierarchical structure would be damaged. To obviate this damage, the surface can overcome that damage by the regeneration of a fresh superhydrophobic layer under controlled abrasion. In order to demonstrate these regenerative capabilities, monoliths were exposed to compressive stresses ranging between 1 and 10 MPa with the aid of a uniaxial electrohydraulic servo-controlled testing machine (Instron 5965). Samples with a square cross-section (20 mm × 20 mm) were placed between two flat metallic plates, and then the loading was applied at a displacement rate of 1 mm/min until the desired load was obtained. The compressive load was then maintained for 5 min before the samples were unloaded. Subsequently, CA and SA were measured after unloading and after samples were regenerated. The test set up is depicted in Fig. 11.The compression test results (Fig. 12) revealed that the monolith can withstand stresses up to 1 MPa without affecting its superhydrophobicity, in which CA and SA are maintained at ~ 167° and 6° respectively. For increased compressive stresses (3 and 5 MPa), gradual decrease in the CA and increase in SA were noticed. At a compressive stress of 10 MPa, CA reached ~ 149° and droplets were pinned to the surface and did not roll off even when applying a finite inclination angle. As shown in Fig. 13, SEM images indicated that this deterioration was caused by the plastic deformation in the surface’s hierarchical structure as a result of the high compressive stresses. Remarkably, the surface’s superhydrophobicity was fully restored upon the removal of the damaged layer through abrasion, and the respective CA and SA were fully recovered to ~ 167° and 6°, as depicted in Fig. 12. As observed, the regeneration process was successful for all values of destructive stresses (3–10 MPa).In this work, we examined the durability of the newly developed superhydrophobic surfaces proposed in Part I to potentially combat the transmission and spread of COVID-19. Thermal degradation, chemical attack and mechanical abrasion tests were conducted, and the superhydrophobic surface characteristics were re-tested and re-evaluated. Our extensive test results revealed that the developed epoxy-based and silicone-based nanocomposites can maintain their superhydrophobicity after being subjected for 3 h to elevated temperatures of 150 °C and 350 °C, respectively. The developed surfaces also preserved their characteristics after being immersed in alkaline and acidic solutions (pH values 1–13) for 3 h. In order to assess the mechanical durability of epoxy-based nanocomposites, samples were subjected to abrasion tests, and they were capable of maintaining their superhydrophobicity for 90 abrasion cycles. Moreover, the regeneration capabilities of the silicone-based nanocomposites were demonstrated by subjecting the monoliths to destructive compressive loads (up to 10 MPa), and then the high CA and low SA were easily restored through abrasion. These results verify the ability of these surfaces to survive harsh service conditions and their potential use to combat the transmission and spread of infected surfaces. It is important to note that we have neither examined the combined effect of these parameters upon the surface characteristics of the developed superhydrophobic surfaces nor the prolonged exposure to these conditions (aging), which are considered beyond the scope of the current study.'},\n",
              " {'name': 'Flank pain as a symptom of COVID-19',\n",
              "  'text': '\\nASymptomatic treatment onlyBRefer to physical therapy for flank pain related to muscle spasm.CThe patient should be hospitalized and followed up in the hospital until his complaints are resolvedDAbdominal CT images of the patient should be re-evaluated in the lung parenchyma window.\\n\\nD- The abdominal CT images of the patient were re-evaluated in the lung parenchyma window and referred to the pandemic outpatient clinic with suspected COVID-19.When the abdominal CT of the patient was reevaluated using lung parenchyma window, with COVID-19, more pronounced peripheral areas and diffuse patchy ground glass densities in both lung lower lobes were observed, concerning for a diagnosis of COVID19. (Figure 3\\n). The patient did not have any symptoms associated with COVID-19 such as fever, cough and shortness of breath at the time of admission. Polymerase chain reaction (PCR) test was positive. Abdominal and back pain have long been described as a symptom in pneumonia in both adults and children secondary to pleural irritation 3\\n,\\n4. Irritation-related flank pain caused by inflammation in the lung basal may be the first symptom of COVID-19 disease in some patients.'}]"
            ]
          },
          "metadata": {
            "tags": []
          },
          "execution_count": 17
        }
      ]
    },
    {
      "cell_type": "code",
      "metadata": {
        "colab": {
          "base_uri": "https://localhost:8080/"
        },
        "id": "QNLMcEKdiDPS",
        "outputId": "ce4e97a0-5ec8-414c-e59f-d9df4397a61d"
      },
      "source": [
        "document_store.write_documents(m_dict)"
      ],
      "execution_count": 18,
      "outputs": [
        {
          "output_type": "stream",
          "text": [
            "04/01/2021 08:36:16 - INFO - elasticsearch -   POST http://localhost:9200/_bulk?refresh=wait_for [status:200 request:4.525s]\n",
            "04/01/2021 08:36:18 - INFO - elasticsearch -   POST http://localhost:9200/_bulk?refresh=wait_for [status:200 request:2.265s]\n",
            "04/01/2021 08:36:21 - INFO - elasticsearch -   POST http://localhost:9200/_bulk?refresh=wait_for [status:200 request:2.319s]\n",
            "04/01/2021 08:36:23 - INFO - elasticsearch -   POST http://localhost:9200/_bulk?refresh=wait_for [status:200 request:2.304s]\n",
            "04/01/2021 08:36:26 - INFO - elasticsearch -   POST http://localhost:9200/_bulk?refresh=wait_for [status:200 request:2.253s]\n",
            "04/01/2021 08:36:28 - INFO - elasticsearch -   POST http://localhost:9200/_bulk?refresh=wait_for [status:200 request:2.202s]\n",
            "04/01/2021 08:36:31 - INFO - elasticsearch -   POST http://localhost:9200/_bulk?refresh=wait_for [status:200 request:2.202s]\n",
            "04/01/2021 08:36:33 - INFO - elasticsearch -   POST http://localhost:9200/_bulk?refresh=wait_for [status:200 request:2.336s]\n",
            "04/01/2021 08:36:36 - INFO - elasticsearch -   POST http://localhost:9200/_bulk?refresh=wait_for [status:200 request:2.213s]\n",
            "04/01/2021 08:36:38 - INFO - elasticsearch -   POST http://localhost:9200/_bulk?refresh=wait_for [status:200 request:2.153s]\n",
            "04/01/2021 08:36:40 - INFO - elasticsearch -   POST http://localhost:9200/_bulk?refresh=wait_for [status:200 request:2.219s]\n",
            "04/01/2021 08:36:43 - INFO - elasticsearch -   POST http://localhost:9200/_bulk?refresh=wait_for [status:200 request:2.091s]\n",
            "04/01/2021 08:36:45 - INFO - elasticsearch -   POST http://localhost:9200/_bulk?refresh=wait_for [status:200 request:2.151s]\n",
            "04/01/2021 08:36:48 - INFO - elasticsearch -   POST http://localhost:9200/_bulk?refresh=wait_for [status:200 request:2.629s]\n",
            "04/01/2021 08:36:51 - INFO - elasticsearch -   POST http://localhost:9200/_bulk?refresh=wait_for [status:200 request:3.285s]\n",
            "04/01/2021 08:36:54 - INFO - elasticsearch -   POST http://localhost:9200/_bulk?refresh=wait_for [status:200 request:2.054s]\n",
            "04/01/2021 08:36:56 - INFO - elasticsearch -   POST http://localhost:9200/_bulk?refresh=wait_for [status:200 request:2.125s]\n",
            "04/01/2021 08:36:58 - INFO - elasticsearch -   POST http://localhost:9200/_bulk?refresh=wait_for [status:200 request:2.138s]\n",
            "04/01/2021 08:37:00 - INFO - elasticsearch -   POST http://localhost:9200/_bulk?refresh=wait_for [status:200 request:1.207s]\n",
            "04/01/2021 08:37:02 - INFO - elasticsearch -   POST http://localhost:9200/_bulk?refresh=wait_for [status:200 request:2.098s]\n",
            "04/01/2021 08:37:04 - INFO - elasticsearch -   POST http://localhost:9200/_bulk?refresh=wait_for [status:200 request:1.933s]\n",
            "04/01/2021 08:37:06 - INFO - elasticsearch -   POST http://localhost:9200/_bulk?refresh=wait_for [status:200 request:2.123s]\n",
            "04/01/2021 08:37:08 - INFO - elasticsearch -   POST http://localhost:9200/_bulk?refresh=wait_for [status:200 request:1.133s]\n",
            "04/01/2021 08:37:09 - INFO - elasticsearch -   POST http://localhost:9200/_bulk?refresh=wait_for [status:200 request:1.190s]\n",
            "04/01/2021 08:37:11 - INFO - elasticsearch -   POST http://localhost:9200/_bulk?refresh=wait_for [status:200 request:2.207s]\n",
            "04/01/2021 08:37:14 - INFO - elasticsearch -   POST http://localhost:9200/_bulk?refresh=wait_for [status:200 request:2.126s]\n",
            "04/01/2021 08:37:16 - INFO - elasticsearch -   POST http://localhost:9200/_bulk?refresh=wait_for [status:200 request:2.064s]\n",
            "04/01/2021 08:37:18 - INFO - elasticsearch -   POST http://localhost:9200/_bulk?refresh=wait_for [status:200 request:2.119s]\n",
            "04/01/2021 08:37:21 - INFO - elasticsearch -   POST http://localhost:9200/_bulk?refresh=wait_for [status:200 request:2.044s]\n",
            "04/01/2021 08:37:22 - INFO - elasticsearch -   POST http://localhost:9200/_bulk?refresh=wait_for [status:200 request:1.165s]\n",
            "04/01/2021 08:37:24 - INFO - elasticsearch -   POST http://localhost:9200/_bulk?refresh=wait_for [status:200 request:2.080s]\n",
            "04/01/2021 08:37:26 - INFO - elasticsearch -   POST http://localhost:9200/_bulk?refresh=wait_for [status:200 request:1.119s]\n",
            "04/01/2021 08:37:27 - INFO - elasticsearch -   POST http://localhost:9200/_bulk?refresh=wait_for [status:200 request:1.108s]\n",
            "04/01/2021 08:37:28 - INFO - elasticsearch -   POST http://localhost:9200/_bulk?refresh=wait_for [status:200 request:1.271s]\n",
            "04/01/2021 08:37:31 - INFO - elasticsearch -   POST http://localhost:9200/_bulk?refresh=wait_for [status:200 request:2.367s]\n",
            "04/01/2021 08:37:33 - INFO - elasticsearch -   POST http://localhost:9200/_bulk?refresh=wait_for [status:200 request:2.109s]\n",
            "04/01/2021 08:37:35 - INFO - elasticsearch -   POST http://localhost:9200/_bulk?refresh=wait_for [status:200 request:2.189s]\n",
            "04/01/2021 08:37:37 - INFO - elasticsearch -   POST http://localhost:9200/_bulk?refresh=wait_for [status:200 request:1.149s]\n",
            "04/01/2021 08:37:39 - INFO - elasticsearch -   POST http://localhost:9200/_bulk?refresh=wait_for [status:200 request:2.009s]\n",
            "04/01/2021 08:37:40 - INFO - elasticsearch -   POST http://localhost:9200/_bulk?refresh=wait_for [status:200 request:1.147s]\n",
            "04/01/2021 08:37:42 - INFO - elasticsearch -   POST http://localhost:9200/_bulk?refresh=wait_for [status:200 request:1.951s]\n",
            "04/01/2021 08:37:44 - INFO - elasticsearch -   POST http://localhost:9200/_bulk?refresh=wait_for [status:200 request:1.116s]\n",
            "04/01/2021 08:37:46 - INFO - elasticsearch -   POST http://localhost:9200/_bulk?refresh=wait_for [status:200 request:2.110s]\n",
            "04/01/2021 08:37:48 - INFO - elasticsearch -   POST http://localhost:9200/_bulk?refresh=wait_for [status:200 request:2.082s]\n",
            "04/01/2021 08:37:51 - INFO - elasticsearch -   POST http://localhost:9200/_bulk?refresh=wait_for [status:200 request:2.190s]\n",
            "04/01/2021 08:37:53 - INFO - elasticsearch -   POST http://localhost:9200/_bulk?refresh=wait_for [status:200 request:1.908s]\n",
            "04/01/2021 08:37:54 - INFO - elasticsearch -   POST http://localhost:9200/_bulk?refresh=wait_for [status:200 request:1.393s]\n",
            "04/01/2021 08:37:56 - INFO - elasticsearch -   POST http://localhost:9200/_bulk?refresh=wait_for [status:200 request:1.774s]\n",
            "04/01/2021 08:37:59 - INFO - elasticsearch -   POST http://localhost:9200/_bulk?refresh=wait_for [status:200 request:2.144s]\n",
            "04/01/2021 08:38:00 - INFO - elasticsearch -   POST http://localhost:9200/_bulk?refresh=wait_for [status:200 request:1.098s]\n",
            "04/01/2021 08:38:02 - INFO - elasticsearch -   POST http://localhost:9200/_bulk?refresh=wait_for [status:200 request:2.150s]\n",
            "04/01/2021 08:38:04 - INFO - elasticsearch -   POST http://localhost:9200/_bulk?refresh=wait_for [status:200 request:2.135s]\n",
            "04/01/2021 08:38:07 - INFO - elasticsearch -   POST http://localhost:9200/_bulk?refresh=wait_for [status:200 request:2.127s]\n",
            "04/01/2021 08:38:09 - INFO - elasticsearch -   POST http://localhost:9200/_bulk?refresh=wait_for [status:200 request:2.109s]\n",
            "04/01/2021 08:38:11 - INFO - elasticsearch -   POST http://localhost:9200/_bulk?refresh=wait_for [status:200 request:2.233s]\n",
            "04/01/2021 08:38:14 - INFO - elasticsearch -   POST http://localhost:9200/_bulk?refresh=wait_for [status:200 request:2.100s]\n",
            "04/01/2021 08:38:16 - INFO - elasticsearch -   POST http://localhost:9200/_bulk?refresh=wait_for [status:200 request:2.113s]\n",
            "04/01/2021 08:38:17 - INFO - elasticsearch -   POST http://localhost:9200/_bulk?refresh=wait_for [status:200 request:1.149s]\n",
            "04/01/2021 08:38:19 - INFO - elasticsearch -   POST http://localhost:9200/_bulk?refresh=wait_for [status:200 request:2.073s]\n",
            "04/01/2021 08:38:22 - INFO - elasticsearch -   POST http://localhost:9200/_bulk?refresh=wait_for [status:200 request:2.177s]\n",
            "04/01/2021 08:38:24 - INFO - elasticsearch -   POST http://localhost:9200/_bulk?refresh=wait_for [status:200 request:1.959s]\n",
            "04/01/2021 08:38:26 - INFO - elasticsearch -   POST http://localhost:9200/_bulk?refresh=wait_for [status:200 request:2.128s]\n",
            "04/01/2021 08:38:29 - INFO - elasticsearch -   POST http://localhost:9200/_bulk?refresh=wait_for [status:200 request:2.195s]\n",
            "04/01/2021 08:38:31 - INFO - elasticsearch -   POST http://localhost:9200/_bulk?refresh=wait_for [status:200 request:2.152s]\n",
            "04/01/2021 08:38:33 - INFO - elasticsearch -   POST http://localhost:9200/_bulk?refresh=wait_for [status:200 request:2.219s]\n",
            "04/01/2021 08:38:36 - INFO - elasticsearch -   POST http://localhost:9200/_bulk?refresh=wait_for [status:200 request:2.146s]\n",
            "04/01/2021 08:38:38 - INFO - elasticsearch -   POST http://localhost:9200/_bulk?refresh=wait_for [status:200 request:2.048s]\n",
            "04/01/2021 08:38:40 - INFO - elasticsearch -   POST http://localhost:9200/_bulk?refresh=wait_for [status:200 request:2.132s]\n",
            "04/01/2021 08:38:41 - INFO - elasticsearch -   POST http://localhost:9200/_bulk?refresh=wait_for [status:200 request:1.150s]\n",
            "04/01/2021 08:38:44 - INFO - elasticsearch -   POST http://localhost:9200/_bulk?refresh=wait_for [status:200 request:2.062s]\n",
            "04/01/2021 08:38:46 - INFO - elasticsearch -   POST http://localhost:9200/_bulk?refresh=wait_for [status:200 request:2.137s]\n",
            "04/01/2021 08:38:48 - INFO - elasticsearch -   POST http://localhost:9200/_bulk?refresh=wait_for [status:200 request:2.122s]\n",
            "04/01/2021 08:38:51 - INFO - elasticsearch -   POST http://localhost:9200/_bulk?refresh=wait_for [status:200 request:2.129s]\n",
            "04/01/2021 08:38:53 - INFO - elasticsearch -   POST http://localhost:9200/_bulk?refresh=wait_for [status:200 request:2.118s]\n",
            "04/01/2021 08:38:55 - INFO - elasticsearch -   POST http://localhost:9200/_bulk?refresh=wait_for [status:200 request:2.114s]\n",
            "04/01/2021 08:38:57 - INFO - elasticsearch -   POST http://localhost:9200/_bulk?refresh=wait_for [status:200 request:2.181s]\n",
            "04/01/2021 08:39:00 - INFO - elasticsearch -   POST http://localhost:9200/_bulk?refresh=wait_for [status:200 request:2.160s]\n",
            "04/01/2021 08:39:02 - INFO - elasticsearch -   POST http://localhost:9200/_bulk?refresh=wait_for [status:200 request:2.101s]\n",
            "04/01/2021 08:39:04 - INFO - elasticsearch -   POST http://localhost:9200/_bulk?refresh=wait_for [status:200 request:2.135s]\n",
            "04/01/2021 08:39:07 - INFO - elasticsearch -   POST http://localhost:9200/_bulk?refresh=wait_for [status:200 request:2.128s]\n",
            "04/01/2021 08:39:09 - INFO - elasticsearch -   POST http://localhost:9200/_bulk?refresh=wait_for [status:200 request:1.992s]\n",
            "04/01/2021 08:39:11 - INFO - elasticsearch -   POST http://localhost:9200/_bulk?refresh=wait_for [status:200 request:2.213s]\n",
            "04/01/2021 08:39:14 - INFO - elasticsearch -   POST http://localhost:9200/_bulk?refresh=wait_for [status:200 request:2.058s]\n",
            "04/01/2021 08:39:16 - INFO - elasticsearch -   POST http://localhost:9200/_bulk?refresh=wait_for [status:200 request:2.136s]\n",
            "04/01/2021 08:39:18 - INFO - elasticsearch -   POST http://localhost:9200/_bulk?refresh=wait_for [status:200 request:2.194s]\n",
            "04/01/2021 08:39:21 - INFO - elasticsearch -   POST http://localhost:9200/_bulk?refresh=wait_for [status:200 request:2.207s]\n",
            "04/01/2021 08:39:23 - INFO - elasticsearch -   POST http://localhost:9200/_bulk?refresh=wait_for [status:200 request:2.131s]\n",
            "04/01/2021 08:39:25 - INFO - elasticsearch -   POST http://localhost:9200/_bulk?refresh=wait_for [status:200 request:2.049s]\n",
            "04/01/2021 08:39:27 - INFO - elasticsearch -   POST http://localhost:9200/_bulk?refresh=wait_for [status:200 request:1.867s]\n",
            "04/01/2021 08:39:29 - INFO - elasticsearch -   POST http://localhost:9200/_bulk?refresh=wait_for [status:200 request:1.890s]\n",
            "04/01/2021 08:39:32 - INFO - elasticsearch -   POST http://localhost:9200/_bulk?refresh=wait_for [status:200 request:2.116s]\n",
            "04/01/2021 08:39:33 - INFO - elasticsearch -   POST http://localhost:9200/_bulk?refresh=wait_for [status:200 request:1.221s]\n",
            "04/01/2021 08:39:35 - INFO - elasticsearch -   POST http://localhost:9200/_bulk?refresh=wait_for [status:200 request:2.035s]\n",
            "04/01/2021 08:39:37 - INFO - elasticsearch -   POST http://localhost:9200/_bulk?refresh=wait_for [status:200 request:2.124s]\n",
            "04/01/2021 08:39:40 - INFO - elasticsearch -   POST http://localhost:9200/_bulk?refresh=wait_for [status:200 request:2.121s]\n"
          ],
          "name": "stderr"
        }
      ]
    },
    {
      "cell_type": "markdown",
      "metadata": {
        "id": "OznkfWOEbCi_"
      },
      "source": [
        "## Retriever"
      ]
    },
    {
      "cell_type": "code",
      "metadata": {
        "id": "Hxsmob_KcdmY"
      },
      "source": [
        "from haystack.retriever.sparse import ElasticsearchRetriever\n",
        "retriever = ElasticsearchRetriever(document_store=document_store)"
      ],
      "execution_count": 19,
      "outputs": []
    },
    {
      "cell_type": "markdown",
      "metadata": {
        "id": "2VeW1gyCcp74"
      },
      "source": [
        "##Reader"
      ]
    },
    {
      "cell_type": "code",
      "metadata": {
        "colab": {
          "base_uri": "https://localhost:8080/",
          "height": 773,
          "referenced_widgets": [
            "410be08986a1475584b48898f56d40d4",
            "ecdf89d26d464c8baec78f5612fb0af0",
            "0fe57e1d53bf460ba9775d2b51c3e584",
            "d45818dd7ea44e5a85d2c4ef5cd20daa",
            "cee00137efe1411ebd00e5bae423f5b2",
            "29401b8bbfa34df581efbd86b3080f31",
            "c01e2b8937554830bf89f9f45130a19e",
            "3feae6e45c1a4ea785ad59bab649cc59",
            "a6f653476bcb40f39b7acf595d4a48dd",
            "200fddd31383487abc795a4041e9b867",
            "6e6af66e25cb48a49a6046844f1fcea5",
            "7e80113ace98417587c50fb0be37a20e",
            "f0bd52bc74b14098950fd913972417f0",
            "db4939cd9322406184576e75cd0c4e66",
            "8ffc5a7285aa4cf79c9f9936b4119ff7",
            "0a9e9e5d88bd4d3fab8133cc4fda49eb",
            "dc29eb01f12b40158b1423f47d67a141",
            "5c12216a92024817a56dd11e08b99c42",
            "d74ba37a0ae24531b18c94ef886f8113",
            "6f095de8a415442386f8324c33305140",
            "4d18e80cafe342f290a421aee8b13a57",
            "1d13ad122d76442d94b73eb1f711046f",
            "a1549f6de39b4d50895d8ec46780f090",
            "a68059998dde4c33a0cee82293a58181",
            "66f1dff3d7424033ab52be74b86aea9c",
            "b1d689a7e0e24b8ba1ffdf8258b8f834",
            "450f7969216e4a0b9ab515c0ea38212e",
            "f8f691d637af40c09e72b58ecc33296d",
            "3c3a34b5da5f47aeb75311d505f6cb02",
            "d8f72bc236eb49f9a1ae104392f1f14d",
            "9f436a38982249f8b4ebce8dfc3076f7",
            "c6657a18cdce44f8bebe9223650757c7",
            "1436be5208b2427ead00d069ea895690",
            "55a1c80be59541b2ba82cf4c8448bc43",
            "e5cd5ece481345e287093f51c37fb6bb",
            "1fa99d486ace49789a76ebdeeb0668c7",
            "3ceea38ba22948f59b4a1d7eaf51796a",
            "346b165b614f45e787d028059e789a7b",
            "a1c6d41343254791b84a6cae9c0b797b",
            "df44d2d7ff1d4da890fbaf918ffc86f8",
            "0bdba4d4540b4213bcac5e18b362bb11",
            "1803115ed08148beabc03caa7ad92fb3",
            "1f38b228a76646ee9c696937035163db",
            "587aa490a2744f32a1d77e141b1210f9",
            "2d7f21bf55794e35a66ff7600335af07",
            "b5be963b85884ec2bffa67e0e0b92ee3",
            "d7c659141c834b6faabe617537b56691",
            "ddde65355b4944139fa3bf00944f08e8"
          ]
        },
        "id": "9iOXruc2cu4a",
        "outputId": "b20d14b4-668b-400d-e554-f494614aebc8"
      },
      "source": [
        "reader = FARMReader(model_name_or_path='deepset/roberta-base-squad2-covid',\n",
        "                    use_gpu=True,\n",
        "                    context_window_size=500) # length of answer context"
      ],
      "execution_count": 20,
      "outputs": [
        {
          "output_type": "stream",
          "text": [
            "04/01/2021 08:39:57 - INFO - farm.utils -   Using device: CUDA \n",
            "04/01/2021 08:39:57 - INFO - farm.utils -   Number of GPUs: 1\n",
            "04/01/2021 08:39:57 - INFO - farm.utils -   Distributed Training: False\n",
            "04/01/2021 08:39:57 - INFO - farm.utils -   Automatic Mixed Precision: None\n",
            "04/01/2021 08:39:57 - INFO - filelock -   Lock 139684915273040 acquired on /root/.cache/huggingface/transformers/542143302684ef63fbbe923b7ff830b6cae5acb8dcdcfedf1812a6e8bcbf61fd.8dd41b466536c6c3bdd95bf3af2ef1b1d1f46ecff1ca46f0ca3326f0ac7cab2a.lock\n"
          ],
          "name": "stderr"
        },
        {
          "output_type": "display_data",
          "data": {
            "application/vnd.jupyter.widget-view+json": {
              "model_id": "410be08986a1475584b48898f56d40d4",
              "version_minor": 0,
              "version_major": 2
            },
            "text/plain": [
              "HBox(children=(FloatProgress(value=0.0, description='Downloading', max=1265.0, style=ProgressStyle(description…"
            ]
          },
          "metadata": {
            "tags": []
          }
        },
        {
          "output_type": "stream",
          "text": [
            "04/01/2021 08:39:57 - INFO - filelock -   Lock 139684915273040 released on /root/.cache/huggingface/transformers/542143302684ef63fbbe923b7ff830b6cae5acb8dcdcfedf1812a6e8bcbf61fd.8dd41b466536c6c3bdd95bf3af2ef1b1d1f46ecff1ca46f0ca3326f0ac7cab2a.lock\n",
            "04/01/2021 08:39:57 - INFO - filelock -   Lock 139684927591824 acquired on /root/.cache/huggingface/transformers/6fbd2164a7378c55ee270a6853cd8d4bf2135249471b9ea73e29921c739ec027.b6430c15132d2e032ab8de4b43a60282fe1ed45e48e8aca09fe4544410677760.lock\n"
          ],
          "name": "stderr"
        },
        {
          "output_type": "stream",
          "text": [
            "\n"
          ],
          "name": "stdout"
        },
        {
          "output_type": "display_data",
          "data": {
            "application/vnd.jupyter.widget-view+json": {
              "model_id": "a6f653476bcb40f39b7acf595d4a48dd",
              "version_minor": 0,
              "version_major": 2
            },
            "text/plain": [
              "HBox(children=(FloatProgress(value=0.0, description='Downloading', max=498637768.0, style=ProgressStyle(descri…"
            ]
          },
          "metadata": {
            "tags": []
          }
        },
        {
          "output_type": "stream",
          "text": [
            "04/01/2021 08:40:07 - INFO - filelock -   Lock 139684927591824 released on /root/.cache/huggingface/transformers/6fbd2164a7378c55ee270a6853cd8d4bf2135249471b9ea73e29921c739ec027.b6430c15132d2e032ab8de4b43a60282fe1ed45e48e8aca09fe4544410677760.lock\n"
          ],
          "name": "stderr"
        },
        {
          "output_type": "stream",
          "text": [
            "\n"
          ],
          "name": "stdout"
        },
        {
          "output_type": "stream",
          "text": [
            "04/01/2021 08:40:26 - INFO - filelock -   Lock 139684865648976 acquired on /root/.cache/huggingface/transformers/bede7fe1ec2f842f41d9f9824e7b8fb3cf9a67dc6c51bc12982b78e5d60e0057.647b4548b6d9ea817e82e7a9231a320231a1c9ea24053cc9e758f3fe68216f05.lock\n"
          ],
          "name": "stderr"
        },
        {
          "output_type": "display_data",
          "data": {
            "application/vnd.jupyter.widget-view+json": {
              "model_id": "dc29eb01f12b40158b1423f47d67a141",
              "version_minor": 0,
              "version_major": 2
            },
            "text/plain": [
              "HBox(children=(FloatProgress(value=0.0, description='Downloading', max=898822.0, style=ProgressStyle(descripti…"
            ]
          },
          "metadata": {
            "tags": []
          }
        },
        {
          "output_type": "stream",
          "text": [
            "04/01/2021 08:40:26 - INFO - filelock -   Lock 139684865648976 released on /root/.cache/huggingface/transformers/bede7fe1ec2f842f41d9f9824e7b8fb3cf9a67dc6c51bc12982b78e5d60e0057.647b4548b6d9ea817e82e7a9231a320231a1c9ea24053cc9e758f3fe68216f05.lock\n",
            "04/01/2021 08:40:26 - INFO - filelock -   Lock 139684867497936 acquired on /root/.cache/huggingface/transformers/98053e4f8868c5c6d632dcd9f12115c1ece3cc1ccf854e38fd9ab6d7f659c97c.5d12962c5ee615a4c803841266e9c3be9a691a924f72d395d3a6c6c81157788b.lock\n"
          ],
          "name": "stderr"
        },
        {
          "output_type": "stream",
          "text": [
            "\n"
          ],
          "name": "stdout"
        },
        {
          "output_type": "display_data",
          "data": {
            "application/vnd.jupyter.widget-view+json": {
              "model_id": "66f1dff3d7424033ab52be74b86aea9c",
              "version_minor": 0,
              "version_major": 2
            },
            "text/plain": [
              "HBox(children=(FloatProgress(value=0.0, description='Downloading', max=456318.0, style=ProgressStyle(descripti…"
            ]
          },
          "metadata": {
            "tags": []
          }
        },
        {
          "output_type": "stream",
          "text": [
            "04/01/2021 08:40:26 - INFO - filelock -   Lock 139684867497936 released on /root/.cache/huggingface/transformers/98053e4f8868c5c6d632dcd9f12115c1ece3cc1ccf854e38fd9ab6d7f659c97c.5d12962c5ee615a4c803841266e9c3be9a691a924f72d395d3a6c6c81157788b.lock\n",
            "04/01/2021 08:40:26 - INFO - filelock -   Lock 139684867495312 acquired on /root/.cache/huggingface/transformers/2fed5eaddcc70a0f63af0bfc72be760e4f0fec918dace5db252027cc20f3ba16.0dc5b1041f62041ebbd23b1297f2f573769d5c97d8b7c28180ec86b8f6185aa8.lock\n"
          ],
          "name": "stderr"
        },
        {
          "output_type": "stream",
          "text": [
            "\n"
          ],
          "name": "stdout"
        },
        {
          "output_type": "display_data",
          "data": {
            "application/vnd.jupyter.widget-view+json": {
              "model_id": "1436be5208b2427ead00d069ea895690",
              "version_minor": 0,
              "version_major": 2
            },
            "text/plain": [
              "HBox(children=(FloatProgress(value=0.0, description='Downloading', max=150.0, style=ProgressStyle(description_…"
            ]
          },
          "metadata": {
            "tags": []
          }
        },
        {
          "output_type": "stream",
          "text": [
            "04/01/2021 08:40:26 - INFO - filelock -   Lock 139684867495312 released on /root/.cache/huggingface/transformers/2fed5eaddcc70a0f63af0bfc72be760e4f0fec918dace5db252027cc20f3ba16.0dc5b1041f62041ebbd23b1297f2f573769d5c97d8b7c28180ec86b8f6185aa8.lock\n",
            "04/01/2021 08:40:26 - INFO - filelock -   Lock 139684867448656 acquired on /root/.cache/huggingface/transformers/caeecc32aeb918c12e16d5d820921b4c48bacad570362f72c273ea0635842292.7c7e847c8fcb54bf424535132294cf251d0f50c7c6a386139bdfe7fb2bbb2939.lock\n"
          ],
          "name": "stderr"
        },
        {
          "output_type": "stream",
          "text": [
            "\n"
          ],
          "name": "stdout"
        },
        {
          "output_type": "display_data",
          "data": {
            "application/vnd.jupyter.widget-view+json": {
              "model_id": "0bdba4d4540b4213bcac5e18b362bb11",
              "version_minor": 0,
              "version_major": 2
            },
            "text/plain": [
              "HBox(children=(FloatProgress(value=0.0, description='Downloading', max=190.0, style=ProgressStyle(description_…"
            ]
          },
          "metadata": {
            "tags": []
          }
        },
        {
          "output_type": "stream",
          "text": [
            "04/01/2021 08:40:26 - INFO - filelock -   Lock 139684867448656 released on /root/.cache/huggingface/transformers/caeecc32aeb918c12e16d5d820921b4c48bacad570362f72c273ea0635842292.7c7e847c8fcb54bf424535132294cf251d0f50c7c6a386139bdfe7fb2bbb2939.lock\n"
          ],
          "name": "stderr"
        },
        {
          "output_type": "stream",
          "text": [
            "\n"
          ],
          "name": "stdout"
        },
        {
          "output_type": "stream",
          "text": [
            "04/01/2021 08:40:26 - WARNING - farm.utils -   ML Logging is turned off. No parameters, metrics or artifacts will be logged to MLFlow.\n",
            "04/01/2021 08:40:26 - INFO - farm.utils -   Using device: CUDA \n",
            "04/01/2021 08:40:26 - INFO - farm.utils -   Number of GPUs: 1\n",
            "04/01/2021 08:40:26 - INFO - farm.utils -   Distributed Training: False\n",
            "04/01/2021 08:40:26 - INFO - farm.utils -   Automatic Mixed Precision: None\n",
            "04/01/2021 08:40:26 - INFO - farm.infer -   Got ya 2 parallel workers to do inference ...\n",
            "04/01/2021 08:40:26 - INFO - farm.infer -    0    0 \n",
            "04/01/2021 08:40:26 - INFO - farm.infer -   /w\\  /w\\\n",
            "04/01/2021 08:40:26 - INFO - farm.infer -   /'\\  / \\\n",
            "04/01/2021 08:40:26 - INFO - farm.infer -     \n"
          ],
          "name": "stderr"
        }
      ]
    },
    {
      "cell_type": "markdown",
      "metadata": {
        "id": "NzoA6wX2dCQr"
      },
      "source": [
        "## Finder"
      ]
    },
    {
      "cell_type": "code",
      "metadata": {
        "colab": {
          "base_uri": "https://localhost:8080/"
        },
        "id": "JWvW_oVDdRLz",
        "outputId": "c50425db-603a-402d-fa32-73d34c0fcabf"
      },
      "source": [
        "#finder = Finder(reader, retriever)"
      ],
      "execution_count": 47,
      "outputs": [
        {
          "output_type": "stream",
          "text": [
            "04/01/2021 06:07:20 - WARNING - haystack.finder -   DEPRECATION WARNINGS: \n",
            "            1. The 'Finder' class will be deprecated in the next Haystack release in \n",
            "            favour of a new `Pipeline` class that supports building custom search pipelines using Haystack components\n",
            "            including Retriever, Readers, and Generators.\n",
            "            For more details, please refer to the issue: https://github.com/deepset-ai/haystack/issues/544\n",
            "            2. The `question` parameter in search requests & results is renamed to `query`.\n"
          ],
          "name": "stderr"
        }
      ]
    },
    {
      "cell_type": "code",
      "metadata": {
        "id": "opWXQG4WdUHp"
      },
      "source": [
        "# changed version\n",
        "from haystack.pipeline import ExtractiveQAPipeline\n",
        "pipe = ExtractiveQAPipeline(reader, retriever)"
      ],
      "execution_count": 21,
      "outputs": []
    },
    {
      "cell_type": "markdown",
      "metadata": {
        "id": "4RgmXX-6Bc68"
      },
      "source": [
        "## Search"
      ]
    },
    {
      "cell_type": "code",
      "metadata": {
        "colab": {
          "base_uri": "https://localhost:8080/"
        },
        "id": "qqTNN7HDdxhR",
        "outputId": "72e8811b-76c9-4932-dd87-54890cefcf74"
      },
      "source": [
        "# You can configure how many candidates the reader and retriever shall return\n",
        "# The higher top_k_retriever, the better (but also the slower) your answers. \n",
        "prediction = pipe.run(query=\"what is the covid19 symptom?\", top_k_retriever=10, top_k_reader=3)"
      ],
      "execution_count": 24,
      "outputs": [
        {
          "output_type": "stream",
          "text": [
            "04/01/2021 08:41:21 - INFO - elasticsearch -   POST http://localhost:9200/document/_search [status:200 request:0.094s]\n",
            "Inferencing Samples: 100%|██████████| 1/1 [00:00<00:00,  1.65 Batches/s]\n",
            "Inferencing Samples: 100%|██████████| 1/1 [00:00<00:00,  3.67 Batches/s]\n",
            "Inferencing Samples: 100%|██████████| 3/3 [00:01<00:00,  1.65 Batches/s]\n",
            "04/01/2021 08:41:24 - ERROR - farm.modeling.predictions -   Both start and end offsets should be 0: \n",
            "41658, 41658 with a no_answer. \n",
            "Inferencing Samples: 100%|██████████| 1/1 [00:00<00:00,  3.47 Batches/s]\n",
            "Inferencing Samples: 100%|██████████| 1/1 [00:00<00:00,  1.50 Batches/s]\n",
            "Inferencing Samples: 100%|██████████| 1/1 [00:00<00:00,  1.60 Batches/s]\n",
            "Inferencing Samples: 100%|██████████| 1/1 [00:00<00:00,  2.87 Batches/s]\n",
            "Inferencing Samples: 100%|██████████| 1/1 [00:00<00:00,  3.98 Batches/s]\n",
            "Inferencing Samples: 100%|██████████| 1/1 [00:00<00:00,  4.49 Batches/s]\n",
            "Inferencing Samples: 100%|██████████| 1/1 [00:00<00:00,  1.94 Batches/s]\n"
          ],
          "name": "stderr"
        }
      ]
    },
    {
      "cell_type": "code",
      "metadata": {
        "colab": {
          "base_uri": "https://localhost:8080/"
        },
        "id": "2tE7FMdYeLet",
        "outputId": "50f701e2-2cdb-416d-d1b0-7691a7e9e346"
      },
      "source": [
        "print(type(prediction))\n",
        "print('\\n===== Minimal Answer =====')\n",
        "print_answers(results=prediction, details='minimal')\n",
        "print('\\n===== Number of Answers =====')\n",
        "print(len(prediction['answers']))\n",
        "print('\\n===== Answer Structure =====')\n",
        "print(prediction['answers'][0].keys())\n",
        "print('\\n===== Meta Information =====')\n",
        "print(prediction['answers'][0]['meta'])\n",
        "print('\\n===== Length of Context =====')\n",
        "print(len(prediction['answers'][-1]['context']))"
      ],
      "execution_count": 25,
      "outputs": [
        {
          "output_type": "stream",
          "text": [
            "<class 'dict'>\n",
            "\n",
            "===== Minimal Answer =====\n",
            "[   {   'answer': 'the most common symptom was dizziness (16.8%) followed '\n",
            "                  'closely by headache (13.1%)',\n",
            "        'context': 'airment, neuropathic pain, Guillain-Barre Syndrome and '\n",
            "                   'variants), and skeletal muscular injury 2 . In one '\n",
            "                   'observational study from Wuhan, of the 36.4% of COVID19 '\n",
            "                   'patients who showed neurologic manifestations, the most '\n",
            "                   'common symptom was dizziness (16.8%) followed closely by '\n",
            "                   'headache (13.1%) 2 . In another prospective analysis out '\n",
            "                   'of Wuhan, headache was present in 8% of all patients, '\n",
            "                   'overall the most common neurological symptom 1 . Neither '\n",
            "                   'of these studies collected data on milder nervous system '},\n",
            "    {   'answer': 'that fever was the most common initial symptom, followed by '\n",
            "                  'a cough, fatigue and shortness of breath',\n",
            "        'context': 'and 100% Negative Prediction when applying deep learning '\n",
            "                   'models on the detection of COVID19 from 260 X-Rays images. '\n",
            "                   'Yan, H.-T. Zhang, Yang Xiao, et al. (2020) analysed '\n",
            "                   'patients with COVID19 and found that fever was the most '\n",
            "                   'common initial symptom, followed by a cough, fatigue and '\n",
            "                   'shortness of breath. They used over 300 variables and '\n",
            "                   'found that lactic dehydrogenase, lymphocyte and '\n",
            "                   'high-sensitivity C-reactive protein were key clinical '\n",
            "                   'features. Chen et al. (2020) analysed the clinical '\n",
            "                   'characterist'},\n",
            "    {   'answer': 'headache as a symptom',\n",
            "        'context': 'rticles shared on social media relevant to this topic were '\n",
            "                   'also collected and considered for this review. Here, we '\n",
            "                   'aim to provide aThis article is protected by copyright. '\n",
            "                   'All rights reserved brief summary regarding COVID19 as it '\n",
            "                   'relates to headache as a symptom, headache as a disease, '\n",
            "                   'and headache medicine practice in areas with high COVID19 '\n",
            "                   'prevalence.Respiratory viruses in general can cause '\n",
            "                   'neurologic symptoms with headache being among the most '\n",
            "                   'common (alongside encephalopathy, seizure, and en'}]\n",
            "\n",
            "===== Number of Answers =====\n",
            "3\n",
            "\n",
            "===== Answer Structure =====\n",
            "dict_keys(['answer', 'score', 'probability', 'context', 'offset_start', 'offset_end', 'offset_start_in_doc', 'offset_end_in_doc', 'document_id', 'meta'])\n",
            "\n",
            "===== Meta Information =====\n",
            "{'name': 'TITLE PAGE COVID19 and Headache: A Primer for Trainees Authors'}\n",
            "\n",
            "===== Length of Context =====\n",
            "500\n"
          ],
          "name": "stdout"
        }
      ]
    },
    {
      "cell_type": "code",
      "metadata": {
        "id": "6IB3u3rUlZvl",
        "colab": {
          "base_uri": "https://localhost:8080/"
        },
        "outputId": "748d2c86-0f39-4474-d064-bd82aa78695a"
      },
      "source": [
        ""
      ],
      "execution_count": 33,
      "outputs": [
        {
          "output_type": "execute_result",
          "data": {
            "text/plain": [
              "1000"
            ]
          },
          "metadata": {
            "tags": []
          },
          "execution_count": 33
        }
      ]
    },
    {
      "cell_type": "code",
      "metadata": {
        "id": "rOHqfuXv8GZF"
      },
      "source": [
        ""
      ],
      "execution_count": null,
      "outputs": []
    }
  ]
}