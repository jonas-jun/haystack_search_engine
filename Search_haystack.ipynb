{
  "nbformat": 4,
  "nbformat_minor": 0,
  "metadata": {
    "accelerator": "GPU",
    "colab": {
      "name": "Search_haystack.ipynb",
      "provenance": [],
      "collapsed_sections": [],
      "authorship_tag": "ABX9TyO94zuliLcFuXu9kD8ArExq",
      "include_colab_link": true
    },
    "kernelspec": {
      "display_name": "Python 3",
      "name": "python3"
    },
    "language_info": {
      "name": "python"
    }
  },
  "cells": [
    {
      "cell_type": "markdown",
      "metadata": {
        "id": "view-in-github",
        "colab_type": "text"
      },
      "source": [
        "<a href=\"https://colab.research.google.com/github/jonas-jun/haystack_search_engine/blob/main/Search_haystack.ipynb\" target=\"_parent\"><img src=\"https://colab.research.google.com/assets/colab-badge.svg\" alt=\"Open In Colab\"/></a>"
      ]
    },
    {
      "cell_type": "markdown",
      "metadata": {
        "id": "dnfcshcG-Crs"
      },
      "source": [
        "# Building a Faster & Accurate CORD Search Engine\n",
        "\n",
        "**Dataset**  \n",
        "COVID-19 Open Research Dataset Challenge (CORD-19)  \n",
        "An AI challenge with AI2, CZI, MSR, Georgetown, NIH & The White House\n",
        "[link](https://www.kaggle.com/allen-institute-for-ai/CORD-19-research-challenge)\n",
        "\n",
        "\n",
        "**Reference**  \n",
        "Medium [link](https://medium.com/analytics-vidhya/building-a-faster-and-accurate-search-engine-on-custom-dataset-with-transformers-d1277bedff3d)  \n",
        "Kaggle notebook [link](https://www.kaggle.com/officialshivanandroy/building-faster-accurate-cord-search-engine)  \n",
        "Haystack [link](https://github.com/deepset-ai/haystack)  \n",
        "Basic QA pipeline tutorial by Farm-Haystack [Colab link](https://colab.research.google.com/github/deepset-ai/haystack/blob/master/tutorials/Tutorial1_Basic_QA_Pipeline.ipynb#scrollTo=ENjEn8L4Y8Fo)  \n"
      ]
    },
    {
      "cell_type": "markdown",
      "metadata": {
        "id": "sdzprawl85Fn"
      },
      "source": [
        ""
      ]
    },
    {
      "cell_type": "markdown",
      "metadata": {
        "id": "pa0T5-NACpvp"
      },
      "source": [
        "## Prepare Haystack\n",
        "\n",
        "**What to build with Haystack**  \n",
        "- Ask questions in natural language and find granular answers in your documents.\n",
        "- Perform semantic search and retrieve documents according to meaning, not keywords\n",
        "- Use off-the-shelf models or fine-tune them to your domain.\n",
        "- Use user feedback to evaluate, benchmark, and continuously improve your live models.\n",
        "- Leverage existing knowledge bases and better handle the long tail of queries that chatbots receive.\n",
        "- Automate processes by automatically applying a list of questions to new documents and using the extracted answers."
      ]
    },
    {
      "cell_type": "markdown",
      "metadata": {
        "id": "SjDW8_DlC7__"
      },
      "source": [
        "**For installation**  \n",
        "- from github !pip install git+https://github.com/deepset-ai/haystack.git"
      ]
    },
    {
      "cell_type": "code",
      "metadata": {
        "id": "D7JPMVLwGxQ6"
      },
      "source": [
        "!pip install git+https://github.com/deepset-ai/haystack.git"
      ],
      "execution_count": null,
      "outputs": []
    },
    {
      "cell_type": "code",
      "metadata": {
        "colab": {
          "base_uri": "https://localhost:8080/"
        },
        "id": "93RN4Oe8HNVh",
        "outputId": "88dcb92f-41c1-4af6-ddbc-a52a6b4f482f"
      },
      "source": [
        "from haystack import Finder\n",
        "from haystack.preprocessor.cleaning import clean_wiki_text #haystack.indexing -> haystack.preprocessor\n",
        "from haystack.preprocessor.utils import convert_files_to_dicts, fetch_archive_from_http\n",
        "from haystack.reader.farm import FARMReader\n",
        "from haystack.reader.transformers import TransformersReader\n",
        "from haystack.utils import print_answers"
      ],
      "execution_count": null,
      "outputs": [
        {
          "output_type": "stream",
          "text": [
            "04/01/2021 10:26:02 - INFO - faiss.loader -   Loading faiss with AVX2 support.\n",
            "04/01/2021 10:26:02 - INFO - faiss.loader -   Loading faiss.\n",
            "04/01/2021 10:26:03 - INFO - farm.modeling.prediction_head -   Better speed can be achieved with apex installed from https://www.github.com/nvidia/apex .\n"
          ],
          "name": "stderr"
        }
      ]
    },
    {
      "cell_type": "markdown",
      "metadata": {
        "id": "4R5lwJht-ZVv"
      },
      "source": [
        "## Dataset\n",
        "\n",
        "from json to dataframe"
      ]
    },
    {
      "cell_type": "code",
      "metadata": {
        "colab": {
          "base_uri": "https://localhost:8080/"
        },
        "id": "nyZsdW17BZXz",
        "outputId": "dbecf46c-efae-4498-d04c-b02641267d1f"
      },
      "source": [
        "# for colab\n",
        "from google.colab import drive\n",
        "drive.mount('/content/drive', force_remount=True)\n",
        "GDRIVE_HOME = '/content/drive/MyDrive'\n",
        "FOLDER = 'GSDS/2021_1/Search_engine_Haystack/data_cord'"
      ],
      "execution_count": null,
      "outputs": [
        {
          "output_type": "stream",
          "text": [
            "Mounted at /content/drive\n"
          ],
          "name": "stdout"
        }
      ]
    },
    {
      "cell_type": "code",
      "metadata": {
        "id": "9PsP6s32B1LB"
      },
      "source": [
        "# # read 50,000 docs to dataframe [id, title, abstract, full text]\n",
        "# import numpy as np\n",
        "# import pandas as pd\n",
        "# import os\n",
        "# import json\n",
        "# import re\n",
        "# from tqdm import tqdm\n",
        "\n",
        "# dirs = ['pmc_json', 'pdf_json']\n",
        "# docs = list()\n",
        "# counts = list()\n",
        "\n",
        "# for d in dirs:\n",
        "#     print(d)\n",
        "#     counts = 0\n",
        "#     target_dir = os.path.join(GDRIVE_HOME, FOLDER, d)\n",
        "#     for f in tqdm(os.listdir(target_dir)):\n",
        "#         file_path = os.path.join(target_dir, f)\n",
        "#         j = json.load(open(file_path, 'rb'))\n",
        "#         paper_id = j['paper_id']\n",
        "#         paper_id = paper_id[-7:] # take last 7 characters for id\n",
        "#         title = j['metadata']['title']\n",
        "\n",
        "#         try: # no abstracts in some docs\n",
        "#             abstract = j['abstract'][0]['text']\n",
        "#         except:\n",
        "#             abstract = ''\n",
        "\n",
        "#         full_text = str()\n",
        "#         bib_entries = list()\n",
        "#         for text in j['body_text']:\n",
        "#             full_text += text['text']\n",
        "\n",
        "#         docs.append([paper_id, title, abstract, full_text])\n",
        "#         counts += 1\n",
        "#         if count >= 25000:\n",
        "#             break # only for 25000 files\n",
        "\n",
        "# df = pd.DataFrame(docs, columns=['paper_id', 'title', 'abstract', 'full_text'])"
      ],
      "execution_count": null,
      "outputs": []
    },
    {
      "cell_type": "code",
      "metadata": {
        "colab": {
          "base_uri": "https://localhost:8080/",
          "height": 578
        },
        "id": "B_DnE0izNEZz",
        "outputId": "ef5b795c-b169-4af7-d79d-55aecafd23b4"
      },
      "source": [
        "import os\n",
        "import pandas as pd\n",
        "df = pd.read_csv(os.path.join(GDRIVE_HOME, FOLDER, 'processed.csv'))\n",
        "print('Shape of Dataframe: {}\\n'.format(df.shape))\n",
        "print('Information')\n",
        "print(df.info())\n",
        "print('\\nSamples')\n",
        "df.sample(5)"
      ],
      "execution_count": null,
      "outputs": [
        {
          "output_type": "stream",
          "text": [
            "Shape of Dataframe: (50000, 4)\n",
            "\n",
            "Information\n",
            "<class 'pandas.core.frame.DataFrame'>\n",
            "RangeIndex: 50000 entries, 0 to 49999\n",
            "Data columns (total 4 columns):\n",
            " #   Column     Non-Null Count  Dtype \n",
            "---  ------     --------------  ----- \n",
            " 0   paper_id   50000 non-null  object\n",
            " 1   title      47432 non-null  object\n",
            " 2   abstract   17286 non-null  object\n",
            " 3   full_text  50000 non-null  object\n",
            "dtypes: object(4)\n",
            "memory usage: 1.5+ MB\n",
            "None\n",
            "\n",
            "Samples\n"
          ],
          "name": "stdout"
        },
        {
          "output_type": "execute_result",
          "data": {
            "text/html": [
              "<div>\n",
              "<style scoped>\n",
              "    .dataframe tbody tr th:only-of-type {\n",
              "        vertical-align: middle;\n",
              "    }\n",
              "\n",
              "    .dataframe tbody tr th {\n",
              "        vertical-align: top;\n",
              "    }\n",
              "\n",
              "    .dataframe thead th {\n",
              "        text-align: right;\n",
              "    }\n",
              "</style>\n",
              "<table border=\"1\" class=\"dataframe\">\n",
              "  <thead>\n",
              "    <tr style=\"text-align: right;\">\n",
              "      <th></th>\n",
              "      <th>paper_id</th>\n",
              "      <th>title</th>\n",
              "      <th>abstract</th>\n",
              "      <th>full_text</th>\n",
              "    </tr>\n",
              "  </thead>\n",
              "  <tbody>\n",
              "    <tr>\n",
              "      <th>30957</th>\n",
              "      <td>7b3ce94</td>\n",
              "      <td>Article 634640 Citation: Rohde KH and Sorci L (2021) The Prospective Synergy...</td>\n",
              "      <td>Given the upsurge of drug-resistant tuberculosis worldwide, there is much fo...</td>\n",
              "      <td>Tuberculosis (TB), caused by Mycobacterium tuberculosis (Mtb), is the leadin...</td>\n",
              "    </tr>\n",
              "    <tr>\n",
              "      <th>18881</th>\n",
              "      <td>7365634</td>\n",
              "      <td>Invited editorial from the social media editor of JPRAS; Leadership in the t...</td>\n",
              "      <td>NaN</td>\n",
              "      <td>Plastic surgeons have contributed to the efforts against COVID-19 by restruc...</td>\n",
              "    </tr>\n",
              "    <tr>\n",
              "      <th>40035</th>\n",
              "      <td>f0d8b1f</td>\n",
              "      <td>-NC-ND license Protective effects of Corchorus olitorius and Butea monosperm...</td>\n",
              "      <td>Millions of people around the world are chronically exposed to Arsenic (As) ...</td>\n",
              "      <td>Arsenic (As) is a ubiquitous toxic metalloid present in the environment all ...</td>\n",
              "    </tr>\n",
              "    <tr>\n",
              "      <th>22712</th>\n",
              "      <td>7687025</td>\n",
              "      <td>ACE2, angiotensin 1-7 and skeletal muscle: review in the era of COVID-19</td>\n",
              "      <td>NaN</td>\n",
              "      <td>In 2020, the global pandemic of COVID-19 has shed light on Angiotensin conve...</td>\n",
              "    </tr>\n",
              "    <tr>\n",
              "      <th>39877</th>\n",
              "      <td>bb4f2a8</td>\n",
              "      <td>Porcine deltacoronavirus (PDCoV) infection antagonizes interferon-λ1 production</td>\n",
              "      <td>Porcine deltacoronavirus (PDCoV) is a novel swine enteropathogenic coronavir...</td>\n",
              "      <td>Porcine deltacoronavirus (PDCoV) is an emerging swine enteric coronavirus (C...</td>\n",
              "    </tr>\n",
              "  </tbody>\n",
              "</table>\n",
              "</div>"
            ],
            "text/plain": [
              "      paper_id  ...                                                                        full_text\n",
              "30957  7b3ce94  ...  Tuberculosis (TB), caused by Mycobacterium tuberculosis (Mtb), is the leadin...\n",
              "18881  7365634  ...  Plastic surgeons have contributed to the efforts against COVID-19 by restruc...\n",
              "40035  f0d8b1f  ...  Arsenic (As) is a ubiquitous toxic metalloid present in the environment all ...\n",
              "22712  7687025  ...  In 2020, the global pandemic of COVID-19 has shed light on Angiotensin conve...\n",
              "39877  bb4f2a8  ...  Porcine deltacoronavirus (PDCoV) is an emerging swine enteric coronavirus (C...\n",
              "\n",
              "[5 rows x 4 columns]"
            ]
          },
          "metadata": {
            "tags": []
          },
          "execution_count": 6
        }
      ]
    },
    {
      "cell_type": "code",
      "metadata": {
        "colab": {
          "base_uri": "https://localhost:8080/"
        },
        "id": "s2rFe_gKizWR",
        "outputId": "9874ecda-d800-4ddc-91ae-9334d9199035"
      },
      "source": [
        "# remove null samples in those columns\n",
        "df = df.dropna(subset=['title', 'full_text'])\n",
        "df.info()"
      ],
      "execution_count": null,
      "outputs": [
        {
          "output_type": "stream",
          "text": [
            "04/01/2021 10:29:37 - INFO - numexpr.utils -   NumExpr defaulting to 2 threads.\n"
          ],
          "name": "stderr"
        },
        {
          "output_type": "stream",
          "text": [
            "<class 'pandas.core.frame.DataFrame'>\n",
            "Int64Index: 47432 entries, 0 to 49999\n",
            "Data columns (total 4 columns):\n",
            " #   Column     Non-Null Count  Dtype \n",
            "---  ------     --------------  ----- \n",
            " 0   paper_id   47432 non-null  object\n",
            " 1   title      47432 non-null  object\n",
            " 2   abstract   16608 non-null  object\n",
            " 3   full_text  47432 non-null  object\n",
            "dtypes: object(4)\n",
            "memory usage: 1.8+ MB\n"
          ],
          "name": "stdout"
        }
      ]
    },
    {
      "cell_type": "markdown",
      "metadata": {
        "id": "O55kawXKbr5S"
      },
      "source": [
        "## Set up DocumentStore (종류별로 조사)\n",
        "\n",
        "*Haystack* finds answer to queries within the documents stored in a *DocumentStore*.  \n",
        "\n",
        "The current implementations of DocumentStore include *ElasticsearchDocumentStore*, *SQLDocumentStore*, *FAISSDocumentStore*, and *InMemoryDocumentStore*.  \n",
        "\n",
        "But they recommend *ElasticsearchDocumentStore* because as it comes preloaded with features like full-text queries, BM25 retrieval, and vector storage for text embeddings."
      ]
    },
    {
      "cell_type": "code",
      "metadata": {
        "id": "tqvpQ2XjyLDj"
      },
      "source": [
        "# Recommended: Start Elasticsearch using Docker (basic, but manually download in colab)\n",
        "#! docker run -d -p 9200:9200 -e \"discovery.type=single-node\" elasticsearch:7.9.2"
      ],
      "execution_count": null,
      "outputs": []
    },
    {
      "cell_type": "code",
      "metadata": {
        "id": "4FLaAQmNgvTd"
      },
      "source": [
        "! wget https://artifacts.elastic.co/downloads/elasticsearch/elasticsearch-7.9.2-linux-x86_64.tar.gz -q\n",
        "! tar -xzf elasticsearch-7.9.2-linux-x86_64.tar.gz\n",
        "! chown -R daemon:daemon elasticsearch-7.9.2\n",
        "# version change to 7.9.2 from 7.6\n",
        "import os\n",
        "from subprocess import Popen, PIPE, STDOUT\n",
        "es_server = Popen(['elasticsearch-7.9.2/bin/elasticsearch'],\n",
        "                   stdout=PIPE, stderr=STDOUT,\n",
        "                   preexec_fn=lambda: os.setuid(1)  # as daemon\n",
        "                  )\n",
        "# wait until ES has started\n",
        "! sleep 30"
      ],
      "execution_count": null,
      "outputs": []
    },
    {
      "cell_type": "code",
      "metadata": {
        "colab": {
          "base_uri": "https://localhost:8080/"
        },
        "id": "Rp6yA8C_hapA",
        "outputId": "61388fcb-4b43-4666-fba5-3731e4db5838"
      },
      "source": [
        "# Connect to Elasticsearch\n",
        "from haystack.document_store.elasticsearch import ElasticsearchDocumentStore # file name changed from database to document_store\n",
        "document_store = ElasticsearchDocumentStore(host=\"localhost\", username=\"\", password=\"\", index=\"document\")"
      ],
      "execution_count": null,
      "outputs": [
        {
          "output_type": "stream",
          "text": [
            "04/01/2021 10:32:43 - INFO - elasticsearch -   HEAD http://localhost:9200/ [status:200 request:0.084s]\n",
            "04/01/2021 10:32:43 - INFO - elasticsearch -   PUT http://localhost:9200/document [status:200 request:0.353s]\n",
            "04/01/2021 10:32:43 - INFO - elasticsearch -   PUT http://localhost:9200/label [status:200 request:0.235s]\n"
          ],
          "name": "stderr"
        }
      ]
    },
    {
      "cell_type": "markdown",
      "metadata": {
        "id": "hfOD2quZ_qsJ"
      },
      "source": [
        "Change structure of the dataset (dicts list)\n",
        "\n",
        "1. [{'name': str, 'text': str}, {'name': str, 'text': str}, ...]\n",
        "2. [{'text': str, 'meta': {'name': str, ...}, ...]"
      ]
    },
    {
      "cell_type": "code",
      "metadata": {
        "id": "V9CZf6_VeSV7"
      },
      "source": [
        "# Structure 1\n",
        "modified = df[['title', 'full_text']].rename(columns={'title': 'name', 'full_text': 'text'})\n",
        "dicts_1 = modified.to_dict(orient='records') # dictionary 만드는 방식"
      ],
      "execution_count": 19,
      "outputs": []
    },
    {
      "cell_type": "code",
      "metadata": {
        "colab": {
          "base_uri": "https://localhost:8080/"
        },
        "id": "enybAqH8AwiF",
        "outputId": "9249e769-f6ac-4e7d-c5fa-f02ee0db86c3"
      },
      "source": [
        "dicts_1[:3]"
      ],
      "execution_count": 50,
      "outputs": [
        {
          "output_type": "execute_result",
          "data": {
            "text/plain": [
              "[{'name': 'The in-vitro effect of famotidine on sars-cov-2 proteases and virus replication',\n",
              "  'text': 'A large part of the current therapeutic discovery effort against the severe acute respiratory syndrome coronavirus 2 (SARS-CoV)-2 is focused on drug repurposing1. Of such agents, only remdesivir has thus far shown clinical evidence of antiviral effect2, while several others have not met their primary endpoints in various clinical studies3,4. Recently, famotidine has gained attention as a therapeutic option against SARS-CoV-2, initially based on anecdotal evidence of its positive effects in COVID-19 patients in China. Famotidine (PEPCID®), a histamine-2 receptor (H2R) antagonist, is an FDA approved drug for the treatment of gastroesophageal reflux disease (GERD) and gastric ulcers5.Earlier reports of the beneficial effect of famotidine in China were recently supported by a retrospective clinical study involving 1620 patients in the U.S., which noted that hospitalized COVID-19 patients receiving a total median dose of 136 mg famotidine, in oral or IV formulation once daily, for 6 days had a reduced risk of death or intubation6. Another study involving 10 non-hospitalized patients linked the use of high-dose oral famotidine (240 mg per day for a median of 11 days) with patient-reported improvements in symptoms such as shortness of breath and cough7. These two reports conclude that the use of high-dose famotidine may be associated with improvements in both mild and severe symptoms of COVID-19. While a large, multi-center clinical trial to confirm these observations is in progress, the mechanism by which famotidine purportedly improves the clinical outcomes in COVID-19 patients is unknown. In silico modeling and molecular docking studies have separately suggested either of the two SARS-CoV-2 proteases as potential targets of famotidine activity8,9. In one computational study, Wu et. al. docked a library of approved drugs on to the available X-ray crystal structure of the 3-chymotrypsin-like protease (3CLpro) of SARS-CoV-2, identifying famotidine as one of the drugs likely to act on the protease8. Other computational reports have predicted famotidine as an inhibitor of the Papain-like protease (PLpro), a second SARS-CoV-2 protease9. Together, these studies have raised the prospect of a direct antiviral effect of famotidine on SARS-CoV-2 replication. While both proteins are attractive targets for SARS-CoV-2 drug development10–19, there are at present no clinical-stage or approved drugs targeting either protein. The possibility of famotidine, an approved drug, acting on SARS-CoV-2 proteases is of significant clinical interest. In this in-vitro study, we performed an array of biochemical, biophysical, and antiviral experiments to test if famotidine is an effector of SARS-CoV-2 proteases and whether it inhibits virus replication in cultured cells.Processing of the SARS-CoV-2 polyprotein is critical to the generation of a functional virus replication complex11,18,20. To carry out this essential proteolytic function, the SARS-CoV-2 genome encodes two cysteine proteases, called PLpro and 3CLpro18. Due to their critical roles in viral polyprotein processing and virus proliferation, both proteases are considered attractive targets for drug discovery10,11,13–17,21. Since in silico docking studies have predicted these proteases as putative molecular targets of famotidine6,8,9, we methodically investigated the effect of famotidine on the catalytic functions of each protease.First, we developed an in-vitro activity assay of PLpro. PLpro is a protease domain found within the large multi-domain nsp3 protein encoded by SARS-CoV-2. While many coronaviruses encode two papain-like proteases, SARS-CoV, MERS-CoV and SARS-CoV-2 possess only one PLpro, which processes the amino-terminal end of the viral polyprotein liberating nsp1, nsp2 and nsp319,21. Additionally, PLpro deubiquitinates host cell proteins by cleaving the consensus motif of LXGG18,19 and is known to efficiently hydrolyze both diubiquitin and synthetic peptide substrates19. We leveraged the deubiquitinating property of PLpro to set up a functional activity assay using ubiquitin-AMC, a fluorogenic substrate cleavable by PLpro. Upon incubation with PLpro, the ubiquitin is recognized and cleaved at the C-terminus to liberate the AMC (amido-4-methylcoumarin) fluorophore which results in increased fluorescence that is read using excitation and emission wavelengths of 355/460 nm. We assessed the ability of famotidine to inhibit the proteolytic activity of PLpro at a broad range of drug concentrations vis-à-vis compound 6, a previously reported inhibitor of PLpro activity21. Experimental conditions including protein and substrate concentrations, buffer composition, and assay kinetics were optimized using compound 6. While compound 6 inhibited PLpro activity with the expected low single-digit μM IC50 values, famotidine showed no reduction in PLpro activity in the titrated range of 0.01–200 μM (Fig. 1a).We next tested whether famotidine can inhibit the enzymatic activity of 3CLpro, the second protease encoded by the SARS-CoV-2 genome. This protein, also referred to as the main protease (Mpro) or nsp5, cleaves the viral polyprotein at 11 unique sites11. This proteolytic activity generates multiple individual functional proteins required for the assembly of the SARS-CoV-2 replication/transcription complex, which drives viral genome replication20. Owing to its central role in the coronavirus life cycle, 3CLpro has received significant attention as a drug target resulting in the discovery of several potent inhibitors 10,14,15,17. Native 3CLpro exists as a homodimer and requires dimerization for its proteolytic activity11. The catalytic mechanism of 3CLpro activity is typical of cysteine proteases, where the Cys-His catalytic dyad drives site-specific cleavage of substrates. We evaluated the enzymatic activity of 3CLpro using a FRET-peptide substrate that quenched fluorescence in its intact form, however, cleavage of the peptide substrate by 3CLpro produced fluorescence that could be measured at the excitation/emission wavelengths of 490/535 nm. The inclusion of ML188, a previously reported 3CLpro inhibitor served as a control, also aiding assay setup and optimization. Results of the FRET assay for various ML188 and famotidine concentrations are shown in Fig. 1b. Both compounds were tested between a range of 0.01–200 μM. While ML188 produced a dose-dependent inhibition of 3CLpro activity with an expected IC50 of 2.4 μM, famotidine did not inhibit 3CLpro activity.When tested alone, neither famotidine nor the other tested compounds produced autofluorescence at the 355/460 nm and 490/535 nm wavelengths, respectively. These two experiments indicate that famotidine does not interfere with the catalytic activity of either of the two SARS-CoV-2 proteases.The function of many enzymes, such as proteases and kinases, can extend beyond their catalytic roles and includes a wide spectrum of non-catalytic activities such as allosteric regulation, scaffolding, protein–protein interactions, and protein-DNA interactions22. To rule out whether famotidine could bind away from the active site of the two viral proteases, and exert an effect through interference with non-proteolytic functions, we asked if famotidine is able to bind directly with either of the two SARS-CoV-2 proteases. For this, we employed two distinct biophysical techniques i.e. surface plasmon resonance (SPR) and differential scanning fluorimetry (DSF), that are routinely used to probe drug-protein engagement.For our SPR studies, the biotinylated viral proteases were captured to a high density on sensor chips via neutravidin, permitting real-time detection of small-molecule binding to the target viral proteases. Engagement of the small-molecule compounds was recorded as an increase in dose-dependent response units (RU) during the assay. Experimental conditions including buffer composition and temperature were optimized using the control compounds prior to conducting the famotidine studies. The equilibrium dissociation constant (Kd) values were determined using both a kinetic analysis and fit to a binding isotherm of the dose response data (Fig. 2). The observed Kd values for the known 3CLpro and PLpro inhibitors (Supplementary Information Table S1) were consistent with the published IC50 data14,21 indicating the robustness of our assay methodology. Under these optimized conditions, famotidine was not found to interact with either of the two viral proteases at concentration ranges of up to 100 uM.To validate the results obtained from our SPR analysis, we employed an orthogonal DSF assay. DSF is a fluorescence-monitored thermal denaturing technique in which the melting temperature (Tm) of a protein is tracked via fluorescence as the sample temperature is incrementally raised in the presence of a hydrophobic dye. Drug binding to its target protein is known to stabilize (or destabilize) protein structure resulting in a variation of Tm profiles in the absence or presence of a drug. DSF provides definitive confirmation of target engagement as the increase in thermal unfolding temperature (ΔTm) is only achieved when the compounds bind to the folded state of the protein. The ΔTm is proportional to the Kd of the interaction and concentration of the compound. We tested the ability of famotidine and the control inhibitors to alter the thermal stability profiles of PLpro and 3CLpro. An optimal signal profile was obtained with 7 μM PLpro or 3CLpro. Both proteins were tested separately in the presence of DMSO (-ve control), their respective control inhibitors, and famotidine at concentrations of 1, 2.5 and 5 mM. In agreement with the SPR data, the control inhibitors produced a quantitative increase in observed Tm (Fig. 3). While compound 6, the known PLpro inhibitor, stabilized PLpro by a Tm shift of 6.6 °C (Fig. 3a), and ML188, the 3CLpro inhibitor, produced a Tm shift of 5.3 °C (Fig. 3b), famotidine did not alter the Tm of either of the two viral proteases. Taken together, the biophysical data decisively rules out the possibility of famotidine exerting its effect on PLpro or 3CLpro through interference with catalytic or non-catalytic protein functions as it is unable to bind with either of the two proteases.Having established that famotidine does not inhibit SARS-CoV-2 proteases, we investigated the ability of famotidine to block virus replication in cell culture. For this, we infected Vero E6 cells, a commonly used cell model of SARS-CoV-2 infection derived from the African green monkey kidney. Infection efficiency was quantified through multiple, orthogonal readouts, including quantitative real-time PCR (qRT-PCR), plaque formation, and immunofluorescence. Remdesivir inhibited viral replication with an estimated half-maximum inhibitory concentration (IC50) value of 3.3 μM, as determined by immunofluorescence (Fig. 4a). In contrast, famotidine did not produce any measurable inhibition at concentrations of up to 200 μM at 72 h post infection. Similar results were obtained when viral replication was examined by infectious virion production using plaque formation assays or by quantifying viral RNA copy numbers in the cell culture medium using qRT-PCR (Supplementary Figures S1 and S2).To confirm these results in a more physiologically relevant cell model of SARS-CoV-2 infection, we assessed the antiviral activity of famotidine in human lung A549 cells. These cells were engineered to express essential SARS-CoV-2 entry factors, ACE2 and TMPRSS223. The cells were infected with SARS-CoV-2 and cultured in the absence or presence of the control or test compounds. Virus replication (infection) efficiency was measured and reported as a function of compound concentration (Fig. 4). While remdesivir strongly inhibited virus replication in a dose-dependent manner with an IC50 value of 0.43 µM, famotidine had no measurable effect (Fig. 4b). Our results are consistent with previously reported studies in which remdesivir exerted a greater antiviral effect in human lung A549 cells than in Vero E6 cells24. The fact that famotidine does not inhibit SARS-CoV-2 replication in the A549 cells which possess the serine protease TMPRSS2 also likely points to it having no effect on host proteases involved in viral entry.In-parallel cytotoxicity assays, carried out in both Vero E6 and A549 cells, showed that famotidine was not toxic up to the highest tested concentrations of 200 μM (Fig. 4). Remdesivir, on the other hand, exhibited dose-dependent cytotoxicity at higher concentrations, well above its IC50. Together, these results show that famotidine does not inhibit SARS-CoV-2 replication in cultured cells and that its purported clinical benefit may be due to an alternative mechanism of action.Two in silico studies have separately predicted the 3CLpro or PLpro of SARS-CoV-2 as potential molecular targets of famotidine8,9, implying that famotidine associated improvement in COVID-19 patients may be due to a direct antiviral mechanism of action6. Despite recent advances in computational techniques, there are several challenges associated with the use of molecular docking to predict protein–ligand interactions accurately. Some of these challenges arise from the flexibility of the target protein, lack of prior knowledge of drug-binding sites, and protonation states of target amino acids25. While results obtained from molecular docking can serve as a basis for new hypotheses, experimental validation is needed. Our ligand-binding experiments using SPR and DSF did not support previous in silico predictions of direct binding between famotidine and SARS-CoV-2 proteases. We further used an array of experimental approaches to show that famotidine had no effect on SARS-CoV-2 protease function or generally on viral replication. It must be noted that since the clinical studies correlated putative clinical benefit with the use of higher doses of famotidine, we tested famotidine at significantly higher in-vitro concentrations than the peak plasma concentrations (0.5–2 µM) achieved in the blood of patients in both clinical studies6,7. Our data strongly suggest that the probable clinical benefit of famotidine likely arises independently of an antiviral mechanism of action.COVID-19 complications are associated with a severe pro-inflammatory response in the lungs of infected patients26. The “cytokine storm” as a result of inflammation is a key pathognomonic feature of COVID-19 and the main contributor to respiratory failure and mortality27. Severe COVID-19 cases are characterized by pulmonary infiltration and extensive pulmonary edema, causing exudation of inflammatory cells in the alveolar space, resulting in extensive pulmonary consolidation leading to pneumonia and adult respiratory distress syndrome (ARDS)28–31. The results of the two famotidine-related COVID-19 clinical reports, when taken together6,7, suggest that famotidine likely helps with mitigating moderate to severe respiratory symptoms ranging from shortness of breath to intubation. Our data does not rule out the possibility that famotidine related improvements in COVID-19 patients are through an anti-inflammatory action. For example, the development of the cytokine storm in COVID-19 patients is characterized by elevation of pro-inflammatory type I cytokines, which are secreted from a variety of cells such as polymorphonuclear cells, natural killer cells, and endothelial cells, etc27. It is therefore conceivable that famotidine-related benefit in managing respiratory symptoms may be due to an anti-inflammatory mechanism of action.It is noteworthy that H2R, the established molecular target of famotidine, is involved in the activation of several mediators of the adaptive immune response, such as Th1 lymphocytes, which are implicated in pro-inflammatory cytokine production32. Histamine, the H2R ligand, also regulates bronchoconstriction, airway inflammation, and vasodilation32. Mast cells are a major source of histamine and their activation has been reported following viral infections of the respiratory tract33–35. Therefore, Mast cells may represent an underappreciated source of pro-inflammatory cytokine release in COVID-19 patients33. A better understanding of the role of the H2R pathway in COVID-19 will help elucidate the molecular details of how famotidine reduces the disease severity.Our in-vitro study redirects the mechanism behind the potential beneficial effect of famotidine, away from an antiviral effect to likely an anti-inflammatory action in COVID-19 patients. Given that there is an ongoing randomized clinical trial (NCT04370262), our results may assist the investigators in reshaping their interventional study to include inflammation-related outcomes. Also, it should be noted that while famotidine is one of the relatively safer drugs, its use is not without risk36–38, especially in elderly patients (a high-risk population for COVID-19), in which famotidine use has been associated with CNS complications39. Provided the ongoing clinical trial yields promising results, further investigation of famotidine and its safety profile in different age brackets will be needed before the drug can be used, most likely as part of a combination therapy, for COVID-19 disease management.Famotidine was acquired from Sigma Aldrich (Missouri, USA; cat. No. F6889). Compound 6, a previously reported inhibitor of SARS-CoV-2 PLpro function21 was acquired from MedChem Express, Inc. (New Jersey, USA; cat no. HY-17542). ML188, a compound with known 3CLpro inhibitory activity15 was also acquired from MedChem Express, Inc. (cat. no HY-136259). Similarly, remdesivir. (cat. No HY-104077) an inhibitor of SARS-CoV-2 replication2 was purchased from the same vendor. All compounds were dissolved in 100% DMSO at 100 mM.The complete sequences encoding 3CLpro and residues 746–1060 of PLpro (Wuhan-Hu-1 isolate, GenBank accession NC_045512) were cloned into a charge modified SUMO fusion expression vector, generated in-house. The fusion protein was expressed for 24 h in Rosetta-2 (DE3) pLysS at 18 °C in ZYP-5052 autoinducing media. Harvested cells were resuspended in 50 mM Hepes pH 7.5, containing 150 mM NaCl and lysed by sonication. The clarified supernatant was loaded onto a HiTrap HP SP column (Cytiva, Massachusetts, USA; cat no. 17115201) and the target fusion protein was captured in a cation-exchange chromatography step and eluted using a NaCl gradient. SUMO hydrolase was added to the pooled fractions to liberate the target protein and the sample dialyzed against 20 mM Tris, 10% v/v glycerol, 5 mM DTT pH 7.0 overnight at 4 °C. The protein was reloaded on the HiTrap HP SP column to remove the SUMO protein and hydrolase in a subtractive step. The flow-through, containing 3CLpro or PLpro was further purified by anion exchange chromatography using a HiTrap HP Q column (Cytiva; cat. no. 17115401) employing a NaCl gradient to elute the protein. Pooled fractions were further purified by size exclusion chromatography in 20 mM Tris pH 7.4, 150 mM NaCl and 5 mM DTT. The final protein was concentrated to 4 mg/mL for PLpro and 5 mg/mL for 3CLpro and flash frozen in aliquots.PLpro activity was measured in a 384 well plate format (Corning #3574) in a kinetic assay using the fluorogenic substrate Ubiquitin-AMC (Boston Biochem, Inc. Massachusetts, USA; cat. No. U-550) with excitation and emission wavelengths of Ex355nm/Em:460 nm. The protocol followed previously reported conditions with minor modifications13,16. Fluorescence was monitored at 25 °C, every 5 min for 50 min in a Victor X5 (Perkin Elmer) multimode plate reader. Optimal enzyme and substrate concentrations were found to be 550 nM PLpro titrating the substrate in the range of 0.2 – 3 μM. The assay buffer (20 μL) contained 25 mM HEPES pH 7.5, 100 mM NaCl, 0.1 mg/ml BSA, and 550 nM PLpro. The test inhibitor, famotidine and the PLpro control inhibitor (compound 6) were both titrated in the concentration range of 0.01 μM – 200 μM. Compounds were incubated with the enzyme in the plate for 30 min at 25 °C before the reaction was started by the addition of 1 μM Ub-AMC. All samples were run in triplicates and their initial slopes were converted from relative fluorescence units (RFU)/ min to μmol AMC/min using an AMC standard curve and plotted against compound concentrations tested.3CLpro activity was assayed in a 384 well plate using the 3CLpro FRET substrate (AnaSpec, Inc. California, USA; cat. no. AS-65599) with excitation and emission wavelengths of Ex: 490 nm/Em: 535 nm. A previously reported protocol was used with some modifications12,17. The kinetics of fluorescence change were monitored every minute for 25 min. Optimal concentrations for 3CLpro and substrate were 150 nM and 600 nM respectively. A previously reported 3CLpro inhibitor14, ML188, was used as a positive control for inhibition, both control and test compounds were titrated in the concentration range of 0.01 μM – 200 μM. Initial slopes of RFU/min were converted to μM hydrolyzed substrate/ min using a standard curve of HiLyte Fluor488 amine, TFA salt.After subtraction of background fluorescence readings, values of Km and EC50 were obtained by fitting the experimental data with the Michaelis–Menten (y = (Vmax*x)/(Km + x)) and the four parameters logistic (4PL) equations (y = min + (max–min)/(1 + (x/EC50)^Hillslope)) respectively, using GraphPad Prism 8.Thermal unfolding of proteins was monitored in a 20 uL volume in Micro-Amp EnduraPlate Optical 384-well Clear Reaction Plates (ThermoFisher: cat no. 4483285 ). Reactions contained 50 mM HEPES pH 7.5, 62.5 mM NaCl, 7 μM 3CLpro or PLpro, 5% DMSO, and 4 × SYPRO-orange protein gel stain (ThermoFisher Scientific, Massachusetts, USA; cat no. S6651). Famotidine and the positive controls ML188 and compound 6 for 3CLpro and PLpro, respectively, were incubated with the protein for 15 min before the addition of SYPRO orange. Plates were covered with Micro-Amp Optical Adhesive Film (ThermoFisher Scientific, Massachusetts, USA; cat no. 4360954) and run on Applied Biosystems 7900HT (California, USA) real time PCR instrument. Samples were incubated at 25 °C for 2 min followed by an increase in temperature of 1 °C/min up to 95 °C. Fluorescence was monitored continuously. Each sample was run in triplicate and compounds were tested at 1 mM, 2.5 mM, and 5 mM. The melting temperature (Tm) was obtained from the first derivative of the raw thermal denaturing data were determined and smoothed to calculate melting temperature (Tm) values40.SPR studies were performed on a Biacore 3000 instrument (Cytiva, Massachusetts, USA) at 10 °C. The PLpro and 3CLpro proteins were biotinylated by minimal biotinylation approach with the EZ-LINK Sulfo-NHS-LC-LC-biotin reagent (ThermoFisher Scientific, Massachusetts, USA; cat no. A35358) and immobilized on a neutravidin coated CM5 sensor chip to a level of 4000 response units (RU). The protein used during immobilization was at 1 μM for PLpro and 1 μM for 3CLpro. During the course of the assay different concentrations of compounds were injected. The Compounds were serially diluted (twofold) in a running buffer of 25 mM HEPES pH 7.0, 200 mM NaCl, 2 mM TCEP, 0.005% P20 and 1% DMSO. Famotidine, and the control inhibitors, compound 6 and the ML188 were tested up to a maximal dose of 100 μM, 50 μM and 5 μM, respectively. The final response was obtained by subtracting the blank channel (without protein) and a buffer injection across the sample channel. Raw data were analyzed in the Scrubber2 program (BioLogic Software) by fitting the data to a simple 1:1 equilibrium and kinetic model.Virus infectivity assays were carried out using the 2019-nCoV/USA-WA1/2020 isolate of SARS-CoV-2 (NCBI accession number: MN985325), obtained from the Centers for Disease Control and Prevention and BEI Resources (Virginia, USA). The virus stock was propagated in Vero E6 cells and virus titers determined using plaque formation assays, as described previously41.Human lung A549 cells expressing SARS-CoV-2 entry factors and African Green Monkey kidney Vero E6 cells were maintained in DMEM supplemented with 10% fetal bovine serum (FBS). The cells were seeded into poly-L-lysine-coated 96-well plates at a density of 15,000 cells per well. The cells were then treated for 4 h with five-fold serial dilutions of famotidine, ranging between 0.32 µM and 200 µM. DMSO served as a negative control, while fivefold serial dilutions of remdesivir, ranging between 0.1 µM and 62.5 µM, served as a positive control. The cells were then infected with SARS-CoV-2 at a multiplicity of infection (MOI) of 0.1. To infect cells, the compound-containing medium was removed, and the cells were incubated with the virus for 1 h at 37ºC. The virus inoculum was then removed, and the cell monolayer was rinsed twice with 1X PBS. The compounds were added back followed by incubation for 72 h, after which the cell culture medium was harvested for quantitative real-time PCR (qRT-PCR) and plaque assays, while the cells were fixed with 4% paraformaldehyde for immunofluorescence microscopy.RNA was isolated from the cell culture supernatant of SARS-CoV-2-infected cells using the Quick-RNA Viral Kit (Zymo, California, USA cat no. R1035) according to the manufacturer’s instructions. Viral RNA was quantified using single-step RT-quantitative real-time PCR using the qScript One-Step RT-qPCR Kit (Quantabio, Massachusetts, USA; cat no. 95058) with primers and Taqman probes targeting the SARS-CoV-2 E gene as previously described42. Data were acquired using a Quantstudio3 Real-Time PCR System (Applied Biosystems) using the following conditions: 55 °C for 10 min, denaturation at 94 °C for 3 min, 45 cycles of denaturation at 94 °C for 15 s, and annealing at 58 °C for 30 s. The primers and probe used were as follow: E_Sarbeco_Forward: ACAGGTACGTTAATAGTTAATAGCGT; E_Sarbeco_Probe: FAM-ACACTAGCCATCCTTACTGCGCTTCG-BBQ; E_Sarbeco_Reverse: ATATTGCAGCAGTACGCACACA. For absolute quantification of viral RNA, a 389 bp fragment from the SARS-CoV-2 E gene was cloned onto pIDTBlue plasmid under an SP6 promoter using NEB PCR cloning kit (New England Biosciences, Massachusetts, USA; cat no. E1202S). The cloned fragment was then in-vitro transcribed using the mMessage mMachine SP6 transcription kit (ThermoFisher, Massachusetts, USA; cat no. AM1340) to generate the qRT-PCR standard.Virus-infected cells were fixed with 4% paraformaldehyde for 30 min. The fixative was removed, and the cell monolayer washed twice with 1X PBS. The cells were then permeabilized and stained with an anti-SARS-CoV Nucleocapsid (N) antibody (Rockland Inc., Pennsylvania, USA; cat. no. 200–401-A50; 1:2,000 dilution). Incubation with the primary antibody was performed overnight at 4ºC. The cells were then washed 5 times with 1X PBS and stained with Alexa 568-conjugated anti-rabbit antibody (1:1000 dilution) in the dark at room temperature for 1 h and counterstained with DAPI. Images were captured using EVOS M5000 Imaging System (ThermoFisher Scientific, Massachusetts, USA). Quantitation and analysis of the fixed cell images was carried out using the MuviCyte Live-Cell Imaging System (PerkinElmer, Massachusetts, USA). At least 7–10 microscopic fields were imaged per well using a 10X objective lens, the number of cells positive for the SARS-CoV-2 N protein and the nuclear DAPI stain, were counted. For each image, the percentage of DAPI-positive cells expressing the viral N protein were calculated, and the mean ± SD of multiple images for each condition was plotted.The CellTiter-Glo Luminescent Cell Viability Assay (Promega, Wisconsin, USA; cat no. G7570) was used to determine the cytotoxic effects of the compounds. Briefly, the cells were incubated with five-fold serial dilutions of famotidine or remdesivir for 72 h, after which the CellTiter-Glo Reagent was added to each well in a volume equal to the volume of the culture medium. The contents were mixed by shaking the plate on an orbital shaker for 2 min, followed by a 10 min incubation at room temperature. Luminescence was recorded using a Varioskan LUX multimode plate reader (ThermoFisher Scientific, Massachusetts, USA).'},\n",
              " {'name': 'Potential of combating transmission of COVID-19 using novel self-cleaning superhydrophobic surfaces: part II—thermal, chemical, and mechanical durability',\n",
              "  'text': 'COVID-19 can be transmitted through airborne respiratory droplets, ejected as a result of coughing or sneezing through human contact with contaminated surfaces (Yang and Wang 2020; Gralinski and Menachery 2020). Recent studies by the National Institute of Allergy and Infectious Diseases (USA) have shown that the virus can infect fomites made of metals, polymers and recycled paper for days (Van Doremalen et al. 2020).Superhydrophobic surfaces have recently gained popularity in the biomedical sector due to their ability to possess blood repellency characteristics and reduce bacterial/viral adhesion to surfaces and their antifouling properties (Falde et al. 2016; Shin et al. 2016; Jaggessar et al. 2017). Earlier studies have shown that personal protective equipment (PPE) that have high contact angles (CA) and low sliding angles (SA) can significantly reduce a virus’s carryover potential and provide antimicrobial properties (Katoh et al. 2019; Tomšič et al. 2008; Yeerken et al. 2019).In Part I, we demonstrated the potential in creating superhydrophobic coatings and monoliths that are capable to combating the transmission and spread of COVID-19. However, one of the main challenges that restricts the widespread utilization of superhydrophobic coatings in real applications is their durability (Ellinas et al. 2017; Jeevahan et al. 2018). Specifically, thermal and chemical stability as well as mechanical strength. Elevated temperatures can lead to the thermal degradation of hydrocarbon coatings (Cha et al. 2013) or thermal desorption of the hydrophobic material (Saleema and Farzaneh 2008), which result in the loss of surface superhydrophobicity. Additionally, some polymeric superhydrophobic surfaces cannot withstand elevated temperatures and are not recommended to operate above their glass transition temperature (Ellinas et al. 2017).Similarly, chemical attack due to exposure to acidic or alkaline solutions can result in severe deterioration of the superhydrophobicity of the treated surfaces (BaratiDarband et al. 2020). For instance, highly alkaline or acidic solutions can result in dissolving the hydrophobic functional groups (Zhao et al. 2017; Ishizaki et al. 2010) and cause chemical desorption of the hydrophobic material (Cui et al. 2015).Mechanical wear is considered one of the main performance degradation mechanisms of superhydrophobic surfaces (Milionis et al. 2016). Indeed, numerous studies and tests have been conducted to evaluate the influence of abrasion tests on the mechanical durability of these surfaces (Ellinas et al. 2017; Mortazavi and Khonsari 2017). Superhydrophobic surfaces generally suffer from weak mechanical durability due to the fragility of their nano/micro-hierarchical surface structure (Mortazavi and Khonsari 2017; Zhang et al. 2013). Additionally, polymeric materials involved in fabricating superhydrophobic surfaces usually suffer from poor mechanical stability and robustness (Ellinas et al. 2017). In our previous work (Elzaabalawy et al. 2019), we demonstrated that high external compressive loads can also lead to permanent plastic deformation of the surface hierarchical structure and the embedment of the hydrophobic nanoparticles, which ultimately cause a complete loss of superhydrophobicity.COVID-19 spreads mainly through droplet transmission or via contacting fomites. We believe that surfaces coated with or created from a superhydrophobic nanocomposite has the potential of combating virus transmission and spread through a 3-step strategy discussed in Part I. The superhydrophobic nanocomposites acquire their protection characteristics through chemical modification as well as a hierarchical nano/microstructure of the modified surface. However, typical surfaces are subjected to elevated temperatures, chemical attacks and mechanical damage during service. As a result, the surface repellency characteristics may be altered and the effectiveness and the potential of the surface to encapsulate and suppress the virus might be lost. For nanocomposite superhydrophobic surfaces, utilizing different polymeric materials can be used to vary the flexibility and durability of the developed surfaces. For instance, silicone polymers can be used when flexibility is sought, and epoxy can be employed to meet the requirements of harsh mechanical environments. The durability of the nanocomposite can also be enhanced and tailored by selecting constituent materials that possess high thermal and chemical stability. Moreover, superhydrophobic monoliths with regenerative capabilities can be employed in severe service conditions to accommodate mechanical damage. Since these monoliths acquire water repellency features throughout the entire bulk of the material, surfaces can be regenerated by removing the damaged layer and exposing a new superhydrophobic layer. In this case, superhydrophobicity can be maintained as long as the monolith’s thickness can accommodate a layer removal.The aim of Part II is to assess the ability of the superhydrophobic coating and monoliths discussed in Part I to resist thermal degradation, chemical attacks, and mechanical damage. Three aspects of the work were accordingly examined. The first was concerned with thermal stability tests in which the superhydrophobic surfaces were subjected to elevated temperatures approaching 350 °C for silicone-based nanocomposites and 150 °C for epoxy-based nanocomposites. The second was concerned with subjecting the surfaces to alkaline and acidic environments with PH values ranging between 1 and 13. Finally, the mechanical durability of the surface of epoxy-based nanocomposite coating was assessed using abrasion tests, while the regenerative capability of the silicone-based nanocomposite monoliths was evaluated using compressive loading. Given below is a summary of the approach adopted and the outcomes of our research.In this research program, superhydrophobic coatings and monoliths were developed using epoxy and silicone nanocomposites. We demonstrated the ability of these coatings to modify the surface characteristics of different substrate materials, as shown in Fig. 1. We have also succeeded in fabricating a bulk that is entirely superhydrophobic. In order to assess the thermal, chemical, and mechanical stability of these surfaces, multiple tests were conducted.Since superhydrophobic surfaces are characterized by CA above 150° and SA below 10°, the superhydrophobicity in these tests was assessed by measuring the contact and sliding angles. Contact angles were measured using an OCA 15EC contact angle analyzer (DataPhysics Instruments, Fig. 2), while sliding angles were measured using an in-house apparatus with controlled surface tilting until droplets roll off is achieved.As organic polymers, epoxy thermosets will degrade under thermo-oxidative conditions, and this degradation typically initiates at the surface. It is therefore necessary to conduct thermal stability tests for the superhydrophobic surface to ensure that water repellency is maintained after being subjected to surges of elevated temperatures. Unlike organic polymers, silicone is characterized by its higher thermal resistance due to the high stability of its siloxane backbone.In order to examine the thermal durability, coated samples and monoliths were placed in an oven for 3 h. Tests were conducted for different temperatures and the maximum temperature was selected based on the polymer’s auto-ignition temperature. Upon completing the test, samples were left to cool down, and then the contact and sliding angles were re-evaluated to assess their superhydrophobicity characteristics.For epoxy-based nanocomposites, thermal durability tests were conducted for temperatures between 75 and 150 °C in 25 °C increments. As depicted in Fig. 3, no variation was observed to the values of CA (~ 165°) or SA (~ 3°) for all of the tested temperatures. These results verify that the coated samples maintained their superhydrophobicity and the siloxane-modification process (Part I) succeeded in enhancing the water repellency of epoxy without compromising its durability.Silicone-based nanocomposites were tested for temperatures between 150 °C and 350 °C in 50 °C increments. As shown in Fig. 4, the coated samples and monoliths maintained high CA (~ 167° for monoliths and ~ 163° for coatings) and low SA (6° for monoliths and 5° for coatings) throughout the entire temperature range. These results further demonstrate the capability of the strong siloxane backbone within the polymer chemical structure to withstand elevated temperatures and maintain the superhydrophobicity of the nanocomposite.Chemical attacks or short-term immersion in corrosive solutions can result in severe degradation of the surface characteristics. To assess the chemical stability of the developed superhydrophobic nanocomposites, samples were immersed in acidic and alkaline solutions for 3 h at room temperature in a fume hood, as depicted in Fig. 5. Solutions were prepared using sulphuric acid or sodium hydroxide, which were diluted using distilled water to achieve pH values between 1 and 13. Following the immersion, water repellency of the samples was again evaluated by measuring the contact and sliding angles.Following the immersion tests, samples were observed to check their reflective appearance in the solution, which indicates a stable Cassie-Baxter wetting state, and to be completely dry upon removal. Furthermore, following the immersion, the CA and SA were measured for the epoxy-based and silicone-based nanocomposites, as depicted in Figs. 6 and 7, respectively. The measurements revealed that the nanocomposites are capable of maintaining their excellent superhydrophobicity for the entire range of pH values tested. Accordingly, these nanocomposites can operate and effectively maintain their performance in harsh service conditions that are subjected to acidic or alkaline chemical attacks.Abrasion is considered the most widely test used to evaluate the mechanical properties of superhydrophobic coatings (Milionis et al. 2016). Since silicone-based coatings are sought to provide flexibility rather than mechanical strength, abrasion tests were only conducted to evaluate the strength and durability of epoxy-based nanocomposite coatings. As schematically shown in Fig. 8, the samples were placed face down on silicon carbide coarse sandpaper (320 grit) under a calibrated weight pressure of ~ 1 kPa. Abrasion cycles (10 cm of linear displacement) were performed in alternating directions. Following each interval of cycles, debris were removed, and the contact and sliding angles were measured.The contact and sliding angles measurements following abrasion cycle intervals are demonstrated in Fig. 9. After 120 abrasion cycles, the coating was only able to maintain its high contact angle (> 150°), while the sliding angle increased above 10°. In order to examine the degradation caused to the nano/microstructure of the surface, SEM images were obtained,Figure 10 the results indicate that excessive abrasion cycles induce damage to the surface’s hierarchical structure (Fig. 9b) compared to the original superhydrophobic untouched coating (Fig. 9a). However, the nanocomposite coating was able to superbly sustain its superhydrophobicity after 90 abrasion cycles, which is attributed to the excellent adhesion strength and mechanical properties of epoxy polymers.Although the epoxy-based nanocomposite coating demonstrated excellent mechanical durability characteristics, service conditions can sometimes be harsher than a coating can handle. In those situations, a silicone-based nanocomposite monolith that is entirely superhydrophobic is an excellent replacement. Under harsh mechanical environment, the superhydrophobic surface’s hierarchical structure would be damaged. To obviate this damage, the surface can overcome that damage by the regeneration of a fresh superhydrophobic layer under controlled abrasion. In order to demonstrate these regenerative capabilities, monoliths were exposed to compressive stresses ranging between 1 and 10 MPa with the aid of a uniaxial electrohydraulic servo-controlled testing machine (Instron 5965). Samples with a square cross-section (20 mm × 20 mm) were placed between two flat metallic plates, and then the loading was applied at a displacement rate of 1 mm/min until the desired load was obtained. The compressive load was then maintained for 5 min before the samples were unloaded. Subsequently, CA and SA were measured after unloading and after samples were regenerated. The test set up is depicted in Fig. 11.The compression test results (Fig. 12) revealed that the monolith can withstand stresses up to 1 MPa without affecting its superhydrophobicity, in which CA and SA are maintained at ~ 167° and 6° respectively. For increased compressive stresses (3 and 5 MPa), gradual decrease in the CA and increase in SA were noticed. At a compressive stress of 10 MPa, CA reached ~ 149° and droplets were pinned to the surface and did not roll off even when applying a finite inclination angle. As shown in Fig. 13, SEM images indicated that this deterioration was caused by the plastic deformation in the surface’s hierarchical structure as a result of the high compressive stresses. Remarkably, the surface’s superhydrophobicity was fully restored upon the removal of the damaged layer through abrasion, and the respective CA and SA were fully recovered to ~ 167° and 6°, as depicted in Fig. 12. As observed, the regeneration process was successful for all values of destructive stresses (3–10 MPa).In this work, we examined the durability of the newly developed superhydrophobic surfaces proposed in Part I to potentially combat the transmission and spread of COVID-19. Thermal degradation, chemical attack and mechanical abrasion tests were conducted, and the superhydrophobic surface characteristics were re-tested and re-evaluated. Our extensive test results revealed that the developed epoxy-based and silicone-based nanocomposites can maintain their superhydrophobicity after being subjected for 3 h to elevated temperatures of 150 °C and 350 °C, respectively. The developed surfaces also preserved their characteristics after being immersed in alkaline and acidic solutions (pH values 1–13) for 3 h. In order to assess the mechanical durability of epoxy-based nanocomposites, samples were subjected to abrasion tests, and they were capable of maintaining their superhydrophobicity for 90 abrasion cycles. Moreover, the regeneration capabilities of the silicone-based nanocomposites were demonstrated by subjecting the monoliths to destructive compressive loads (up to 10 MPa), and then the high CA and low SA were easily restored through abrasion. These results verify the ability of these surfaces to survive harsh service conditions and their potential use to combat the transmission and spread of infected surfaces. It is important to note that we have neither examined the combined effect of these parameters upon the surface characteristics of the developed superhydrophobic surfaces nor the prolonged exposure to these conditions (aging), which are considered beyond the scope of the current study.'},\n",
              " {'name': 'Flank pain as a symptom of COVID-19',\n",
              "  'text': '\\nASymptomatic treatment onlyBRefer to physical therapy for flank pain related to muscle spasm.CThe patient should be hospitalized and followed up in the hospital until his complaints are resolvedDAbdominal CT images of the patient should be re-evaluated in the lung parenchyma window.\\n\\nD- The abdominal CT images of the patient were re-evaluated in the lung parenchyma window and referred to the pandemic outpatient clinic with suspected COVID-19.When the abdominal CT of the patient was reevaluated using lung parenchyma window, with COVID-19, more pronounced peripheral areas and diffuse patchy ground glass densities in both lung lower lobes were observed, concerning for a diagnosis of COVID19. (Figure 3\\n). The patient did not have any symptoms associated with COVID-19 such as fever, cough and shortness of breath at the time of admission. Polymerase chain reaction (PCR) test was positive. Abdominal and back pain have long been described as a symptom in pneumonia in both adults and children secondary to pleural irritation 3\\n,\\n4. Irritation-related flank pain caused by inflammation in the lung basal may be the first symptom of COVID-19 disease in some patients.'}]"
            ]
          },
          "metadata": {
            "tags": []
          },
          "execution_count": 50
        }
      ]
    },
    {
      "cell_type": "code",
      "metadata": {
        "id": "-ez02JYAA5S9"
      },
      "source": [
        "# Structure 2\n",
        "dicts_2 = list()\n",
        "\n",
        "for i in range(len(df['title'])):\n",
        "    data = df.iloc[i]\n",
        "    temp = dict()\n",
        "    temp['text'] = data['full_text']\n",
        "    temp['meta'] = {'name': data['title'], 'test_idx': int(i)}\n",
        "    dicts_2.append(temp)"
      ],
      "execution_count": 47,
      "outputs": []
    },
    {
      "cell_type": "code",
      "metadata": {
        "id": "xo6NxVOFB3K7",
        "colab": {
          "base_uri": "https://localhost:8080/"
        },
        "outputId": "0dcfc55d-6322-4a55-f0ca-2e64fcec01db"
      },
      "source": [
        "dicts_2[:3]"
      ],
      "execution_count": 48,
      "outputs": [
        {
          "output_type": "execute_result",
          "data": {
            "text/plain": [
              "[{'meta': {'name': 'The in-vitro effect of famotidine on sars-cov-2 proteases and virus replication',\n",
              "   'test_idx': 0},\n",
              "  'text': 'A large part of the current therapeutic discovery effort against the severe acute respiratory syndrome coronavirus 2 (SARS-CoV)-2 is focused on drug repurposing1. Of such agents, only remdesivir has thus far shown clinical evidence of antiviral effect2, while several others have not met their primary endpoints in various clinical studies3,4. Recently, famotidine has gained attention as a therapeutic option against SARS-CoV-2, initially based on anecdotal evidence of its positive effects in COVID-19 patients in China. Famotidine (PEPCID®), a histamine-2 receptor (H2R) antagonist, is an FDA approved drug for the treatment of gastroesophageal reflux disease (GERD) and gastric ulcers5.Earlier reports of the beneficial effect of famotidine in China were recently supported by a retrospective clinical study involving 1620 patients in the U.S., which noted that hospitalized COVID-19 patients receiving a total median dose of 136 mg famotidine, in oral or IV formulation once daily, for 6 days had a reduced risk of death or intubation6. Another study involving 10 non-hospitalized patients linked the use of high-dose oral famotidine (240 mg per day for a median of 11 days) with patient-reported improvements in symptoms such as shortness of breath and cough7. These two reports conclude that the use of high-dose famotidine may be associated with improvements in both mild and severe symptoms of COVID-19. While a large, multi-center clinical trial to confirm these observations is in progress, the mechanism by which famotidine purportedly improves the clinical outcomes in COVID-19 patients is unknown. In silico modeling and molecular docking studies have separately suggested either of the two SARS-CoV-2 proteases as potential targets of famotidine activity8,9. In one computational study, Wu et. al. docked a library of approved drugs on to the available X-ray crystal structure of the 3-chymotrypsin-like protease (3CLpro) of SARS-CoV-2, identifying famotidine as one of the drugs likely to act on the protease8. Other computational reports have predicted famotidine as an inhibitor of the Papain-like protease (PLpro), a second SARS-CoV-2 protease9. Together, these studies have raised the prospect of a direct antiviral effect of famotidine on SARS-CoV-2 replication. While both proteins are attractive targets for SARS-CoV-2 drug development10–19, there are at present no clinical-stage or approved drugs targeting either protein. The possibility of famotidine, an approved drug, acting on SARS-CoV-2 proteases is of significant clinical interest. In this in-vitro study, we performed an array of biochemical, biophysical, and antiviral experiments to test if famotidine is an effector of SARS-CoV-2 proteases and whether it inhibits virus replication in cultured cells.Processing of the SARS-CoV-2 polyprotein is critical to the generation of a functional virus replication complex11,18,20. To carry out this essential proteolytic function, the SARS-CoV-2 genome encodes two cysteine proteases, called PLpro and 3CLpro18. Due to their critical roles in viral polyprotein processing and virus proliferation, both proteases are considered attractive targets for drug discovery10,11,13–17,21. Since in silico docking studies have predicted these proteases as putative molecular targets of famotidine6,8,9, we methodically investigated the effect of famotidine on the catalytic functions of each protease.First, we developed an in-vitro activity assay of PLpro. PLpro is a protease domain found within the large multi-domain nsp3 protein encoded by SARS-CoV-2. While many coronaviruses encode two papain-like proteases, SARS-CoV, MERS-CoV and SARS-CoV-2 possess only one PLpro, which processes the amino-terminal end of the viral polyprotein liberating nsp1, nsp2 and nsp319,21. Additionally, PLpro deubiquitinates host cell proteins by cleaving the consensus motif of LXGG18,19 and is known to efficiently hydrolyze both diubiquitin and synthetic peptide substrates19. We leveraged the deubiquitinating property of PLpro to set up a functional activity assay using ubiquitin-AMC, a fluorogenic substrate cleavable by PLpro. Upon incubation with PLpro, the ubiquitin is recognized and cleaved at the C-terminus to liberate the AMC (amido-4-methylcoumarin) fluorophore which results in increased fluorescence that is read using excitation and emission wavelengths of 355/460 nm. We assessed the ability of famotidine to inhibit the proteolytic activity of PLpro at a broad range of drug concentrations vis-à-vis compound 6, a previously reported inhibitor of PLpro activity21. Experimental conditions including protein and substrate concentrations, buffer composition, and assay kinetics were optimized using compound 6. While compound 6 inhibited PLpro activity with the expected low single-digit μM IC50 values, famotidine showed no reduction in PLpro activity in the titrated range of 0.01–200 μM (Fig. 1a).We next tested whether famotidine can inhibit the enzymatic activity of 3CLpro, the second protease encoded by the SARS-CoV-2 genome. This protein, also referred to as the main protease (Mpro) or nsp5, cleaves the viral polyprotein at 11 unique sites11. This proteolytic activity generates multiple individual functional proteins required for the assembly of the SARS-CoV-2 replication/transcription complex, which drives viral genome replication20. Owing to its central role in the coronavirus life cycle, 3CLpro has received significant attention as a drug target resulting in the discovery of several potent inhibitors 10,14,15,17. Native 3CLpro exists as a homodimer and requires dimerization for its proteolytic activity11. The catalytic mechanism of 3CLpro activity is typical of cysteine proteases, where the Cys-His catalytic dyad drives site-specific cleavage of substrates. We evaluated the enzymatic activity of 3CLpro using a FRET-peptide substrate that quenched fluorescence in its intact form, however, cleavage of the peptide substrate by 3CLpro produced fluorescence that could be measured at the excitation/emission wavelengths of 490/535 nm. The inclusion of ML188, a previously reported 3CLpro inhibitor served as a control, also aiding assay setup and optimization. Results of the FRET assay for various ML188 and famotidine concentrations are shown in Fig. 1b. Both compounds were tested between a range of 0.01–200 μM. While ML188 produced a dose-dependent inhibition of 3CLpro activity with an expected IC50 of 2.4 μM, famotidine did not inhibit 3CLpro activity.When tested alone, neither famotidine nor the other tested compounds produced autofluorescence at the 355/460 nm and 490/535 nm wavelengths, respectively. These two experiments indicate that famotidine does not interfere with the catalytic activity of either of the two SARS-CoV-2 proteases.The function of many enzymes, such as proteases and kinases, can extend beyond their catalytic roles and includes a wide spectrum of non-catalytic activities such as allosteric regulation, scaffolding, protein–protein interactions, and protein-DNA interactions22. To rule out whether famotidine could bind away from the active site of the two viral proteases, and exert an effect through interference with non-proteolytic functions, we asked if famotidine is able to bind directly with either of the two SARS-CoV-2 proteases. For this, we employed two distinct biophysical techniques i.e. surface plasmon resonance (SPR) and differential scanning fluorimetry (DSF), that are routinely used to probe drug-protein engagement.For our SPR studies, the biotinylated viral proteases were captured to a high density on sensor chips via neutravidin, permitting real-time detection of small-molecule binding to the target viral proteases. Engagement of the small-molecule compounds was recorded as an increase in dose-dependent response units (RU) during the assay. Experimental conditions including buffer composition and temperature were optimized using the control compounds prior to conducting the famotidine studies. The equilibrium dissociation constant (Kd) values were determined using both a kinetic analysis and fit to a binding isotherm of the dose response data (Fig. 2). The observed Kd values for the known 3CLpro and PLpro inhibitors (Supplementary Information Table S1) were consistent with the published IC50 data14,21 indicating the robustness of our assay methodology. Under these optimized conditions, famotidine was not found to interact with either of the two viral proteases at concentration ranges of up to 100 uM.To validate the results obtained from our SPR analysis, we employed an orthogonal DSF assay. DSF is a fluorescence-monitored thermal denaturing technique in which the melting temperature (Tm) of a protein is tracked via fluorescence as the sample temperature is incrementally raised in the presence of a hydrophobic dye. Drug binding to its target protein is known to stabilize (or destabilize) protein structure resulting in a variation of Tm profiles in the absence or presence of a drug. DSF provides definitive confirmation of target engagement as the increase in thermal unfolding temperature (ΔTm) is only achieved when the compounds bind to the folded state of the protein. The ΔTm is proportional to the Kd of the interaction and concentration of the compound. We tested the ability of famotidine and the control inhibitors to alter the thermal stability profiles of PLpro and 3CLpro. An optimal signal profile was obtained with 7 μM PLpro or 3CLpro. Both proteins were tested separately in the presence of DMSO (-ve control), their respective control inhibitors, and famotidine at concentrations of 1, 2.5 and 5 mM. In agreement with the SPR data, the control inhibitors produced a quantitative increase in observed Tm (Fig. 3). While compound 6, the known PLpro inhibitor, stabilized PLpro by a Tm shift of 6.6 °C (Fig. 3a), and ML188, the 3CLpro inhibitor, produced a Tm shift of 5.3 °C (Fig. 3b), famotidine did not alter the Tm of either of the two viral proteases. Taken together, the biophysical data decisively rules out the possibility of famotidine exerting its effect on PLpro or 3CLpro through interference with catalytic or non-catalytic protein functions as it is unable to bind with either of the two proteases.Having established that famotidine does not inhibit SARS-CoV-2 proteases, we investigated the ability of famotidine to block virus replication in cell culture. For this, we infected Vero E6 cells, a commonly used cell model of SARS-CoV-2 infection derived from the African green monkey kidney. Infection efficiency was quantified through multiple, orthogonal readouts, including quantitative real-time PCR (qRT-PCR), plaque formation, and immunofluorescence. Remdesivir inhibited viral replication with an estimated half-maximum inhibitory concentration (IC50) value of 3.3 μM, as determined by immunofluorescence (Fig. 4a). In contrast, famotidine did not produce any measurable inhibition at concentrations of up to 200 μM at 72 h post infection. Similar results were obtained when viral replication was examined by infectious virion production using plaque formation assays or by quantifying viral RNA copy numbers in the cell culture medium using qRT-PCR (Supplementary Figures S1 and S2).To confirm these results in a more physiologically relevant cell model of SARS-CoV-2 infection, we assessed the antiviral activity of famotidine in human lung A549 cells. These cells were engineered to express essential SARS-CoV-2 entry factors, ACE2 and TMPRSS223. The cells were infected with SARS-CoV-2 and cultured in the absence or presence of the control or test compounds. Virus replication (infection) efficiency was measured and reported as a function of compound concentration (Fig. 4). While remdesivir strongly inhibited virus replication in a dose-dependent manner with an IC50 value of 0.43 µM, famotidine had no measurable effect (Fig. 4b). Our results are consistent with previously reported studies in which remdesivir exerted a greater antiviral effect in human lung A549 cells than in Vero E6 cells24. The fact that famotidine does not inhibit SARS-CoV-2 replication in the A549 cells which possess the serine protease TMPRSS2 also likely points to it having no effect on host proteases involved in viral entry.In-parallel cytotoxicity assays, carried out in both Vero E6 and A549 cells, showed that famotidine was not toxic up to the highest tested concentrations of 200 μM (Fig. 4). Remdesivir, on the other hand, exhibited dose-dependent cytotoxicity at higher concentrations, well above its IC50. Together, these results show that famotidine does not inhibit SARS-CoV-2 replication in cultured cells and that its purported clinical benefit may be due to an alternative mechanism of action.Two in silico studies have separately predicted the 3CLpro or PLpro of SARS-CoV-2 as potential molecular targets of famotidine8,9, implying that famotidine associated improvement in COVID-19 patients may be due to a direct antiviral mechanism of action6. Despite recent advances in computational techniques, there are several challenges associated with the use of molecular docking to predict protein–ligand interactions accurately. Some of these challenges arise from the flexibility of the target protein, lack of prior knowledge of drug-binding sites, and protonation states of target amino acids25. While results obtained from molecular docking can serve as a basis for new hypotheses, experimental validation is needed. Our ligand-binding experiments using SPR and DSF did not support previous in silico predictions of direct binding between famotidine and SARS-CoV-2 proteases. We further used an array of experimental approaches to show that famotidine had no effect on SARS-CoV-2 protease function or generally on viral replication. It must be noted that since the clinical studies correlated putative clinical benefit with the use of higher doses of famotidine, we tested famotidine at significantly higher in-vitro concentrations than the peak plasma concentrations (0.5–2 µM) achieved in the blood of patients in both clinical studies6,7. Our data strongly suggest that the probable clinical benefit of famotidine likely arises independently of an antiviral mechanism of action.COVID-19 complications are associated with a severe pro-inflammatory response in the lungs of infected patients26. The “cytokine storm” as a result of inflammation is a key pathognomonic feature of COVID-19 and the main contributor to respiratory failure and mortality27. Severe COVID-19 cases are characterized by pulmonary infiltration and extensive pulmonary edema, causing exudation of inflammatory cells in the alveolar space, resulting in extensive pulmonary consolidation leading to pneumonia and adult respiratory distress syndrome (ARDS)28–31. The results of the two famotidine-related COVID-19 clinical reports, when taken together6,7, suggest that famotidine likely helps with mitigating moderate to severe respiratory symptoms ranging from shortness of breath to intubation. Our data does not rule out the possibility that famotidine related improvements in COVID-19 patients are through an anti-inflammatory action. For example, the development of the cytokine storm in COVID-19 patients is characterized by elevation of pro-inflammatory type I cytokines, which are secreted from a variety of cells such as polymorphonuclear cells, natural killer cells, and endothelial cells, etc27. It is therefore conceivable that famotidine-related benefit in managing respiratory symptoms may be due to an anti-inflammatory mechanism of action.It is noteworthy that H2R, the established molecular target of famotidine, is involved in the activation of several mediators of the adaptive immune response, such as Th1 lymphocytes, which are implicated in pro-inflammatory cytokine production32. Histamine, the H2R ligand, also regulates bronchoconstriction, airway inflammation, and vasodilation32. Mast cells are a major source of histamine and their activation has been reported following viral infections of the respiratory tract33–35. Therefore, Mast cells may represent an underappreciated source of pro-inflammatory cytokine release in COVID-19 patients33. A better understanding of the role of the H2R pathway in COVID-19 will help elucidate the molecular details of how famotidine reduces the disease severity.Our in-vitro study redirects the mechanism behind the potential beneficial effect of famotidine, away from an antiviral effect to likely an anti-inflammatory action in COVID-19 patients. Given that there is an ongoing randomized clinical trial (NCT04370262), our results may assist the investigators in reshaping their interventional study to include inflammation-related outcomes. Also, it should be noted that while famotidine is one of the relatively safer drugs, its use is not without risk36–38, especially in elderly patients (a high-risk population for COVID-19), in which famotidine use has been associated with CNS complications39. Provided the ongoing clinical trial yields promising results, further investigation of famotidine and its safety profile in different age brackets will be needed before the drug can be used, most likely as part of a combination therapy, for COVID-19 disease management.Famotidine was acquired from Sigma Aldrich (Missouri, USA; cat. No. F6889). Compound 6, a previously reported inhibitor of SARS-CoV-2 PLpro function21 was acquired from MedChem Express, Inc. (New Jersey, USA; cat no. HY-17542). ML188, a compound with known 3CLpro inhibitory activity15 was also acquired from MedChem Express, Inc. (cat. no HY-136259). Similarly, remdesivir. (cat. No HY-104077) an inhibitor of SARS-CoV-2 replication2 was purchased from the same vendor. All compounds were dissolved in 100% DMSO at 100 mM.The complete sequences encoding 3CLpro and residues 746–1060 of PLpro (Wuhan-Hu-1 isolate, GenBank accession NC_045512) were cloned into a charge modified SUMO fusion expression vector, generated in-house. The fusion protein was expressed for 24 h in Rosetta-2 (DE3) pLysS at 18 °C in ZYP-5052 autoinducing media. Harvested cells were resuspended in 50 mM Hepes pH 7.5, containing 150 mM NaCl and lysed by sonication. The clarified supernatant was loaded onto a HiTrap HP SP column (Cytiva, Massachusetts, USA; cat no. 17115201) and the target fusion protein was captured in a cation-exchange chromatography step and eluted using a NaCl gradient. SUMO hydrolase was added to the pooled fractions to liberate the target protein and the sample dialyzed against 20 mM Tris, 10% v/v glycerol, 5 mM DTT pH 7.0 overnight at 4 °C. The protein was reloaded on the HiTrap HP SP column to remove the SUMO protein and hydrolase in a subtractive step. The flow-through, containing 3CLpro or PLpro was further purified by anion exchange chromatography using a HiTrap HP Q column (Cytiva; cat. no. 17115401) employing a NaCl gradient to elute the protein. Pooled fractions were further purified by size exclusion chromatography in 20 mM Tris pH 7.4, 150 mM NaCl and 5 mM DTT. The final protein was concentrated to 4 mg/mL for PLpro and 5 mg/mL for 3CLpro and flash frozen in aliquots.PLpro activity was measured in a 384 well plate format (Corning #3574) in a kinetic assay using the fluorogenic substrate Ubiquitin-AMC (Boston Biochem, Inc. Massachusetts, USA; cat. No. U-550) with excitation and emission wavelengths of Ex355nm/Em:460 nm. The protocol followed previously reported conditions with minor modifications13,16. Fluorescence was monitored at 25 °C, every 5 min for 50 min in a Victor X5 (Perkin Elmer) multimode plate reader. Optimal enzyme and substrate concentrations were found to be 550 nM PLpro titrating the substrate in the range of 0.2 – 3 μM. The assay buffer (20 μL) contained 25 mM HEPES pH 7.5, 100 mM NaCl, 0.1 mg/ml BSA, and 550 nM PLpro. The test inhibitor, famotidine and the PLpro control inhibitor (compound 6) were both titrated in the concentration range of 0.01 μM – 200 μM. Compounds were incubated with the enzyme in the plate for 30 min at 25 °C before the reaction was started by the addition of 1 μM Ub-AMC. All samples were run in triplicates and their initial slopes were converted from relative fluorescence units (RFU)/ min to μmol AMC/min using an AMC standard curve and plotted against compound concentrations tested.3CLpro activity was assayed in a 384 well plate using the 3CLpro FRET substrate (AnaSpec, Inc. California, USA; cat. no. AS-65599) with excitation and emission wavelengths of Ex: 490 nm/Em: 535 nm. A previously reported protocol was used with some modifications12,17. The kinetics of fluorescence change were monitored every minute for 25 min. Optimal concentrations for 3CLpro and substrate were 150 nM and 600 nM respectively. A previously reported 3CLpro inhibitor14, ML188, was used as a positive control for inhibition, both control and test compounds were titrated in the concentration range of 0.01 μM – 200 μM. Initial slopes of RFU/min were converted to μM hydrolyzed substrate/ min using a standard curve of HiLyte Fluor488 amine, TFA salt.After subtraction of background fluorescence readings, values of Km and EC50 were obtained by fitting the experimental data with the Michaelis–Menten (y = (Vmax*x)/(Km + x)) and the four parameters logistic (4PL) equations (y = min + (max–min)/(1 + (x/EC50)^Hillslope)) respectively, using GraphPad Prism 8.Thermal unfolding of proteins was monitored in a 20 uL volume in Micro-Amp EnduraPlate Optical 384-well Clear Reaction Plates (ThermoFisher: cat no. 4483285 ). Reactions contained 50 mM HEPES pH 7.5, 62.5 mM NaCl, 7 μM 3CLpro or PLpro, 5% DMSO, and 4 × SYPRO-orange protein gel stain (ThermoFisher Scientific, Massachusetts, USA; cat no. S6651). Famotidine and the positive controls ML188 and compound 6 for 3CLpro and PLpro, respectively, were incubated with the protein for 15 min before the addition of SYPRO orange. Plates were covered with Micro-Amp Optical Adhesive Film (ThermoFisher Scientific, Massachusetts, USA; cat no. 4360954) and run on Applied Biosystems 7900HT (California, USA) real time PCR instrument. Samples were incubated at 25 °C for 2 min followed by an increase in temperature of 1 °C/min up to 95 °C. Fluorescence was monitored continuously. Each sample was run in triplicate and compounds were tested at 1 mM, 2.5 mM, and 5 mM. The melting temperature (Tm) was obtained from the first derivative of the raw thermal denaturing data were determined and smoothed to calculate melting temperature (Tm) values40.SPR studies were performed on a Biacore 3000 instrument (Cytiva, Massachusetts, USA) at 10 °C. The PLpro and 3CLpro proteins were biotinylated by minimal biotinylation approach with the EZ-LINK Sulfo-NHS-LC-LC-biotin reagent (ThermoFisher Scientific, Massachusetts, USA; cat no. A35358) and immobilized on a neutravidin coated CM5 sensor chip to a level of 4000 response units (RU). The protein used during immobilization was at 1 μM for PLpro and 1 μM for 3CLpro. During the course of the assay different concentrations of compounds were injected. The Compounds were serially diluted (twofold) in a running buffer of 25 mM HEPES pH 7.0, 200 mM NaCl, 2 mM TCEP, 0.005% P20 and 1% DMSO. Famotidine, and the control inhibitors, compound 6 and the ML188 were tested up to a maximal dose of 100 μM, 50 μM and 5 μM, respectively. The final response was obtained by subtracting the blank channel (without protein) and a buffer injection across the sample channel. Raw data were analyzed in the Scrubber2 program (BioLogic Software) by fitting the data to a simple 1:1 equilibrium and kinetic model.Virus infectivity assays were carried out using the 2019-nCoV/USA-WA1/2020 isolate of SARS-CoV-2 (NCBI accession number: MN985325), obtained from the Centers for Disease Control and Prevention and BEI Resources (Virginia, USA). The virus stock was propagated in Vero E6 cells and virus titers determined using plaque formation assays, as described previously41.Human lung A549 cells expressing SARS-CoV-2 entry factors and African Green Monkey kidney Vero E6 cells were maintained in DMEM supplemented with 10% fetal bovine serum (FBS). The cells were seeded into poly-L-lysine-coated 96-well plates at a density of 15,000 cells per well. The cells were then treated for 4 h with five-fold serial dilutions of famotidine, ranging between 0.32 µM and 200 µM. DMSO served as a negative control, while fivefold serial dilutions of remdesivir, ranging between 0.1 µM and 62.5 µM, served as a positive control. The cells were then infected with SARS-CoV-2 at a multiplicity of infection (MOI) of 0.1. To infect cells, the compound-containing medium was removed, and the cells were incubated with the virus for 1 h at 37ºC. The virus inoculum was then removed, and the cell monolayer was rinsed twice with 1X PBS. The compounds were added back followed by incubation for 72 h, after which the cell culture medium was harvested for quantitative real-time PCR (qRT-PCR) and plaque assays, while the cells were fixed with 4% paraformaldehyde for immunofluorescence microscopy.RNA was isolated from the cell culture supernatant of SARS-CoV-2-infected cells using the Quick-RNA Viral Kit (Zymo, California, USA cat no. R1035) according to the manufacturer’s instructions. Viral RNA was quantified using single-step RT-quantitative real-time PCR using the qScript One-Step RT-qPCR Kit (Quantabio, Massachusetts, USA; cat no. 95058) with primers and Taqman probes targeting the SARS-CoV-2 E gene as previously described42. Data were acquired using a Quantstudio3 Real-Time PCR System (Applied Biosystems) using the following conditions: 55 °C for 10 min, denaturation at 94 °C for 3 min, 45 cycles of denaturation at 94 °C for 15 s, and annealing at 58 °C for 30 s. The primers and probe used were as follow: E_Sarbeco_Forward: ACAGGTACGTTAATAGTTAATAGCGT; E_Sarbeco_Probe: FAM-ACACTAGCCATCCTTACTGCGCTTCG-BBQ; E_Sarbeco_Reverse: ATATTGCAGCAGTACGCACACA. For absolute quantification of viral RNA, a 389 bp fragment from the SARS-CoV-2 E gene was cloned onto pIDTBlue plasmid under an SP6 promoter using NEB PCR cloning kit (New England Biosciences, Massachusetts, USA; cat no. E1202S). The cloned fragment was then in-vitro transcribed using the mMessage mMachine SP6 transcription kit (ThermoFisher, Massachusetts, USA; cat no. AM1340) to generate the qRT-PCR standard.Virus-infected cells were fixed with 4% paraformaldehyde for 30 min. The fixative was removed, and the cell monolayer washed twice with 1X PBS. The cells were then permeabilized and stained with an anti-SARS-CoV Nucleocapsid (N) antibody (Rockland Inc., Pennsylvania, USA; cat. no. 200–401-A50; 1:2,000 dilution). Incubation with the primary antibody was performed overnight at 4ºC. The cells were then washed 5 times with 1X PBS and stained with Alexa 568-conjugated anti-rabbit antibody (1:1000 dilution) in the dark at room temperature for 1 h and counterstained with DAPI. Images were captured using EVOS M5000 Imaging System (ThermoFisher Scientific, Massachusetts, USA). Quantitation and analysis of the fixed cell images was carried out using the MuviCyte Live-Cell Imaging System (PerkinElmer, Massachusetts, USA). At least 7–10 microscopic fields were imaged per well using a 10X objective lens, the number of cells positive for the SARS-CoV-2 N protein and the nuclear DAPI stain, were counted. For each image, the percentage of DAPI-positive cells expressing the viral N protein were calculated, and the mean ± SD of multiple images for each condition was plotted.The CellTiter-Glo Luminescent Cell Viability Assay (Promega, Wisconsin, USA; cat no. G7570) was used to determine the cytotoxic effects of the compounds. Briefly, the cells were incubated with five-fold serial dilutions of famotidine or remdesivir for 72 h, after which the CellTiter-Glo Reagent was added to each well in a volume equal to the volume of the culture medium. The contents were mixed by shaking the plate on an orbital shaker for 2 min, followed by a 10 min incubation at room temperature. Luminescence was recorded using a Varioskan LUX multimode plate reader (ThermoFisher Scientific, Massachusetts, USA).'},\n",
              " {'meta': {'name': 'Potential of combating transmission of COVID-19 using novel self-cleaning superhydrophobic surfaces: part II—thermal, chemical, and mechanical durability',\n",
              "   'test_idx': 1},\n",
              "  'text': 'COVID-19 can be transmitted through airborne respiratory droplets, ejected as a result of coughing or sneezing through human contact with contaminated surfaces (Yang and Wang 2020; Gralinski and Menachery 2020). Recent studies by the National Institute of Allergy and Infectious Diseases (USA) have shown that the virus can infect fomites made of metals, polymers and recycled paper for days (Van Doremalen et al. 2020).Superhydrophobic surfaces have recently gained popularity in the biomedical sector due to their ability to possess blood repellency characteristics and reduce bacterial/viral adhesion to surfaces and their antifouling properties (Falde et al. 2016; Shin et al. 2016; Jaggessar et al. 2017). Earlier studies have shown that personal protective equipment (PPE) that have high contact angles (CA) and low sliding angles (SA) can significantly reduce a virus’s carryover potential and provide antimicrobial properties (Katoh et al. 2019; Tomšič et al. 2008; Yeerken et al. 2019).In Part I, we demonstrated the potential in creating superhydrophobic coatings and monoliths that are capable to combating the transmission and spread of COVID-19. However, one of the main challenges that restricts the widespread utilization of superhydrophobic coatings in real applications is their durability (Ellinas et al. 2017; Jeevahan et al. 2018). Specifically, thermal and chemical stability as well as mechanical strength. Elevated temperatures can lead to the thermal degradation of hydrocarbon coatings (Cha et al. 2013) or thermal desorption of the hydrophobic material (Saleema and Farzaneh 2008), which result in the loss of surface superhydrophobicity. Additionally, some polymeric superhydrophobic surfaces cannot withstand elevated temperatures and are not recommended to operate above their glass transition temperature (Ellinas et al. 2017).Similarly, chemical attack due to exposure to acidic or alkaline solutions can result in severe deterioration of the superhydrophobicity of the treated surfaces (BaratiDarband et al. 2020). For instance, highly alkaline or acidic solutions can result in dissolving the hydrophobic functional groups (Zhao et al. 2017; Ishizaki et al. 2010) and cause chemical desorption of the hydrophobic material (Cui et al. 2015).Mechanical wear is considered one of the main performance degradation mechanisms of superhydrophobic surfaces (Milionis et al. 2016). Indeed, numerous studies and tests have been conducted to evaluate the influence of abrasion tests on the mechanical durability of these surfaces (Ellinas et al. 2017; Mortazavi and Khonsari 2017). Superhydrophobic surfaces generally suffer from weak mechanical durability due to the fragility of their nano/micro-hierarchical surface structure (Mortazavi and Khonsari 2017; Zhang et al. 2013). Additionally, polymeric materials involved in fabricating superhydrophobic surfaces usually suffer from poor mechanical stability and robustness (Ellinas et al. 2017). In our previous work (Elzaabalawy et al. 2019), we demonstrated that high external compressive loads can also lead to permanent plastic deformation of the surface hierarchical structure and the embedment of the hydrophobic nanoparticles, which ultimately cause a complete loss of superhydrophobicity.COVID-19 spreads mainly through droplet transmission or via contacting fomites. We believe that surfaces coated with or created from a superhydrophobic nanocomposite has the potential of combating virus transmission and spread through a 3-step strategy discussed in Part I. The superhydrophobic nanocomposites acquire their protection characteristics through chemical modification as well as a hierarchical nano/microstructure of the modified surface. However, typical surfaces are subjected to elevated temperatures, chemical attacks and mechanical damage during service. As a result, the surface repellency characteristics may be altered and the effectiveness and the potential of the surface to encapsulate and suppress the virus might be lost. For nanocomposite superhydrophobic surfaces, utilizing different polymeric materials can be used to vary the flexibility and durability of the developed surfaces. For instance, silicone polymers can be used when flexibility is sought, and epoxy can be employed to meet the requirements of harsh mechanical environments. The durability of the nanocomposite can also be enhanced and tailored by selecting constituent materials that possess high thermal and chemical stability. Moreover, superhydrophobic monoliths with regenerative capabilities can be employed in severe service conditions to accommodate mechanical damage. Since these monoliths acquire water repellency features throughout the entire bulk of the material, surfaces can be regenerated by removing the damaged layer and exposing a new superhydrophobic layer. In this case, superhydrophobicity can be maintained as long as the monolith’s thickness can accommodate a layer removal.The aim of Part II is to assess the ability of the superhydrophobic coating and monoliths discussed in Part I to resist thermal degradation, chemical attacks, and mechanical damage. Three aspects of the work were accordingly examined. The first was concerned with thermal stability tests in which the superhydrophobic surfaces were subjected to elevated temperatures approaching 350 °C for silicone-based nanocomposites and 150 °C for epoxy-based nanocomposites. The second was concerned with subjecting the surfaces to alkaline and acidic environments with PH values ranging between 1 and 13. Finally, the mechanical durability of the surface of epoxy-based nanocomposite coating was assessed using abrasion tests, while the regenerative capability of the silicone-based nanocomposite monoliths was evaluated using compressive loading. Given below is a summary of the approach adopted and the outcomes of our research.In this research program, superhydrophobic coatings and monoliths were developed using epoxy and silicone nanocomposites. We demonstrated the ability of these coatings to modify the surface characteristics of different substrate materials, as shown in Fig. 1. We have also succeeded in fabricating a bulk that is entirely superhydrophobic. In order to assess the thermal, chemical, and mechanical stability of these surfaces, multiple tests were conducted.Since superhydrophobic surfaces are characterized by CA above 150° and SA below 10°, the superhydrophobicity in these tests was assessed by measuring the contact and sliding angles. Contact angles were measured using an OCA 15EC contact angle analyzer (DataPhysics Instruments, Fig. 2), while sliding angles were measured using an in-house apparatus with controlled surface tilting until droplets roll off is achieved.As organic polymers, epoxy thermosets will degrade under thermo-oxidative conditions, and this degradation typically initiates at the surface. It is therefore necessary to conduct thermal stability tests for the superhydrophobic surface to ensure that water repellency is maintained after being subjected to surges of elevated temperatures. Unlike organic polymers, silicone is characterized by its higher thermal resistance due to the high stability of its siloxane backbone.In order to examine the thermal durability, coated samples and monoliths were placed in an oven for 3 h. Tests were conducted for different temperatures and the maximum temperature was selected based on the polymer’s auto-ignition temperature. Upon completing the test, samples were left to cool down, and then the contact and sliding angles were re-evaluated to assess their superhydrophobicity characteristics.For epoxy-based nanocomposites, thermal durability tests were conducted for temperatures between 75 and 150 °C in 25 °C increments. As depicted in Fig. 3, no variation was observed to the values of CA (~ 165°) or SA (~ 3°) for all of the tested temperatures. These results verify that the coated samples maintained their superhydrophobicity and the siloxane-modification process (Part I) succeeded in enhancing the water repellency of epoxy without compromising its durability.Silicone-based nanocomposites were tested for temperatures between 150 °C and 350 °C in 50 °C increments. As shown in Fig. 4, the coated samples and monoliths maintained high CA (~ 167° for monoliths and ~ 163° for coatings) and low SA (6° for monoliths and 5° for coatings) throughout the entire temperature range. These results further demonstrate the capability of the strong siloxane backbone within the polymer chemical structure to withstand elevated temperatures and maintain the superhydrophobicity of the nanocomposite.Chemical attacks or short-term immersion in corrosive solutions can result in severe degradation of the surface characteristics. To assess the chemical stability of the developed superhydrophobic nanocomposites, samples were immersed in acidic and alkaline solutions for 3 h at room temperature in a fume hood, as depicted in Fig. 5. Solutions were prepared using sulphuric acid or sodium hydroxide, which were diluted using distilled water to achieve pH values between 1 and 13. Following the immersion, water repellency of the samples was again evaluated by measuring the contact and sliding angles.Following the immersion tests, samples were observed to check their reflective appearance in the solution, which indicates a stable Cassie-Baxter wetting state, and to be completely dry upon removal. Furthermore, following the immersion, the CA and SA were measured for the epoxy-based and silicone-based nanocomposites, as depicted in Figs. 6 and 7, respectively. The measurements revealed that the nanocomposites are capable of maintaining their excellent superhydrophobicity for the entire range of pH values tested. Accordingly, these nanocomposites can operate and effectively maintain their performance in harsh service conditions that are subjected to acidic or alkaline chemical attacks.Abrasion is considered the most widely test used to evaluate the mechanical properties of superhydrophobic coatings (Milionis et al. 2016). Since silicone-based coatings are sought to provide flexibility rather than mechanical strength, abrasion tests were only conducted to evaluate the strength and durability of epoxy-based nanocomposite coatings. As schematically shown in Fig. 8, the samples were placed face down on silicon carbide coarse sandpaper (320 grit) under a calibrated weight pressure of ~ 1 kPa. Abrasion cycles (10 cm of linear displacement) were performed in alternating directions. Following each interval of cycles, debris were removed, and the contact and sliding angles were measured.The contact and sliding angles measurements following abrasion cycle intervals are demonstrated in Fig. 9. After 120 abrasion cycles, the coating was only able to maintain its high contact angle (> 150°), while the sliding angle increased above 10°. In order to examine the degradation caused to the nano/microstructure of the surface, SEM images were obtained,Figure 10 the results indicate that excessive abrasion cycles induce damage to the surface’s hierarchical structure (Fig. 9b) compared to the original superhydrophobic untouched coating (Fig. 9a). However, the nanocomposite coating was able to superbly sustain its superhydrophobicity after 90 abrasion cycles, which is attributed to the excellent adhesion strength and mechanical properties of epoxy polymers.Although the epoxy-based nanocomposite coating demonstrated excellent mechanical durability characteristics, service conditions can sometimes be harsher than a coating can handle. In those situations, a silicone-based nanocomposite monolith that is entirely superhydrophobic is an excellent replacement. Under harsh mechanical environment, the superhydrophobic surface’s hierarchical structure would be damaged. To obviate this damage, the surface can overcome that damage by the regeneration of a fresh superhydrophobic layer under controlled abrasion. In order to demonstrate these regenerative capabilities, monoliths were exposed to compressive stresses ranging between 1 and 10 MPa with the aid of a uniaxial electrohydraulic servo-controlled testing machine (Instron 5965). Samples with a square cross-section (20 mm × 20 mm) were placed between two flat metallic plates, and then the loading was applied at a displacement rate of 1 mm/min until the desired load was obtained. The compressive load was then maintained for 5 min before the samples were unloaded. Subsequently, CA and SA were measured after unloading and after samples were regenerated. The test set up is depicted in Fig. 11.The compression test results (Fig. 12) revealed that the monolith can withstand stresses up to 1 MPa without affecting its superhydrophobicity, in which CA and SA are maintained at ~ 167° and 6° respectively. For increased compressive stresses (3 and 5 MPa), gradual decrease in the CA and increase in SA were noticed. At a compressive stress of 10 MPa, CA reached ~ 149° and droplets were pinned to the surface and did not roll off even when applying a finite inclination angle. As shown in Fig. 13, SEM images indicated that this deterioration was caused by the plastic deformation in the surface’s hierarchical structure as a result of the high compressive stresses. Remarkably, the surface’s superhydrophobicity was fully restored upon the removal of the damaged layer through abrasion, and the respective CA and SA were fully recovered to ~ 167° and 6°, as depicted in Fig. 12. As observed, the regeneration process was successful for all values of destructive stresses (3–10 MPa).In this work, we examined the durability of the newly developed superhydrophobic surfaces proposed in Part I to potentially combat the transmission and spread of COVID-19. Thermal degradation, chemical attack and mechanical abrasion tests were conducted, and the superhydrophobic surface characteristics were re-tested and re-evaluated. Our extensive test results revealed that the developed epoxy-based and silicone-based nanocomposites can maintain their superhydrophobicity after being subjected for 3 h to elevated temperatures of 150 °C and 350 °C, respectively. The developed surfaces also preserved their characteristics after being immersed in alkaline and acidic solutions (pH values 1–13) for 3 h. In order to assess the mechanical durability of epoxy-based nanocomposites, samples were subjected to abrasion tests, and they were capable of maintaining their superhydrophobicity for 90 abrasion cycles. Moreover, the regeneration capabilities of the silicone-based nanocomposites were demonstrated by subjecting the monoliths to destructive compressive loads (up to 10 MPa), and then the high CA and low SA were easily restored through abrasion. These results verify the ability of these surfaces to survive harsh service conditions and their potential use to combat the transmission and spread of infected surfaces. It is important to note that we have neither examined the combined effect of these parameters upon the surface characteristics of the developed superhydrophobic surfaces nor the prolonged exposure to these conditions (aging), which are considered beyond the scope of the current study.'},\n",
              " {'meta': {'name': 'Flank pain as a symptom of COVID-19', 'test_idx': 2},\n",
              "  'text': '\\nASymptomatic treatment onlyBRefer to physical therapy for flank pain related to muscle spasm.CThe patient should be hospitalized and followed up in the hospital until his complaints are resolvedDAbdominal CT images of the patient should be re-evaluated in the lung parenchyma window.\\n\\nD- The abdominal CT images of the patient were re-evaluated in the lung parenchyma window and referred to the pandemic outpatient clinic with suspected COVID-19.When the abdominal CT of the patient was reevaluated using lung parenchyma window, with COVID-19, more pronounced peripheral areas and diffuse patchy ground glass densities in both lung lower lobes were observed, concerning for a diagnosis of COVID19. (Figure 3\\n). The patient did not have any symptoms associated with COVID-19 such as fever, cough and shortness of breath at the time of admission. Polymerase chain reaction (PCR) test was positive. Abdominal and back pain have long been described as a symptom in pneumonia in both adults and children secondary to pleural irritation 3\\n,\\n4. Irritation-related flank pain caused by inflammation in the lung basal may be the first symptom of COVID-19 disease in some patients.'}]"
            ]
          },
          "metadata": {
            "tags": []
          },
          "execution_count": 48
        }
      ]
    },
    {
      "cell_type": "code",
      "metadata": {
        "id": "QNLMcEKdiDPS"
      },
      "source": [
        "document_store.write_documents(dicts_2)"
      ],
      "execution_count": null,
      "outputs": []
    },
    {
      "cell_type": "markdown",
      "metadata": {
        "id": "OznkfWOEbCi_"
      },
      "source": [
        "## Retriever"
      ]
    },
    {
      "cell_type": "code",
      "metadata": {
        "id": "Hxsmob_KcdmY"
      },
      "source": [
        "from haystack.retriever.sparse import ElasticsearchRetriever\n",
        "retriever = ElasticsearchRetriever(document_store=document_store)"
      ],
      "execution_count": 51,
      "outputs": []
    },
    {
      "cell_type": "markdown",
      "metadata": {
        "id": "2VeW1gyCcp74"
      },
      "source": [
        "##Reader"
      ]
    },
    {
      "cell_type": "code",
      "metadata": {
        "id": "9iOXruc2cu4a"
      },
      "source": [
        "reader = FARMReader(model_name_or_path='deepset/roberta-base-squad2-covid',\n",
        "                    use_gpu=True,\n",
        "                    context_window_size=500) # length of answer context"
      ],
      "execution_count": null,
      "outputs": []
    },
    {
      "cell_type": "markdown",
      "metadata": {
        "id": "NzoA6wX2dCQr"
      },
      "source": [
        "## Finder"
      ]
    },
    {
      "cell_type": "code",
      "metadata": {
        "colab": {
          "base_uri": "https://localhost:8080/"
        },
        "id": "JWvW_oVDdRLz",
        "outputId": "c50425db-603a-402d-fa32-73d34c0fcabf"
      },
      "source": [
        "#finder = Finder(reader, retriever)"
      ],
      "execution_count": null,
      "outputs": [
        {
          "output_type": "stream",
          "text": [
            "04/01/2021 06:07:20 - WARNING - haystack.finder -   DEPRECATION WARNINGS: \n",
            "            1. The 'Finder' class will be deprecated in the next Haystack release in \n",
            "            favour of a new `Pipeline` class that supports building custom search pipelines using Haystack components\n",
            "            including Retriever, Readers, and Generators.\n",
            "            For more details, please refer to the issue: https://github.com/deepset-ai/haystack/issues/544\n",
            "            2. The `question` parameter in search requests & results is renamed to `query`.\n"
          ],
          "name": "stderr"
        }
      ]
    },
    {
      "cell_type": "code",
      "metadata": {
        "id": "opWXQG4WdUHp"
      },
      "source": [
        "# updated version\n",
        "from haystack.pipeline import ExtractiveQAPipeline\n",
        "pipe = ExtractiveQAPipeline(reader, retriever)"
      ],
      "execution_count": 53,
      "outputs": []
    },
    {
      "cell_type": "markdown",
      "metadata": {
        "id": "4RgmXX-6Bc68"
      },
      "source": [
        "## Search"
      ]
    },
    {
      "cell_type": "code",
      "metadata": {
        "colab": {
          "base_uri": "https://localhost:8080/"
        },
        "id": "qqTNN7HDdxhR",
        "outputId": "e968c38a-dbec-4139-f5df-655dc4fe0352"
      },
      "source": [
        "# You can configure how many candidates the reader and retriever shall return\n",
        "# The higher top_k_retriever, the better (but also the slower) your answers. \n",
        "prediction = pipe.run(query=\"what is the covid19 symptom?\", top_k_retriever=10, top_k_reader=3)"
      ],
      "execution_count": 54,
      "outputs": [
        {
          "output_type": "stream",
          "text": [
            "04/01/2021 11:13:38 - INFO - elasticsearch -   POST http://localhost:9200/document/_search [status:200 request:0.318s]\n",
            "Inferencing Samples: 100%|██████████| 1/1 [00:00<00:00,  1.50 Batches/s]\n",
            "Inferencing Samples: 100%|██████████| 1/1 [00:00<00:00,  6.15 Batches/s]\n",
            "Inferencing Samples: 100%|██████████| 3/3 [00:00<00:00,  3.05 Batches/s]\n",
            "04/01/2021 11:13:40 - ERROR - farm.modeling.predictions -   Both start and end offsets should be 0: \n",
            "41658, 41658 with a no_answer. \n",
            "Inferencing Samples: 100%|██████████| 1/1 [00:00<00:00,  5.70 Batches/s]\n",
            "Inferencing Samples: 100%|██████████| 1/1 [00:00<00:00,  2.60 Batches/s]\n",
            "Inferencing Samples: 100%|██████████| 1/1 [00:00<00:00,  2.80 Batches/s]\n",
            "Inferencing Samples: 100%|██████████| 1/1 [00:00<00:00,  5.06 Batches/s]\n",
            "Inferencing Samples: 100%|██████████| 1/1 [00:00<00:00,  6.85 Batches/s]\n",
            "Inferencing Samples: 100%|██████████| 1/1 [00:00<00:00,  7.18 Batches/s]\n",
            "Inferencing Samples: 100%|██████████| 1/1 [00:00<00:00,  3.48 Batches/s]\n"
          ],
          "name": "stderr"
        }
      ]
    },
    {
      "cell_type": "code",
      "metadata": {
        "colab": {
          "base_uri": "https://localhost:8080/"
        },
        "id": "2tE7FMdYeLet",
        "outputId": "12130678-beb4-4585-90e8-7efb41d8b1b4"
      },
      "source": [
        "print(type(prediction))\n",
        "print('\\n===== Minimal Answer =====')\n",
        "print_answers(results=prediction, details='minimal')\n",
        "print('\\n===== Number of Answers =====')\n",
        "print(len(prediction['answers']))\n",
        "print('\\n===== Answer Structure =====')\n",
        "print(prediction['answers'][0].keys())\n",
        "print('\\n===== Meta Information =====')\n",
        "print(prediction['answers'][0]['meta'])\n",
        "print('\\n===== Length of Context =====')\n",
        "print(len(prediction['answers'][-1]['context']))"
      ],
      "execution_count": 55,
      "outputs": [
        {
          "output_type": "stream",
          "text": [
            "<class 'dict'>\n",
            "\n",
            "===== Minimal Answer =====\n",
            "[   {   'answer': 'the most common symptom was dizziness (16.8%) followed '\n",
            "                  'closely by headache (13.1%)',\n",
            "        'context': 'airment, neuropathic pain, Guillain-Barre Syndrome and '\n",
            "                   'variants), and skeletal muscular injury 2 . In one '\n",
            "                   'observational study from Wuhan, of the 36.4% of COVID19 '\n",
            "                   'patients who showed neurologic manifestations, the most '\n",
            "                   'common symptom was dizziness (16.8%) followed closely by '\n",
            "                   'headache (13.1%) 2 . In another prospective analysis out '\n",
            "                   'of Wuhan, headache was present in 8% of all patients, '\n",
            "                   'overall the most common neurological symptom 1 . Neither '\n",
            "                   'of these studies collected data on milder nervous system '},\n",
            "    {   'answer': 'that fever was the most common initial symptom, followed by '\n",
            "                  'a cough, fatigue and shortness of breath',\n",
            "        'context': 'and 100% Negative Prediction when applying deep learning '\n",
            "                   'models on the detection of COVID19 from 260 X-Rays images. '\n",
            "                   'Yan, H.-T. Zhang, Yang Xiao, et al. (2020) analysed '\n",
            "                   'patients with COVID19 and found that fever was the most '\n",
            "                   'common initial symptom, followed by a cough, fatigue and '\n",
            "                   'shortness of breath. They used over 300 variables and '\n",
            "                   'found that lactic dehydrogenase, lymphocyte and '\n",
            "                   'high-sensitivity C-reactive protein were key clinical '\n",
            "                   'features. Chen et al. (2020) analysed the clinical '\n",
            "                   'characterist'},\n",
            "    {   'answer': 'headache as a symptom',\n",
            "        'context': 'rticles shared on social media relevant to this topic were '\n",
            "                   'also collected and considered for this review. Here, we '\n",
            "                   'aim to provide aThis article is protected by copyright. '\n",
            "                   'All rights reserved brief summary regarding COVID19 as it '\n",
            "                   'relates to headache as a symptom, headache as a disease, '\n",
            "                   'and headache medicine practice in areas with high COVID19 '\n",
            "                   'prevalence.Respiratory viruses in general can cause '\n",
            "                   'neurologic symptoms with headache being among the most '\n",
            "                   'common (alongside encephalopathy, seizure, and en'}]\n",
            "\n",
            "===== Number of Answers =====\n",
            "3\n",
            "\n",
            "===== Answer Structure =====\n",
            "dict_keys(['answer', 'score', 'probability', 'context', 'offset_start', 'offset_end', 'offset_start_in_doc', 'offset_end_in_doc', 'document_id', 'meta'])\n",
            "\n",
            "===== Meta Information =====\n",
            "{'test_idx': 47034, 'name': 'TITLE PAGE COVID19 and Headache: A Primer for Trainees Authors'}\n",
            "\n",
            "===== Length of Context =====\n",
            "500\n"
          ],
          "name": "stdout"
        }
      ]
    }
  ]
}