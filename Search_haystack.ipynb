{
  "nbformat": 4,
  "nbformat_minor": 0,
  "metadata": {
    "accelerator": "GPU",
    "colab": {
      "name": "Search_haystack.ipynb",
      "provenance": [],
      "collapsed_sections": [],
      "authorship_tag": "ABX9TyMZ17F4XMNELcEgFMpYGuwZ",
      "include_colab_link": true
    },
    "kernelspec": {
      "display_name": "Python 3",
      "name": "python3"
    },
    "language_info": {
      "name": "python"
    }
  },
  "cells": [
    {
      "cell_type": "markdown",
      "metadata": {
        "id": "view-in-github",
        "colab_type": "text"
      },
      "source": [
        "<a href=\"https://colab.research.google.com/github/jonas-jun/haystack_search_engine/blob/main/Search_haystack.ipynb\" target=\"_parent\"><img src=\"https://colab.research.google.com/assets/colab-badge.svg\" alt=\"Open In Colab\"/></a>"
      ]
    },
    {
      "cell_type": "markdown",
      "metadata": {
        "id": "dnfcshcG-Crs"
      },
      "source": [
        "# Building a Faster & Accurate CORD Search Engine\n",
        "\n",
        "**Dataset**  \n",
        "COVID-19 Open Research Dataset Challenge (CORD-19)  \n",
        "An AI challenge with AI2, CZI, MSR, Georgetown, NIH & The White House\n",
        "[link](https://www.kaggle.com/allen-institute-for-ai/CORD-19-research-challenge)\n",
        "\n",
        "\n",
        "**Reference**  \n",
        "Medium [link](https://medium.com/analytics-vidhya/building-a-faster-and-accurate-search-engine-on-custom-dataset-with-transformers-d1277bedff3d)  \n",
        "Kaggle notebook [link](https://www.kaggle.com/officialshivanandroy/building-faster-accurate-cord-search-engine)  \n",
        "Haystack [link](https://github.com/deepset-ai/haystack)  \n",
        "Basic QA pipeline tutorial by Farm-Haystack [Colab link](https://colab.research.google.com/github/deepset-ai/haystack/blob/master/tutorials/Tutorial1_Basic_QA_Pipeline.ipynb#scrollTo=ENjEn8L4Y8Fo)  \n"
      ]
    },
    {
      "cell_type": "markdown",
      "metadata": {
        "id": "sdzprawl85Fn"
      },
      "source": [
        ""
      ]
    },
    {
      "cell_type": "markdown",
      "metadata": {
        "id": "pa0T5-NACpvp"
      },
      "source": [
        "## Prepare Haystack\n",
        "\n",
        "**What to build with Haystack**  \n",
        "- Ask questions in natural language and find granular answers in your documents.\n",
        "- Perform semantic search and retrieve documents according to meaning, not keywords\n",
        "- Use off-the-shelf models or fine-tune them to your domain.\n",
        "- Use user feedback to evaluate, benchmark, and continuously improve your live models.\n",
        "- Leverage existing knowledge bases and better handle the long tail of queries that chatbots receive.\n",
        "- Automate processes by automatically applying a list of questions to new documents and using the extracted answers."
      ]
    },
    {
      "cell_type": "markdown",
      "metadata": {
        "id": "SjDW8_DlC7__"
      },
      "source": [
        "**For installation**  \n",
        "- from github !pip install git+https://github.com/deepset-ai/haystack.git"
      ]
    },
    {
      "cell_type": "code",
      "metadata": {
        "id": "D7JPMVLwGxQ6"
      },
      "source": [
        "!pip install git+https://github.com/deepset-ai/haystack.git"
      ],
      "execution_count": null,
      "outputs": []
    },
    {
      "cell_type": "code",
      "metadata": {
        "id": "93RN4Oe8HNVh",
        "colab": {
          "base_uri": "https://localhost:8080/"
        },
        "outputId": "14b6721a-5489-4d89-f4fb-0c2c51ee53de"
      },
      "source": [
        "from haystack import Finder\n",
        "from haystack.preprocessor.cleaning import clean_wiki_text #haystack.indexing -> haystack.preprocessor\n",
        "from haystack.preprocessor.utils import convert_files_to_dicts, fetch_archive_from_http\n",
        "from haystack.reader.farm import FARMReader\n",
        "from haystack.reader.transformers import TransformersReader\n",
        "from haystack.utils import print_answers"
      ],
      "execution_count": 2,
      "outputs": [
        {
          "output_type": "stream",
          "text": [
            "04/01/2021 11:35:06 - INFO - faiss.loader -   Loading faiss with AVX2 support.\n",
            "04/01/2021 11:35:06 - INFO - faiss.loader -   Loading faiss.\n",
            "04/01/2021 11:35:08 - INFO - farm.modeling.prediction_head -   Better speed can be achieved with apex installed from https://www.github.com/nvidia/apex .\n"
          ],
          "name": "stderr"
        }
      ]
    },
    {
      "cell_type": "markdown",
      "metadata": {
        "id": "4R5lwJht-ZVv"
      },
      "source": [
        "## Dataset\n",
        "\n",
        "from json to dataframe"
      ]
    },
    {
      "cell_type": "code",
      "metadata": {
        "colab": {
          "base_uri": "https://localhost:8080/"
        },
        "id": "nyZsdW17BZXz",
        "outputId": "6242c009-0b4d-403f-e754-0edebf4afeb9"
      },
      "source": [
        "# for colab\n",
        "from google.colab import drive\n",
        "drive.mount('/content/drive', force_remount=True)\n",
        "GDRIVE_HOME = '/content/drive/MyDrive'\n",
        "FOLDER = 'GSDS/2021_1/Search_engine_Haystack/data_cord'"
      ],
      "execution_count": 3,
      "outputs": [
        {
          "output_type": "stream",
          "text": [
            "Mounted at /content/drive\n"
          ],
          "name": "stdout"
        }
      ]
    },
    {
      "cell_type": "code",
      "metadata": {
        "id": "9PsP6s32B1LB"
      },
      "source": [
        "# # read 50,000 docs to dataframe [id, title, abstract, full text]\n",
        "# import numpy as np\n",
        "# import pandas as pd\n",
        "# import os\n",
        "# import json\n",
        "# import re\n",
        "# from tqdm import tqdm\n",
        "\n",
        "# dirs = ['pmc_json', 'pdf_json']\n",
        "# docs = list()\n",
        "# counts = list()\n",
        "\n",
        "# for d in dirs:\n",
        "#     print(d)\n",
        "#     counts = 0\n",
        "#     target_dir = os.path.join(GDRIVE_HOME, FOLDER, d)\n",
        "#     for f in tqdm(os.listdir(target_dir)):\n",
        "#         file_path = os.path.join(target_dir, f)\n",
        "#         j = json.load(open(file_path, 'rb'))\n",
        "#         paper_id = j['paper_id']\n",
        "#         paper_id = paper_id[-7:] # take last 7 characters for id\n",
        "#         title = j['metadata']['title']\n",
        "\n",
        "#         try: # no abstracts in some docs\n",
        "#             abstract = j['abstract'][0]['text']\n",
        "#         except:\n",
        "#             abstract = ''\n",
        "\n",
        "#         full_text = str()\n",
        "#         bib_entries = list()\n",
        "#         for text in j['body_text']:\n",
        "#             full_text += text['text']\n",
        "\n",
        "#         docs.append([paper_id, title, abstract, full_text])\n",
        "#         counts += 1\n",
        "#         if count >= 25000:\n",
        "#             break # only for 25000 files\n",
        "\n",
        "# df = pd.DataFrame(docs, columns=['paper_id', 'title', 'abstract', 'full_text'])"
      ],
      "execution_count": 4,
      "outputs": []
    },
    {
      "cell_type": "code",
      "metadata": {
        "colab": {
          "base_uri": "https://localhost:8080/",
          "height": 578
        },
        "id": "B_DnE0izNEZz",
        "outputId": "49b2ee1f-4156-4d57-8090-73c74d4c7ec9"
      },
      "source": [
        "import os\n",
        "import pandas as pd\n",
        "df = pd.read_csv(os.path.join(GDRIVE_HOME, FOLDER, 'processed.csv'))\n",
        "print('Shape of Dataframe: {}\\n'.format(df.shape))\n",
        "print('Information')\n",
        "print(df.info())\n",
        "print('\\nSamples')\n",
        "df.sample(5)"
      ],
      "execution_count": 5,
      "outputs": [
        {
          "output_type": "stream",
          "text": [
            "Shape of Dataframe: (50000, 4)\n",
            "\n",
            "Information\n",
            "<class 'pandas.core.frame.DataFrame'>\n",
            "RangeIndex: 50000 entries, 0 to 49999\n",
            "Data columns (total 4 columns):\n",
            " #   Column     Non-Null Count  Dtype \n",
            "---  ------     --------------  ----- \n",
            " 0   paper_id   50000 non-null  object\n",
            " 1   title      47432 non-null  object\n",
            " 2   abstract   17286 non-null  object\n",
            " 3   full_text  50000 non-null  object\n",
            "dtypes: object(4)\n",
            "memory usage: 1.5+ MB\n",
            "None\n",
            "\n",
            "Samples\n"
          ],
          "name": "stdout"
        },
        {
          "output_type": "execute_result",
          "data": {
            "text/html": [
              "<div>\n",
              "<style scoped>\n",
              "    .dataframe tbody tr th:only-of-type {\n",
              "        vertical-align: middle;\n",
              "    }\n",
              "\n",
              "    .dataframe tbody tr th {\n",
              "        vertical-align: top;\n",
              "    }\n",
              "\n",
              "    .dataframe thead th {\n",
              "        text-align: right;\n",
              "    }\n",
              "</style>\n",
              "<table border=\"1\" class=\"dataframe\">\n",
              "  <thead>\n",
              "    <tr style=\"text-align: right;\">\n",
              "      <th></th>\n",
              "      <th>paper_id</th>\n",
              "      <th>title</th>\n",
              "      <th>abstract</th>\n",
              "      <th>full_text</th>\n",
              "    </tr>\n",
              "  </thead>\n",
              "  <tbody>\n",
              "    <tr>\n",
              "      <th>28058</th>\n",
              "      <td>f010403</td>\n",
              "      <td>6 Population Health Unit</td>\n",
              "      <td>Policy makers in Africa need robust estimates of the current and future spre...</td>\n",
              "      <td>The potential risk from SARS-CoV-2 to Africa was identified early in the glo...</td>\n",
              "    </tr>\n",
              "    <tr>\n",
              "      <th>6839</th>\n",
              "      <td>7833263</td>\n",
              "      <td>Fear and agony of the pandemic leading to stress and mental illness: An emer...</td>\n",
              "      <td>NaN</td>\n",
              "      <td>With the pandemic of the novel coronavirus (COVID-19) sweeping over the glob...</td>\n",
              "    </tr>\n",
              "    <tr>\n",
              "      <th>30708</th>\n",
              "      <td>a36c220</td>\n",
              "      <td>Mitteilungen der Deutschen Gesellschaft für Neurologie Rückblick und Ausblic...</td>\n",
              "      <td>Die DGN schaut auf ein erfolgreiches Jahr 2019 zurück. Die Mitgliederzahl is...</td>\n",
              "      <td>Wir sind sehr zufrieden. 2019 war ein spannendes Jahr, wir konnten viel auf ...</td>\n",
              "    </tr>\n",
              "    <tr>\n",
              "      <th>30289</th>\n",
              "      <td>daaa517</td>\n",
              "      <td>Identifying Facemask-Wearing Condition Using Image Super-Resolution with Cla...</td>\n",
              "      <td>The rapid worldwide spread of Coronavirus Disease 2019 has resulted in a glo...</td>\n",
              "      <td>Coronavirus disease 2019 (COVID- 19) is an emerging respiratory infectious d...</td>\n",
              "    </tr>\n",
              "    <tr>\n",
              "      <th>18522</th>\n",
              "      <td>7726608</td>\n",
              "      <td>Case management for frequent emergency department users: no longer a questio...</td>\n",
              "      <td>NaN</td>\n",
              "      <td>Ten years ago, an editorial entitled “Frequent Users of Emergency Department...</td>\n",
              "    </tr>\n",
              "  </tbody>\n",
              "</table>\n",
              "</div>"
            ],
            "text/plain": [
              "      paper_id  ...                                                                        full_text\n",
              "28058  f010403  ...  The potential risk from SARS-CoV-2 to Africa was identified early in the glo...\n",
              "6839   7833263  ...  With the pandemic of the novel coronavirus (COVID-19) sweeping over the glob...\n",
              "30708  a36c220  ...  Wir sind sehr zufrieden. 2019 war ein spannendes Jahr, wir konnten viel auf ...\n",
              "30289  daaa517  ...  Coronavirus disease 2019 (COVID- 19) is an emerging respiratory infectious d...\n",
              "18522  7726608  ...  Ten years ago, an editorial entitled “Frequent Users of Emergency Department...\n",
              "\n",
              "[5 rows x 4 columns]"
            ]
          },
          "metadata": {
            "tags": []
          },
          "execution_count": 5
        }
      ]
    },
    {
      "cell_type": "code",
      "metadata": {
        "colab": {
          "base_uri": "https://localhost:8080/"
        },
        "id": "s2rFe_gKizWR",
        "outputId": "4df4f88b-9324-40b9-a68c-344c00d61e86"
      },
      "source": [
        "# remove null samples in those columns\n",
        "df = df.dropna(subset=['paper_id', 'title', 'full_text']) # add 'paper_id'\n",
        "df.info()"
      ],
      "execution_count": 6,
      "outputs": [
        {
          "output_type": "stream",
          "text": [
            "04/01/2021 11:36:01 - INFO - numexpr.utils -   NumExpr defaulting to 2 threads.\n"
          ],
          "name": "stderr"
        },
        {
          "output_type": "stream",
          "text": [
            "<class 'pandas.core.frame.DataFrame'>\n",
            "Int64Index: 47432 entries, 0 to 49999\n",
            "Data columns (total 4 columns):\n",
            " #   Column     Non-Null Count  Dtype \n",
            "---  ------     --------------  ----- \n",
            " 0   paper_id   47432 non-null  object\n",
            " 1   title      47432 non-null  object\n",
            " 2   abstract   16608 non-null  object\n",
            " 3   full_text  47432 non-null  object\n",
            "dtypes: object(4)\n",
            "memory usage: 1.8+ MB\n"
          ],
          "name": "stdout"
        }
      ]
    },
    {
      "cell_type": "markdown",
      "metadata": {
        "id": "O55kawXKbr5S"
      },
      "source": [
        "## Set up DocumentStore (종류별로 조사)\n",
        "\n",
        "*Haystack* finds answer to queries within the documents stored in a *DocumentStore*.  \n",
        "\n",
        "The current implementations of DocumentStore include *ElasticsearchDocumentStore*, *SQLDocumentStore*, *FAISSDocumentStore*, and *InMemoryDocumentStore*.  \n",
        "\n",
        "But they recommend *ElasticsearchDocumentStore* because as it comes preloaded with features like full-text queries, BM25 retrieval, and vector storage for text embeddings."
      ]
    },
    {
      "cell_type": "code",
      "metadata": {
        "id": "tqvpQ2XjyLDj"
      },
      "source": [
        "# Recommended: Start Elasticsearch using Docker (basic, but manually download in colab)\n",
        "#! docker run -d -p 9200:9200 -e \"discovery.type=single-node\" elasticsearch:7.9.2"
      ],
      "execution_count": 7,
      "outputs": []
    },
    {
      "cell_type": "code",
      "metadata": {
        "id": "4FLaAQmNgvTd"
      },
      "source": [
        "! wget https://artifacts.elastic.co/downloads/elasticsearch/elasticsearch-7.9.2-linux-x86_64.tar.gz -q\n",
        "! tar -xzf elasticsearch-7.9.2-linux-x86_64.tar.gz\n",
        "! chown -R daemon:daemon elasticsearch-7.9.2\n",
        "# version change to 7.9.2 from 7.6\n",
        "import os\n",
        "from subprocess import Popen, PIPE, STDOUT\n",
        "es_server = Popen(['elasticsearch-7.9.2/bin/elasticsearch'],\n",
        "                   stdout=PIPE, stderr=STDOUT,\n",
        "                   preexec_fn=lambda: os.setuid(1)  # as daemon\n",
        "                  )\n",
        "# wait until ES has started\n",
        "! sleep 30"
      ],
      "execution_count": 8,
      "outputs": []
    },
    {
      "cell_type": "code",
      "metadata": {
        "colab": {
          "base_uri": "https://localhost:8080/"
        },
        "id": "Rp6yA8C_hapA",
        "outputId": "04adbcbe-a0b6-4a7b-9cf8-e45cb5aa9797"
      },
      "source": [
        "# Connect to Elasticsearch\n",
        "from haystack.document_store.elasticsearch import ElasticsearchDocumentStore # file name changed from database to document_store\n",
        "document_store = ElasticsearchDocumentStore(host=\"localhost\", username=\"\", password=\"\", index=\"document\")"
      ],
      "execution_count": 9,
      "outputs": [
        {
          "output_type": "stream",
          "text": [
            "04/01/2021 11:36:42 - INFO - elasticsearch -   HEAD http://localhost:9200/ [status:200 request:0.083s]\n",
            "04/01/2021 11:36:42 - INFO - elasticsearch -   PUT http://localhost:9200/document [status:200 request:0.368s]\n",
            "04/01/2021 11:36:42 - INFO - elasticsearch -   PUT http://localhost:9200/label [status:200 request:0.204s]\n"
          ],
          "name": "stderr"
        }
      ]
    },
    {
      "cell_type": "markdown",
      "metadata": {
        "id": "hfOD2quZ_qsJ"
      },
      "source": [
        "Change structure of the dataset (dicts list)\n",
        "\n",
        "1. [{'name': str, 'text': str}, {'name': str, 'text': str}, ...]\n",
        "2. [{'text': str, 'meta': {'name': str, ...}, ...]"
      ]
    },
    {
      "cell_type": "code",
      "metadata": {
        "id": "V9CZf6_VeSV7"
      },
      "source": [
        "# Structure 1\n",
        "modified = df[['title', 'full_text']].rename(columns={'title': 'name', 'full_text': 'text'})\n",
        "dicts_1 = modified.to_dict(orient='records') # dictionary 만드는 방식"
      ],
      "execution_count": 10,
      "outputs": []
    },
    {
      "cell_type": "code",
      "metadata": {
        "id": "enybAqH8AwiF"
      },
      "source": [
        "dicts_1[:3]"
      ],
      "execution_count": null,
      "outputs": []
    },
    {
      "cell_type": "code",
      "metadata": {
        "id": "-ez02JYAA5S9"
      },
      "source": [
        "# Structure 2\n",
        "dicts_2 = list()\n",
        "\n",
        "for i in range(len(df['title'])):\n",
        "    data = df.iloc[i]\n",
        "    temp = dict()\n",
        "    temp['text'] = data['full_text']\n",
        "    temp['meta'] = {'name': data['title'], 'p_id': data['paper_id']}\n",
        "    dicts_2.append(temp)"
      ],
      "execution_count": 12,
      "outputs": []
    },
    {
      "cell_type": "code",
      "metadata": {
        "id": "xo6NxVOFB3K7"
      },
      "source": [
        "dicts_2[:3]"
      ],
      "execution_count": null,
      "outputs": []
    },
    {
      "cell_type": "code",
      "metadata": {
        "id": "QNLMcEKdiDPS"
      },
      "source": [
        "document_store.write_documents(dicts_2)"
      ],
      "execution_count": null,
      "outputs": []
    },
    {
      "cell_type": "markdown",
      "metadata": {
        "id": "OznkfWOEbCi_"
      },
      "source": [
        "## Retriever"
      ]
    },
    {
      "cell_type": "code",
      "metadata": {
        "id": "Hxsmob_KcdmY"
      },
      "source": [
        "from haystack.retriever.sparse import ElasticsearchRetriever\n",
        "retriever = ElasticsearchRetriever(document_store=document_store)"
      ],
      "execution_count": 15,
      "outputs": []
    },
    {
      "cell_type": "markdown",
      "metadata": {
        "id": "2VeW1gyCcp74"
      },
      "source": [
        "##Reader"
      ]
    },
    {
      "cell_type": "code",
      "metadata": {
        "id": "9iOXruc2cu4a"
      },
      "source": [
        "reader = FARMReader(model_name_or_path='deepset/roberta-base-squad2-covid',\n",
        "                    use_gpu=True,\n",
        "                    context_window_size=500) # length of answer context"
      ],
      "execution_count": null,
      "outputs": []
    },
    {
      "cell_type": "markdown",
      "metadata": {
        "id": "NzoA6wX2dCQr"
      },
      "source": [
        "## Finder"
      ]
    },
    {
      "cell_type": "code",
      "metadata": {
        "id": "JWvW_oVDdRLz"
      },
      "source": [
        "#finder = Finder(reader, retriever)"
      ],
      "execution_count": 17,
      "outputs": []
    },
    {
      "cell_type": "code",
      "metadata": {
        "id": "opWXQG4WdUHp"
      },
      "source": [
        "# updated version\n",
        "from haystack.pipeline import ExtractiveQAPipeline\n",
        "pipe = ExtractiveQAPipeline(reader, retriever)"
      ],
      "execution_count": 18,
      "outputs": []
    },
    {
      "cell_type": "markdown",
      "metadata": {
        "id": "4RgmXX-6Bc68"
      },
      "source": [
        "## Search"
      ]
    },
    {
      "cell_type": "code",
      "metadata": {
        "id": "qqTNN7HDdxhR"
      },
      "source": [
        "# You can configure how many candidates the reader and retriever shall return\n",
        "# The higher top_k_retriever, the better (but also the slower) your answers. \n",
        "prediction = pipe.run(query=\"what is the covid19 symptom?\", top_k_retriever=10, top_k_reader=3)"
      ],
      "execution_count": null,
      "outputs": []
    },
    {
      "cell_type": "code",
      "metadata": {
        "colab": {
          "base_uri": "https://localhost:8080/"
        },
        "id": "2tE7FMdYeLet",
        "outputId": "9b52d42d-acab-4d54-976b-bc9dc8eaf305"
      },
      "source": [
        "print(type(prediction))\n",
        "print('\\n===== Minimal Answer =====')\n",
        "print_answers(results=prediction, details='minimal')\n",
        "print('\\n===== Number of Answers =====')\n",
        "print(len(prediction['answers']))\n",
        "print('\\n===== Answer Structure =====')\n",
        "print(prediction['answers'][0].keys())\n",
        "print('\\n===== Meta Information =====')\n",
        "print(prediction['answers'][0]['meta'])\n",
        "print('\\n===== Length of Context =====')\n",
        "print(len(prediction['answers'][-1]['context']))"
      ],
      "execution_count": 20,
      "outputs": [
        {
          "output_type": "stream",
          "text": [
            "<class 'dict'>\n",
            "\n",
            "===== Minimal Answer =====\n",
            "[   {   'answer': 'the most common symptom was dizziness (16.8%) followed '\n",
            "                  'closely by headache (13.1%)',\n",
            "        'context': 'airment, neuropathic pain, Guillain-Barre Syndrome and '\n",
            "                   'variants), and skeletal muscular injury 2 . In one '\n",
            "                   'observational study from Wuhan, of the 36.4% of COVID19 '\n",
            "                   'patients who showed neurologic manifestations, the most '\n",
            "                   'common symptom was dizziness (16.8%) followed closely by '\n",
            "                   'headache (13.1%) 2 . In another prospective analysis out '\n",
            "                   'of Wuhan, headache was present in 8% of all patients, '\n",
            "                   'overall the most common neurological symptom 1 . Neither '\n",
            "                   'of these studies collected data on milder nervous system '},\n",
            "    {   'answer': 'that fever was the most common initial symptom, followed by '\n",
            "                  'a cough, fatigue and shortness of breath',\n",
            "        'context': 'and 100% Negative Prediction when applying deep learning '\n",
            "                   'models on the detection of COVID19 from 260 X-Rays images. '\n",
            "                   'Yan, H.-T. Zhang, Yang Xiao, et al. (2020) analysed '\n",
            "                   'patients with COVID19 and found that fever was the most '\n",
            "                   'common initial symptom, followed by a cough, fatigue and '\n",
            "                   'shortness of breath. They used over 300 variables and '\n",
            "                   'found that lactic dehydrogenase, lymphocyte and '\n",
            "                   'high-sensitivity C-reactive protein were key clinical '\n",
            "                   'features. Chen et al. (2020) analysed the clinical '\n",
            "                   'characterist'},\n",
            "    {   'answer': 'headache as a symptom',\n",
            "        'context': 'rticles shared on social media relevant to this topic were '\n",
            "                   'also collected and considered for this review. Here, we '\n",
            "                   'aim to provide aThis article is protected by copyright. '\n",
            "                   'All rights reserved brief summary regarding COVID19 as it '\n",
            "                   'relates to headache as a symptom, headache as a disease, '\n",
            "                   'and headache medicine practice in areas with high COVID19 '\n",
            "                   'prevalence.Respiratory viruses in general can cause '\n",
            "                   'neurologic symptoms with headache being among the most '\n",
            "                   'common (alongside encephalopathy, seizure, and en'}]\n",
            "\n",
            "===== Number of Answers =====\n",
            "3\n",
            "\n",
            "===== Answer Structure =====\n",
            "dict_keys(['answer', 'score', 'probability', 'context', 'offset_start', 'offset_end', 'offset_start_in_doc', 'offset_end_in_doc', 'document_id', 'meta'])\n",
            "\n",
            "===== Meta Information =====\n",
            "{'p_id': '07cb005', 'name': 'TITLE PAGE COVID19 and Headache: A Primer for Trainees Authors'}\n",
            "\n",
            "===== Length of Context =====\n",
            "500\n"
          ],
          "name": "stdout"
        }
      ]
    },
    {
      "cell_type": "code",
      "metadata": {
        "id": "LN0o6jFkKYl2"
      },
      "source": [
        ""
      ],
      "execution_count": 88,
      "outputs": []
    }
  ]
}